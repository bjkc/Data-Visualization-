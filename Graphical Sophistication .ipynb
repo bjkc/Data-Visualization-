{
  "nbformat": 4,
  "nbformat_minor": 0,
  "metadata": {
    "colab": {
      "name": "Untitled27.ipynb",
      "provenance": [],
      "authorship_tag": "ABX9TyMBnBq436lamZ7+GBxsHJEY",
      "include_colab_link": true
    },
    "kernelspec": {
      "name": "python3",
      "display_name": "Python 3"
    },
    "language_info": {
      "name": "python"
    }
  },
  "cells": [
    {
      "cell_type": "markdown",
      "metadata": {
        "id": "view-in-github",
        "colab_type": "text"
      },
      "source": [
        "<a href=\"https://colab.research.google.com/github/khatriprajwol/Data-Visualization-/blob/main/Graphical%20Sophistication%20.ipynb\" target=\"_parent\"><img src=\"https://colab.research.google.com/assets/colab-badge.svg\" alt=\"Open In Colab\"/></a>"
      ]
    },
    {
      "cell_type": "markdown",
      "source": [
        "#Graphical Sophistication "
      ],
      "metadata": {
        "id": "4FdjBLHUveI0"
      }
    },
    {
      "cell_type": "markdown",
      "source": [
        "[Number of Adult Frogs in a South Pond](https://i.ytimg.com/vi/RK0TSg6BU5s/maxresdefault.jpg)\n",
        "\n",
        "![FROG](https://i.ytimg.com/vi/RK0TSg6BU5s/maxresdefault.jpg)"
      ],
      "metadata": {
        "id": "H0-NjfHfYTWZ"
      }
    },
    {
      "cell_type": "markdown",
      "source": [
        "From the above graph we can tell that the size of frog in `May` is smaller than size of frog from `September`. But what is its message? By putting only two picture of frog is not enough to send the message to the readers. There is a gap betweem may and september, what was the size of frog around `Jun` and `July`? It is hard to tell from the graph. Here the graph fails to do great job in presenting its intention clearly at first place.  \n",
        "\n",
        "Let's see if it has any detection issuses? Well, it has a clear title with a big size, but the axis is not labeled at all. The title ssays the number of frogs, but all I can see is one frog in each month. In the `x-axis`, May and September is not differentiated properly. It is not a clear graph either. Instead of using frog it would have been appropriate to use bar graph, have made more sense. It is crystal clear that it has lot of issues of clarity of datas pattern, labels, limited information and so on. \n",
        "\n",
        "To understand the graph people have to spend a lot of their time finding out what is trying to say because it is not clear in many ways which can be considered as poor visualization. "
      ],
      "metadata": {
        "id": "V9xDZFZxeoE7"
      }
    },
    {
      "cell_type": "markdown",
      "source": [
        "[Policy Options](http://3.bp.blogspot.com/-WkfS-oGE7RA/UMFa3JLkZwI/AAAAAAAAAJc/NLxEc1GPQS8/s1600/Graph_mean_11-14-2012_example_for_blogpost.png)\n",
        "\n",
        "![](http://3.bp.blogspot.com/-WkfS-oGE7RA/UMFa3JLkZwI/AAAAAAAAAJc/NLxEc1GPQS8/s1600/Graph_mean_11-14-2012_example_for_blogpost.png)\n",
        "\n"
      ],
      "metadata": {
        "id": "I_4zIaBEY-5U"
      }
    },
    {
      "cell_type": "markdown",
      "source": [
        "In the above graph,  In my prespective we can easily tell the story and what is going on here. It shows the relationship between three types of policies. Starting with `Current` which a person can know easily about their on going policy and at the same time they can compare it with `Alternative A` and `Alternative B`. As a customer if an agent present this graph to me I think I will be clear just by looking at it. \n",
        "\n",
        "Also, not only it provides all the necessary infomation, it also makes a `clearity a high priority`. A good graph has a well labeled axis. In this graph it is stated clearly that it has both axis labeled appropriately. It also has a source mentioned in it. In fact, all the units of variable measured are defined. With in a data it does comparison of two variable `Beneficiary` and `Non-beneficiary`. Bar graph is a good form to use in this case and I could not provide with other standard forms. \n",
        "\n",
        "Let's see if there are any issues with the graph. Here all the data points can be seen with proper label. In addition to that graph has label and it is colorful that can helps differentiating two policies with large fonts. I think it is easy for someone unfamiliar with data can easily interpret the graph.\n",
        "\n"
      ],
      "metadata": {
        "id": "apPloybRpcvL"
      }
    },
    {
      "cell_type": "markdown",
      "source": [
        "If we `compare two graphs` then clearly the graph in the bottom does a great job in presenting a story with a `great visualization techniques`. There are so many things need to consider while making a graph. In the above two graphs, the one in the bottom graph `stand alone` and outstander the one with frog in it."
      ],
      "metadata": {
        "id": "ZDlLRFV4vmc7"
      }
    }
  ]
}