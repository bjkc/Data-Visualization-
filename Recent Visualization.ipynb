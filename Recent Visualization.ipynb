{
  "nbformat": 4,
  "nbformat_minor": 0,
  "metadata": {
    "colab": {
      "name": "Untitled39.ipynb",
      "provenance": [],
      "collapsed_sections": [],
      "authorship_tag": "ABX9TyOKZ6Ln+Ky/Lp10R2NM7uBy",
      "include_colab_link": true
    },
    "kernelspec": {
      "name": "python3",
      "display_name": "Python 3"
    },
    "language_info": {
      "name": "python"
    }
  },
  "cells": [
    {
      "cell_type": "markdown",
      "metadata": {
        "id": "view-in-github",
        "colab_type": "text"
      },
      "source": [
        "<a href=\"https://colab.research.google.com/github/khatriprajwol/Data-Visualization-/blob/main/Recent%20Visualization.ipynb\" target=\"_parent\"><img src=\"https://colab.research.google.com/assets/colab-badge.svg\" alt=\"Open In Colab\"/></a>"
      ]
    },
    {
      "cell_type": "markdown",
      "source": [
        "#**World Most Valuable Sports Team**\n",
        "\n",
        "\n",
        "Prajwol Khatri\n",
        "\n",
        "East Central University\n",
        "\n",
        "Spring 2022\n",
        "\n",
        "CPSMA 4313\n",
        "\n",
        "Instructor: Dr. Nicholas Jacob\n",
        "\n",
        "\n",
        "> **Abstract**: The media company is among the world's top providers of business, investing, finance, marketing, lifestyle, and sports news content. Forbes' may be famous for many reasons where it is also a great source of great visualization. In fact, the world most valuable sports team is ranked annually by forbes'. The name of the sport team is included from association football, American Football, baseball and basketball.[link](https://en.wikipedia.org/wiki/Forbes%27_list_of_the_most_valuable_sports_teams). \n",
        "\n",
        "\n",
        "\n",
        "##**Introduction**\n",
        "\n",
        "Sport is important for a human being. It plays a vital role to make our life better in many ways. Some people view sport as an entertainment with realizing the fact that it is helping them in maintaining healthy lifestyle. No doubt, a person who is engaged in sport make a road towards healthy and happy life. Nowadays it has become a platform of a business. Professional player can earn reasonable amount of money through it. Not only it represents or highlight the name of the team but also increases the fame of that particular place or country. In my opining sport is a worth topic to gather information and should be considered visualization. Since, it contains large amount of data which we can play with it and a topic I follow in a timley manner. \n",
        "\n",
        "##**Why Forbe and who are they?**\n",
        "\n",
        "In this project I am going to **visualize** the report from 2017 of the sports team around the globe. I chose forbe because, I believe it is a great source of visualization and meet the requirement of graphical excellence. No doubt the report is updated in a timely manner. Here is the [link](https://en.wikipedia.org/wiki/Forbes%27_list_of_the_most_valuable_sports_teams) of a wikipedia where you can also find more about it.  which has current information of the above topic. Forbe is a well known media company which has become a good platform to convey news from the variety of topic. The company was founded in 1917 by Bertie Charles Forbes and was taken over by Steve Forbes in 1990.\n",
        "[**Forbe**](https://www.forbes.com/?sh=18637b292254) is well-known for its lists, which it uses to rank people and companies in a variety of categories.One of the popular list is **`the most valuable sports teams in the world`**. \n",
        "\n",
        "\n"
      ],
      "metadata": {
        "id": "D04MLR9f1s30"
      }
    },
    {
      "cell_type": "markdown",
      "source": [
        "##[**BUSINESSINSIDER**](https://www.businessinsider.com/?op=1)\n",
        "\n",
        "![Picture1](https://i.insider.com/596d0218c50c2997008b4e32?width=1300&format=jpeg&auto=webp)\n",
        "\n",
        "The original source for above diagram is businessinside And link to the source is **https://www.businessinsider.com/most-valuable-sports-teams-franchises-world-2017-7**.\n"
      ],
      "metadata": {
        "id": "y4cgAD1DCzqX"
      }
    },
    {
      "cell_type": "markdown",
      "source": [
        "The above graph shows the information of the world valuable sports team which was recorded in 2017. Out of many sports and sports team through out the world. Some of them can be visualized in above graph. From the above graph we can see **Dallas Cowboys** has the highest bar and is worth 4.2 billion dollars and so so. "
      ],
      "metadata": {
        "id": "1Gnd2gxXPa13"
      }
    },
    {
      "cell_type": "markdown",
      "source": [
        "##[**WEFORUM**](https://www.weforum.org)\n",
        "![Picture 2](https://assets.weforum.org/editor/large_-c9Vxx3jYc8IwBeEQK9iLacOHxJ9SnhdcGKswIWaL6w.jpg)\n",
        "\n",
        "\n",
        "The original source of above diagram is from weforum. The link to the source is **https://www.weforum.org/agenda/2017/07/these-are-the-worlds-most-valuable-sports-teams-in-2017/** \n",
        "\n"
      ],
      "metadata": {
        "id": "RKWCl6DSCOO4"
      }
    },
    {
      "cell_type": "markdown",
      "source": [
        "Here, the above graph also shows the information about the world most valuable sports team in 2017. It includes all the information explicitly. As we can tell both of them is plotted using bar-graph. The use of color, symbol, labels are done appropriately.\n"
      ],
      "metadata": {
        "id": "NykgZ05yGSto"
      }
    },
    {
      "cell_type": "markdown",
      "source": [
        "\n",
        "##**So, why I am interested in these two might be your question? And how they are different?**\n",
        "Well, there there is not that much going on but, tiny detail matters. The represention of the information is different. One of the graphs shows club name and its logo. But other uses representation of the same information using figure. Is it not awesome how same information can illustrated in different way? Remember tiny detail matter and it has a meaning. Somebody looking at the statistics for the first time can tell what dallas cowboys is just by looking at the logo of a sport or looking at the picture of ball. \n",
        "\n",
        "##**Why should I consider them as a great visualization?**\n",
        "\n"
      ],
      "metadata": {
        "id": "yzHzIl1nOw7n"
      }
    }
  ]
}