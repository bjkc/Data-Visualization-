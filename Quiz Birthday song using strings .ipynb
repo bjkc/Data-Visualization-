{
  "nbformat": 4,
  "nbformat_minor": 0,
  "metadata": {
    "colab": {
      "name": "Untitled14.ipynb",
      "provenance": [],
      "collapsed_sections": [],
      "authorship_tag": "ABX9TyP95sAleuYlNj1+yKopltKS",
      "include_colab_link": true
    },
    "kernelspec": {
      "name": "python3",
      "display_name": "Python 3"
    },
    "language_info": {
      "name": "python"
    }
  },
  "cells": [
    {
      "cell_type": "markdown",
      "metadata": {
        "id": "view-in-github",
        "colab_type": "text"
      },
      "source": [
        "<a href=\"https://colab.research.google.com/github/khatriprajwol/Data-Visualization-/blob/main/Quiz%20Birthday%20song%20using%20strings%20.ipynb\" target=\"_parent\"><img src=\"https://colab.research.google.com/assets/colab-badge.svg\" alt=\"Open In Colab\"/></a>"
      ]
    },
    {
      "cell_type": "markdown",
      "source": [
        "#QUIZ 14"
      ],
      "metadata": {
        "id": "Fv11nFC8B5kk"
      }
    },
    {
      "cell_type": "code",
      "execution_count": 50,
      "metadata": {
        "colab": {
          "base_uri": "https://localhost:8080/"
        },
        "id": "qLTw9JkuBxOB",
        "outputId": "a4868dd7-e4da-41f2-adce-734348a00648"
      },
      "outputs": [
        {
          "output_type": "stream",
          "name": "stdout",
          "text": [
            "Happy Birthday to you.\n",
            "Happy Birthday to you.\n",
            "Happy Birthday dear Prajwol Khatri. \n",
            "Happy Birthday to you.\n"
          ]
        }
      ],
      "source": [
        "happy = 'Happy Birthday to you.'\n",
        "name = 'dear Prajwol Khatri. '\n",
        "print(happy  +  \"\\n\"  + happy+ \"\\n\" + happy[:-8] + \" \" + name + \"\\n\" + happy)"
      ]
    },
    {
      "cell_type": "markdown",
      "source": [
        "I have written a Birthday song for myself using Python code. No doubt, I have used string. "
      ],
      "metadata": {
        "id": "sZUq4qu4D2Sf"
      }
    },
    {
      "cell_type": "code",
      "source": [
        "h1 = 'Happy Birthday to you.'\n",
        "h2= 'Happy Birthday dear '\n",
        "Name = input(\"Enter your name followed by '.' : \")\n",
        "print(Name)\n"
      ],
      "metadata": {
        "colab": {
          "base_uri": "https://localhost:8080/"
        },
        "id": "NeQEeTAw5GyI",
        "outputId": "b91999f6-f92a-45bb-fee0-bde0e840d53e"
      },
      "execution_count": 51,
      "outputs": [
        {
          "output_type": "stream",
          "name": "stdout",
          "text": [
            "Enter your name followed by '.' : PK.\n",
            "PK.\n"
          ]
        }
      ]
    },
    {
      "cell_type": "code",
      "source": [
        "print(h1 + \"\\n\" + h1 + \"\\n\" + h2 + name + \"\\n\" + h1)"
      ],
      "metadata": {
        "colab": {
          "base_uri": "https://localhost:8080/"
        },
        "id": "EzSDyaew5rke",
        "outputId": "8e8010b0-da67-484a-dbd2-9932076f3e12"
      },
      "execution_count": 52,
      "outputs": [
        {
          "output_type": "stream",
          "name": "stdout",
          "text": [
            "Happy Birthday to you.\n",
            "Happy Birthday to you.\n",
            "Happy Birthday dear dear Prajwol Khatri. \n",
            "Happy Birthday to you.\n"
          ]
        }
      ]
    },
    {
      "cell_type": "markdown",
      "source": [
        "This is a different way of doing it. Also, it provides the flexibility of putting different name. "
      ],
      "metadata": {
        "id": "CMWgwtFG8Gnw"
      }
    }
  ]
}