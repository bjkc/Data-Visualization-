{
  "nbformat": 4,
  "nbformat_minor": 0,
  "metadata": {
    "colab": {
      "name": "Untitled37.ipynb",
      "provenance": [],
      "collapsed_sections": [],
      "authorship_tag": "ABX9TyOKznu6Jd4dhSEuL00B7jQB",
      "include_colab_link": true
    },
    "kernelspec": {
      "name": "python3",
      "display_name": "Python 3"
    },
    "language_info": {
      "name": "python"
    }
  },
  "cells": [
    {
      "cell_type": "markdown",
      "metadata": {
        "id": "view-in-github",
        "colab_type": "text"
      },
      "source": [
        "<a href=\"https://colab.research.google.com/github/khatriprajwol/Data-Visualization-/blob/main/Recreating%20The%20Master%20.ipynb\" target=\"_parent\"><img src=\"https://colab.research.google.com/assets/colab-badge.svg\" alt=\"Open In Colab\"/></a>"
      ]
    },
    {
      "cell_type": "markdown",
      "source": [
        "#TOP 20 MOST VALUABLE SOCCER TEAMS(2016)\n",
        "Here I would lke to present you one of my favorite topic again which is related to sport. In this project it focuses on top twenty most valuable soccer team over the year and how it changed. However, I will be recreting only one of it. Well, recreating masters work will not be easy but I will try my best. "
      ],
      "metadata": {
        "id": "pOe1PcL_S_ke"
      }
    },
    {
      "cell_type": "markdown",
      "source": [
        "![Picture1](https://www.adifferentleague.co.uk/wp-content/uploads/2016/05/juve-forbes2.jpg)\n"
      ],
      "metadata": {
        "id": "O_H8i4TCW6-S"
      }
    },
    {
      "cell_type": "markdown",
      "source": [
        "The above visualization is from 2016 but I would like to create similar master piece with a current data. In order to make similar visualization I will need the name of a club and its information. I tried to search data through **ESPN** but I could not find it. Therefore my alternative option was [wikipedia](https://en.wikipedia.org/wiki/Forbes%27_list_of_the_most_valuable_football_clubs).\n",
        "\n"
      ],
      "metadata": {
        "id": "S-nVj_LtXB20"
      }
    },
    {
      "cell_type": "markdown",
      "source": [
        "\n",
        "![Picture2](https://www.adifferentleague.co.uk/wp-content/uploads/2016/05/juve-forbes.jpg)\n",
        "\n",
        "\n",
        "\n",
        "\n"
      ],
      "metadata": {
        "id": "ekBrv7xXYOkZ"
      }
    },
    {
      "cell_type": "markdown",
      "source": [
        "Here is another diagram. As we can see the change in percentage from 2015 to 2016. Can we see any change? Yes, indeed. Let's see what we can expect in 2021. Well, the graph below shows the information how it changed in another year."
      ],
      "metadata": {
        "id": "45SrU7EfYcFh"
      }
    },
    {
      "cell_type": "markdown",
      "source": [
        "![Picture](https://www.statista.com/graphic/1/300578/team-value-of-soccer-teams.jpg)\n",
        "\n",
        "The above graph can be found in this [link](\"https://www.statista.com/statistics/300578/team-value-of-soccer-teams/\"). I think this graph did not do a great job in visualization. No doubtt it provides the information but still not a great visualization. \n",
        "\n",
        "\n",
        "#**THE GRAPH I WILL BE RECREATING**\n",
        "I am planning to use one of the first graph i.e. `Top 20 Most Valuable Soccer Team (2016)`. It looks a great visualization to me. In my graph it will not have **color key** because the data I have found associated with it do not contain the information about it. Hence, I would like to say my work as a recreating of some of master's work. "
      ],
      "metadata": {
        "id": "fh0mpP9vc4P3"
      }
    },
    {
      "cell_type": "code",
      "execution_count": 414,
      "metadata": {
        "id": "F8s6sFCDS66h"
      },
      "outputs": [],
      "source": [
        "import numpy as np #a matrix like package for handling data\n",
        "import pandas as pa #a R like package for handling data\n",
        "from scipy import stats #a way to just get a piece of a large package\n",
        "import matplotlib.pyplot as plt #a way to generate plots, histograms, bar charts, and other types of charts \n",
        "import seaborn as sns #it is based on matplotlib\n",
        "import requests #HTTP library\n",
        "import pandas as pd # used to manipulate data and analyze it\n",
        "from bs4 import BeautifulSoup #Used for a web scraping purposes to pull the data out of HTML and XML files\n",
        "import re #Used for regular expression in Python.\n"
      ]
    },
    {
      "cell_type": "markdown",
      "source": [
        ""
      ],
      "metadata": {
        "id": "hRkebZRzUx_q"
      }
    },
    {
      "cell_type": "code",
      "source": [
        "r = requests.get('https://en.wikipedia.org/wiki/Forbes%27_list_of_the_most_valuable_football_clubs')\n",
        "html_contents = r.text\n",
        "html_soup = BeautifulSoup(html_contents,\"lxml\")\n",
        "len(html_soup.find_all('table'))"
      ],
      "metadata": {
        "colab": {
          "base_uri": "https://localhost:8080/"
        },
        "id": "13RdZja-Udy9",
        "outputId": "99ff1156-1ddd-462e-f850-10a0be11bfbc"
      },
      "execution_count": 415,
      "outputs": [
        {
          "output_type": "execute_result",
          "data": {
            "text/plain": [
              "17"
            ]
          },
          "metadata": {},
          "execution_count": 415
        }
      ]
    },
    {
      "cell_type": "code",
      "source": [
        "html_soup.title"
      ],
      "metadata": {
        "colab": {
          "base_uri": "https://localhost:8080/"
        },
        "id": "o9NWgRY4UXKU",
        "outputId": "8f36d5fb-86ed-4a25-b614-f879569a689f"
      },
      "execution_count": 416,
      "outputs": [
        {
          "output_type": "execute_result",
          "data": {
            "text/plain": [
              "<title>Forbes' list of the most valuable football clubs - Wikipedia</title>"
            ]
          },
          "metadata": {},
          "execution_count": 416
        }
      ]
    },
    {
      "cell_type": "code",
      "source": [
        "tables = html_soup.find_all('table')\n",
        "\n",
        "df = pa.read_html(str(tables))[5]\n",
        "df"
      ],
      "metadata": {
        "colab": {
          "base_uri": "https://localhost:8080/",
          "height": 669
        },
        "id": "Q1WtoVYdUsz_",
        "outputId": "b77858fc-17e9-4ec4-d2d9-268529db87f9"
      },
      "execution_count": 417,
      "outputs": [
        {
          "output_type": "execute_result",
          "data": {
            "text/plain": [
              "    Rank                 Team  Country  Value ($M)[10]  Debt as% of value[8]  \\\n",
              "0      1          Real Madrid    Spain            3645                     3   \n",
              "1      2            Barcelona    Spain            3549                     2   \n",
              "2      3    Manchester United  England            3317                    20   \n",
              "3      4        Bayern Munich  Germany            2678                     0   \n",
              "4      5              Arsenal  England            2017                    17   \n",
              "5      6      Manchester City  England            1921                     0   \n",
              "6      7              Chelsea  England            1661                     0   \n",
              "7      8            Liverpool  England            1548                     5   \n",
              "8      9             Juventus    Italy            1299                     4   \n",
              "9     10    Tottenham Hotspur  England            1017                     2   \n",
              "10    11    Borussia Dortmund  Germany             836                     0   \n",
              "11    12                Milan    Italy             825                    32   \n",
              "12    13  Paris Saint-Germain   France             814                     0   \n",
              "13    14           Schalke 04  Germany             655                    21   \n",
              "14    15      Atlético Madrid    Spain             633                    22   \n",
              "15    16       Internazionale    Italy             559                    43   \n",
              "16    17      West Ham United  England             542                     6   \n",
              "17    18                 Roma    Italy             508                    36   \n",
              "18    19               Napoli    Italy             396                     0   \n",
              "19    20     Newcastle United  England             383                     0   \n",
              "\n",
              "    % changeon year  Revenue ($M)  \n",
              "0              12.0           694  \n",
              "1              12.0           675  \n",
              "2               7.0           625  \n",
              "3              14.0           570  \n",
              "4              54.0           524  \n",
              "5              40.0           558  \n",
              "6              21.0           505  \n",
              "7              58.0           471  \n",
              "8              55.0           390  \n",
              "9              69.0           310  \n",
              "10             19.0           338  \n",
              "11              6.0           240  \n",
              "12             28.0           578  \n",
              "13             15.0           264  \n",
              "14             45.0           225  \n",
              "15             27.0           198  \n",
              "16             76.0           194  \n",
              "17              NaN           217  \n",
              "18             12.0           151  \n",
              "19             10.0           104  "
            ],
            "text/html": [
              "\n",
              "  <div id=\"df-a93dfeb3-71dc-4a8a-b055-279bfff2bf3d\">\n",
              "    <div class=\"colab-df-container\">\n",
              "      <div>\n",
              "<style scoped>\n",
              "    .dataframe tbody tr th:only-of-type {\n",
              "        vertical-align: middle;\n",
              "    }\n",
              "\n",
              "    .dataframe tbody tr th {\n",
              "        vertical-align: top;\n",
              "    }\n",
              "\n",
              "    .dataframe thead th {\n",
              "        text-align: right;\n",
              "    }\n",
              "</style>\n",
              "<table border=\"1\" class=\"dataframe\">\n",
              "  <thead>\n",
              "    <tr style=\"text-align: right;\">\n",
              "      <th></th>\n",
              "      <th>Rank</th>\n",
              "      <th>Team</th>\n",
              "      <th>Country</th>\n",
              "      <th>Value ($M)[10]</th>\n",
              "      <th>Debt as% of value[8]</th>\n",
              "      <th>% changeon year</th>\n",
              "      <th>Revenue ($M)</th>\n",
              "    </tr>\n",
              "  </thead>\n",
              "  <tbody>\n",
              "    <tr>\n",
              "      <th>0</th>\n",
              "      <td>1</td>\n",
              "      <td>Real Madrid</td>\n",
              "      <td>Spain</td>\n",
              "      <td>3645</td>\n",
              "      <td>3</td>\n",
              "      <td>12.0</td>\n",
              "      <td>694</td>\n",
              "    </tr>\n",
              "    <tr>\n",
              "      <th>1</th>\n",
              "      <td>2</td>\n",
              "      <td>Barcelona</td>\n",
              "      <td>Spain</td>\n",
              "      <td>3549</td>\n",
              "      <td>2</td>\n",
              "      <td>12.0</td>\n",
              "      <td>675</td>\n",
              "    </tr>\n",
              "    <tr>\n",
              "      <th>2</th>\n",
              "      <td>3</td>\n",
              "      <td>Manchester United</td>\n",
              "      <td>England</td>\n",
              "      <td>3317</td>\n",
              "      <td>20</td>\n",
              "      <td>7.0</td>\n",
              "      <td>625</td>\n",
              "    </tr>\n",
              "    <tr>\n",
              "      <th>3</th>\n",
              "      <td>4</td>\n",
              "      <td>Bayern Munich</td>\n",
              "      <td>Germany</td>\n",
              "      <td>2678</td>\n",
              "      <td>0</td>\n",
              "      <td>14.0</td>\n",
              "      <td>570</td>\n",
              "    </tr>\n",
              "    <tr>\n",
              "      <th>4</th>\n",
              "      <td>5</td>\n",
              "      <td>Arsenal</td>\n",
              "      <td>England</td>\n",
              "      <td>2017</td>\n",
              "      <td>17</td>\n",
              "      <td>54.0</td>\n",
              "      <td>524</td>\n",
              "    </tr>\n",
              "    <tr>\n",
              "      <th>5</th>\n",
              "      <td>6</td>\n",
              "      <td>Manchester City</td>\n",
              "      <td>England</td>\n",
              "      <td>1921</td>\n",
              "      <td>0</td>\n",
              "      <td>40.0</td>\n",
              "      <td>558</td>\n",
              "    </tr>\n",
              "    <tr>\n",
              "      <th>6</th>\n",
              "      <td>7</td>\n",
              "      <td>Chelsea</td>\n",
              "      <td>England</td>\n",
              "      <td>1661</td>\n",
              "      <td>0</td>\n",
              "      <td>21.0</td>\n",
              "      <td>505</td>\n",
              "    </tr>\n",
              "    <tr>\n",
              "      <th>7</th>\n",
              "      <td>8</td>\n",
              "      <td>Liverpool</td>\n",
              "      <td>England</td>\n",
              "      <td>1548</td>\n",
              "      <td>5</td>\n",
              "      <td>58.0</td>\n",
              "      <td>471</td>\n",
              "    </tr>\n",
              "    <tr>\n",
              "      <th>8</th>\n",
              "      <td>9</td>\n",
              "      <td>Juventus</td>\n",
              "      <td>Italy</td>\n",
              "      <td>1299</td>\n",
              "      <td>4</td>\n",
              "      <td>55.0</td>\n",
              "      <td>390</td>\n",
              "    </tr>\n",
              "    <tr>\n",
              "      <th>9</th>\n",
              "      <td>10</td>\n",
              "      <td>Tottenham Hotspur</td>\n",
              "      <td>England</td>\n",
              "      <td>1017</td>\n",
              "      <td>2</td>\n",
              "      <td>69.0</td>\n",
              "      <td>310</td>\n",
              "    </tr>\n",
              "    <tr>\n",
              "      <th>10</th>\n",
              "      <td>11</td>\n",
              "      <td>Borussia Dortmund</td>\n",
              "      <td>Germany</td>\n",
              "      <td>836</td>\n",
              "      <td>0</td>\n",
              "      <td>19.0</td>\n",
              "      <td>338</td>\n",
              "    </tr>\n",
              "    <tr>\n",
              "      <th>11</th>\n",
              "      <td>12</td>\n",
              "      <td>Milan</td>\n",
              "      <td>Italy</td>\n",
              "      <td>825</td>\n",
              "      <td>32</td>\n",
              "      <td>6.0</td>\n",
              "      <td>240</td>\n",
              "    </tr>\n",
              "    <tr>\n",
              "      <th>12</th>\n",
              "      <td>13</td>\n",
              "      <td>Paris Saint-Germain</td>\n",
              "      <td>France</td>\n",
              "      <td>814</td>\n",
              "      <td>0</td>\n",
              "      <td>28.0</td>\n",
              "      <td>578</td>\n",
              "    </tr>\n",
              "    <tr>\n",
              "      <th>13</th>\n",
              "      <td>14</td>\n",
              "      <td>Schalke 04</td>\n",
              "      <td>Germany</td>\n",
              "      <td>655</td>\n",
              "      <td>21</td>\n",
              "      <td>15.0</td>\n",
              "      <td>264</td>\n",
              "    </tr>\n",
              "    <tr>\n",
              "      <th>14</th>\n",
              "      <td>15</td>\n",
              "      <td>Atlético Madrid</td>\n",
              "      <td>Spain</td>\n",
              "      <td>633</td>\n",
              "      <td>22</td>\n",
              "      <td>45.0</td>\n",
              "      <td>225</td>\n",
              "    </tr>\n",
              "    <tr>\n",
              "      <th>15</th>\n",
              "      <td>16</td>\n",
              "      <td>Internazionale</td>\n",
              "      <td>Italy</td>\n",
              "      <td>559</td>\n",
              "      <td>43</td>\n",
              "      <td>27.0</td>\n",
              "      <td>198</td>\n",
              "    </tr>\n",
              "    <tr>\n",
              "      <th>16</th>\n",
              "      <td>17</td>\n",
              "      <td>West Ham United</td>\n",
              "      <td>England</td>\n",
              "      <td>542</td>\n",
              "      <td>6</td>\n",
              "      <td>76.0</td>\n",
              "      <td>194</td>\n",
              "    </tr>\n",
              "    <tr>\n",
              "      <th>17</th>\n",
              "      <td>18</td>\n",
              "      <td>Roma</td>\n",
              "      <td>Italy</td>\n",
              "      <td>508</td>\n",
              "      <td>36</td>\n",
              "      <td>NaN</td>\n",
              "      <td>217</td>\n",
              "    </tr>\n",
              "    <tr>\n",
              "      <th>18</th>\n",
              "      <td>19</td>\n",
              "      <td>Napoli</td>\n",
              "      <td>Italy</td>\n",
              "      <td>396</td>\n",
              "      <td>0</td>\n",
              "      <td>12.0</td>\n",
              "      <td>151</td>\n",
              "    </tr>\n",
              "    <tr>\n",
              "      <th>19</th>\n",
              "      <td>20</td>\n",
              "      <td>Newcastle United</td>\n",
              "      <td>England</td>\n",
              "      <td>383</td>\n",
              "      <td>0</td>\n",
              "      <td>10.0</td>\n",
              "      <td>104</td>\n",
              "    </tr>\n",
              "  </tbody>\n",
              "</table>\n",
              "</div>\n",
              "      <button class=\"colab-df-convert\" onclick=\"convertToInteractive('df-a93dfeb3-71dc-4a8a-b055-279bfff2bf3d')\"\n",
              "              title=\"Convert this dataframe to an interactive table.\"\n",
              "              style=\"display:none;\">\n",
              "        \n",
              "  <svg xmlns=\"http://www.w3.org/2000/svg\" height=\"24px\"viewBox=\"0 0 24 24\"\n",
              "       width=\"24px\">\n",
              "    <path d=\"M0 0h24v24H0V0z\" fill=\"none\"/>\n",
              "    <path d=\"M18.56 5.44l.94 2.06.94-2.06 2.06-.94-2.06-.94-.94-2.06-.94 2.06-2.06.94zm-11 1L8.5 8.5l.94-2.06 2.06-.94-2.06-.94L8.5 2.5l-.94 2.06-2.06.94zm10 10l.94 2.06.94-2.06 2.06-.94-2.06-.94-.94-2.06-.94 2.06-2.06.94z\"/><path d=\"M17.41 7.96l-1.37-1.37c-.4-.4-.92-.59-1.43-.59-.52 0-1.04.2-1.43.59L10.3 9.45l-7.72 7.72c-.78.78-.78 2.05 0 2.83L4 21.41c.39.39.9.59 1.41.59.51 0 1.02-.2 1.41-.59l7.78-7.78 2.81-2.81c.8-.78.8-2.07 0-2.86zM5.41 20L4 18.59l7.72-7.72 1.47 1.35L5.41 20z\"/>\n",
              "  </svg>\n",
              "      </button>\n",
              "      \n",
              "  <style>\n",
              "    .colab-df-container {\n",
              "      display:flex;\n",
              "      flex-wrap:wrap;\n",
              "      gap: 12px;\n",
              "    }\n",
              "\n",
              "    .colab-df-convert {\n",
              "      background-color: #E8F0FE;\n",
              "      border: none;\n",
              "      border-radius: 50%;\n",
              "      cursor: pointer;\n",
              "      display: none;\n",
              "      fill: #1967D2;\n",
              "      height: 32px;\n",
              "      padding: 0 0 0 0;\n",
              "      width: 32px;\n",
              "    }\n",
              "\n",
              "    .colab-df-convert:hover {\n",
              "      background-color: #E2EBFA;\n",
              "      box-shadow: 0px 1px 2px rgba(60, 64, 67, 0.3), 0px 1px 3px 1px rgba(60, 64, 67, 0.15);\n",
              "      fill: #174EA6;\n",
              "    }\n",
              "\n",
              "    [theme=dark] .colab-df-convert {\n",
              "      background-color: #3B4455;\n",
              "      fill: #D2E3FC;\n",
              "    }\n",
              "\n",
              "    [theme=dark] .colab-df-convert:hover {\n",
              "      background-color: #434B5C;\n",
              "      box-shadow: 0px 1px 3px 1px rgba(0, 0, 0, 0.15);\n",
              "      filter: drop-shadow(0px 1px 2px rgba(0, 0, 0, 0.3));\n",
              "      fill: #FFFFFF;\n",
              "    }\n",
              "  </style>\n",
              "\n",
              "      <script>\n",
              "        const buttonEl =\n",
              "          document.querySelector('#df-a93dfeb3-71dc-4a8a-b055-279bfff2bf3d button.colab-df-convert');\n",
              "        buttonEl.style.display =\n",
              "          google.colab.kernel.accessAllowed ? 'block' : 'none';\n",
              "\n",
              "        async function convertToInteractive(key) {\n",
              "          const element = document.querySelector('#df-a93dfeb3-71dc-4a8a-b055-279bfff2bf3d');\n",
              "          const dataTable =\n",
              "            await google.colab.kernel.invokeFunction('convertToInteractive',\n",
              "                                                     [key], {});\n",
              "          if (!dataTable) return;\n",
              "\n",
              "          const docLinkHtml = 'Like what you see? Visit the ' +\n",
              "            '<a target=\"_blank\" href=https://colab.research.google.com/notebooks/data_table.ipynb>data table notebook</a>'\n",
              "            + ' to learn more about interactive tables.';\n",
              "          element.innerHTML = '';\n",
              "          dataTable['output_type'] = 'display_data';\n",
              "          await google.colab.output.renderOutput(dataTable, element);\n",
              "          const docLink = document.createElement('div');\n",
              "          docLink.innerHTML = docLinkHtml;\n",
              "          element.appendChild(docLink);\n",
              "        }\n",
              "      </script>\n",
              "    </div>\n",
              "  </div>\n",
              "  "
            ]
          },
          "metadata": {},
          "execution_count": 417
        }
      ]
    },
    {
      "cell_type": "markdown",
      "source": [
        "It is not a big data set but a perfect for me to recreate the above visualization. \n",
        "[link](https://github.com/nurfnick/Data_Viz/blob/main/RecreatingMasters.ipynb) Here, I am going to need to do lot of cleaning for the columns. \n"
      ],
      "metadata": {
        "id": "4A5xHfadV-23"
      }
    },
    {
      "cell_type": "code",
      "source": [
        "df.info()"
      ],
      "metadata": {
        "id": "trPIz2vNSVb-",
        "outputId": "fdaeb838-f0ee-4850-e368-78259653fa8d",
        "colab": {
          "base_uri": "https://localhost:8080/"
        }
      },
      "execution_count": 418,
      "outputs": [
        {
          "output_type": "stream",
          "name": "stdout",
          "text": [
            "<class 'pandas.core.frame.DataFrame'>\n",
            "RangeIndex: 20 entries, 0 to 19\n",
            "Data columns (total 7 columns):\n",
            " #   Column                Non-Null Count  Dtype  \n",
            "---  ------                --------------  -----  \n",
            " 0   Rank                  20 non-null     int64  \n",
            " 1   Team                  20 non-null     object \n",
            " 2   Country               20 non-null     object \n",
            " 3   Value ($M)[10]        20 non-null     int64  \n",
            " 4   Debt as% of value[8]  20 non-null     int64  \n",
            " 5   % changeon year       19 non-null     float64\n",
            " 6   Revenue ($M)          20 non-null     int64  \n",
            "dtypes: float64(1), int64(4), object(2)\n",
            "memory usage: 1.2+ KB\n"
          ]
        }
      ]
    },
    {
      "cell_type": "markdown",
      "source": [
        "The command **df.info()** helps me find **dtype**. There are four integer data, two object and one float. Also, I need to do lot of cleanings of my columns. You can see there are extra information which will make my visualization less effective."
      ],
      "metadata": {
        "id": "_yUZgkWYTf25"
      }
    },
    {
      "cell_type": "code",
      "source": [
        "df.columns"
      ],
      "metadata": {
        "id": "YKIyUraUTdWI",
        "outputId": "cbf9c56c-1c96-4b32-f5c6-2b957049b266",
        "colab": {
          "base_uri": "https://localhost:8080/"
        }
      },
      "execution_count": 419,
      "outputs": [
        {
          "output_type": "execute_result",
          "data": {
            "text/plain": [
              "Index(['Rank', 'Team', 'Country', 'Value ($M)[10]', 'Debt as% of value[8]',\n",
              "       '% changeon year', 'Revenue ($M)'],\n",
              "      dtype='object')"
            ]
          },
          "metadata": {},
          "execution_count": 419
        }
      ]
    },
    {
      "cell_type": "markdown",
      "source": [
        "Instead of going back and looking at my table columns name, I am running **df.columns** to list all the columns in my data. We can always go back and look at the columns name. However, df.columns just saves us lot of time and makes our job easier. Here, we can see there are [], (), %. Let's clean (%) part from the column and any other special character between them. "
      ],
      "metadata": {
        "id": "BdWwwNJqT9oo"
      }
    },
    {
      "cell_type": "code",
      "source": [
        "cols = df.columns.map(lambda s: re.sub(r\"[.\\d[(.$M%\\d)\\]]\",\"\",s))\n",
        "cols"
      ],
      "metadata": {
        "id": "FHBnINIuT85I",
        "outputId": "d35cf6b3-d9a4-48ba-bfc7-ba1ef7c2d4e4",
        "colab": {
          "base_uri": "https://localhost:8080/"
        }
      },
      "execution_count": 420,
      "outputs": [
        {
          "output_type": "execute_result",
          "data": {
            "text/plain": [
              "Index(['Rank', 'Team', 'Country', 'Value ', 'Debt as of value',\n",
              "       ' changeon year', 'Revenue '],\n",
              "      dtype='object')"
            ]
          },
          "metadata": {},
          "execution_count": 420
        }
      ]
    },
    {
      "cell_type": "markdown",
      "source": [
        "I have used **RegEx** package to clean my data. It took me a while to do this but surprisingly I figured it out. At first I tried it without () which gave me a pain in my head. However, after putting the brackets it seems to be working."
      ],
      "metadata": {
        "id": "gZKWjEbCgPLM"
      }
    },
    {
      "cell_type": "code",
      "source": [
        "df.columns = df.columns.map(lambda s: re.sub(r\"[.\\d[(.$M%\\d)\\]]\",\"\",s))"
      ],
      "metadata": {
        "id": "5VwrPOieefnX"
      },
      "execution_count": 421,
      "outputs": []
    },
    {
      "cell_type": "markdown",
      "source": [
        "Now, I will apply this to my old table. Let's see if my data is cleaned properly. "
      ],
      "metadata": {
        "id": "y4LIpkUh5-pc"
      }
    },
    {
      "cell_type": "code",
      "source": [
        "df.columns"
      ],
      "metadata": {
        "colab": {
          "base_uri": "https://localhost:8080/"
        },
        "id": "npNKU6uY6Gxe",
        "outputId": "ec61accf-5706-4180-f85e-f297c45934df"
      },
      "execution_count": 422,
      "outputs": [
        {
          "output_type": "execute_result",
          "data": {
            "text/plain": [
              "Index(['Rank', 'Team', 'Country', 'Value ', 'Debt as of value',\n",
              "       ' changeon year', 'Revenue '],\n",
              "      dtype='object')"
            ]
          },
          "metadata": {},
          "execution_count": 422
        }
      ]
    },
    {
      "cell_type": "markdown",
      "source": [
        "There is still a space between world, I will go ahead and clean those as well. "
      ],
      "metadata": {
        "id": "teMOmoHO6I-G"
      }
    },
    {
      "cell_type": "code",
      "source": [
        "cols1 = df.columns.map(lambda s: re.sub(r\" \",\"\",s))\n",
        "cols1"
      ],
      "metadata": {
        "colab": {
          "base_uri": "https://localhost:8080/"
        },
        "id": "60f2tuN2LY9A",
        "outputId": "d9ba0591-f562-46a1-85fe-184713a3f2fd"
      },
      "execution_count": 423,
      "outputs": [
        {
          "output_type": "execute_result",
          "data": {
            "text/plain": [
              "Index(['Rank', 'Team', 'Country', 'Value', 'Debtasofvalue', 'changeonyear',\n",
              "       'Revenue'],\n",
              "      dtype='object')"
            ]
          },
          "metadata": {},
          "execution_count": 423
        }
      ]
    },
    {
      "cell_type": "code",
      "source": [
        "df.columns = df.columns.map(lambda s: re.sub(r\" \",\"\",s))"
      ],
      "metadata": {
        "id": "mihyIXTG6Tha"
      },
      "execution_count": 424,
      "outputs": []
    },
    {
      "cell_type": "code",
      "source": [
        "df.columns"
      ],
      "metadata": {
        "colab": {
          "base_uri": "https://localhost:8080/"
        },
        "id": "q3BkmdnP6eDE",
        "outputId": "91ee086e-aeb5-496e-8988-bedd499ca9a2"
      },
      "execution_count": 425,
      "outputs": [
        {
          "output_type": "execute_result",
          "data": {
            "text/plain": [
              "Index(['Rank', 'Team', 'Country', 'Value', 'Debtasofvalue', 'changeonyear',\n",
              "       'Revenue'],\n",
              "      dtype='object')"
            ]
          },
          "metadata": {},
          "execution_count": 425
        }
      ]
    },
    {
      "cell_type": "markdown",
      "source": [
        "Now, I will apply this to my old table. In the below table now we can see the cleaned columns."
      ],
      "metadata": {
        "id": "3EyjjB_7gnnW"
      }
    },
    {
      "cell_type": "code",
      "source": [
        "\n",
        "from os import major\n",
        "\n",
        "plt.rcParams[\"figure.figsize\"] = [15, 8]\n",
        "plt.rcParams[\"figure.autolayout\"] = True\n",
        "sns.set_style('ticks')\n",
        "ax = sns.barplot(data = df, x = 'Team', y= \"Value\", color= 'Blue', ci= None, linewidth = 0.5 )\n",
        "ax.set_xticklabels(ax.get_xticklabels(),rotation = 60)\n",
        "ax.set_title('TOP 20 MOST VALUABLE SOCCER TEAMS 2021')\n",
        "ax.set_ylabel(\"TOTAL VALUATION (IN U.S. DOLLARS)\", size = float(15.0))\n",
        "sns.despine()\n",
        "plt.show()"
      ],
      "metadata": {
        "colab": {
          "base_uri": "https://localhost:8080/",
          "height": 585
        },
        "id": "A6p99SBYr_MP",
        "outputId": "41464944-3fb6-4555-d014-acb0352d3f15"
      },
      "execution_count": 426,
      "outputs": [
        {
          "output_type": "display_data",
          "data": {
            "text/plain": [
              "<Figure size 1080x576 with 1 Axes>"
            ],
            "image/png": "[encoded data removed]"
          },
          "metadata": {}
        }
      ]
    },
    {
      "cell_type": "code",
      "source": [
        "plt.rcParams[\"figure.figsize\"] = [15, 8]\n",
        "plt.rcParams[\"figure.autolayout\"] = True\n",
        "sns.set_style('ticks')\n",
        "ax = sns.barplot(data = df, x = 'Team', y= \"Value ($M)[10]\", color= 'Blue', ci= None, linewidth= 0.5)\n",
        "ax.set_xticklabels(ax.get_xticklabels(),rotation = 60)\n",
        "ax.set_title('TOP 20 MOST VALUABLE SOCCER TEAMS 2021')\n",
        "sns.despine()\n",
        "plt.show()"
      ],
      "metadata": {
        "colab": {
          "base_uri": "https://localhost:8080/",
          "height": 375
        },
        "id": "e40DO4fuz51V",
        "outputId": "761de75c-77b8-4b35-b622-a6e0ac2f1685"
      },
      "execution_count": 427,
      "outputs": [
        {
          "output_type": "error",
          "ename": "ValueError",
          "evalue": "ignored",
          "traceback": [
            "\u001b[0;31m---------------------------------------------------------------------------\u001b[0m",
            "\u001b[0;31mValueError\u001b[0m                                Traceback (most recent call last)",
            "\u001b[0;32m<ipython-input-427-7604477a58aa>\u001b[0m in \u001b[0;36m<module>\u001b[0;34m()\u001b[0m\n\u001b[1;32m      2\u001b[0m \u001b[0mplt\u001b[0m\u001b[0;34m.\u001b[0m\u001b[0mrcParams\u001b[0m\u001b[0;34m[\u001b[0m\u001b[0;34m\"figure.autolayout\"\u001b[0m\u001b[0;34m]\u001b[0m \u001b[0;34m=\u001b[0m \u001b[0;32mTrue\u001b[0m\u001b[0;34m\u001b[0m\u001b[0;34m\u001b[0m\u001b[0m\n\u001b[1;32m      3\u001b[0m \u001b[0msns\u001b[0m\u001b[0;34m.\u001b[0m\u001b[0mset_style\u001b[0m\u001b[0;34m(\u001b[0m\u001b[0;34m'ticks'\u001b[0m\u001b[0;34m)\u001b[0m\u001b[0;34m\u001b[0m\u001b[0;34m\u001b[0m\u001b[0m\n\u001b[0;32m----> 4\u001b[0;31m \u001b[0max\u001b[0m \u001b[0;34m=\u001b[0m \u001b[0msns\u001b[0m\u001b[0;34m.\u001b[0m\u001b[0mbarplot\u001b[0m\u001b[0;34m(\u001b[0m\u001b[0mdata\u001b[0m \u001b[0;34m=\u001b[0m \u001b[0mdf\u001b[0m\u001b[0;34m,\u001b[0m \u001b[0mx\u001b[0m \u001b[0;34m=\u001b[0m \u001b[0;34m'Team'\u001b[0m\u001b[0;34m,\u001b[0m \u001b[0my\u001b[0m\u001b[0;34m=\u001b[0m \u001b[0;34m\"Value ($M)[10]\"\u001b[0m\u001b[0;34m,\u001b[0m \u001b[0mcolor\u001b[0m\u001b[0;34m=\u001b[0m \u001b[0;34m'Blue'\u001b[0m\u001b[0;34m,\u001b[0m \u001b[0mci\u001b[0m\u001b[0;34m=\u001b[0m \u001b[0;32mNone\u001b[0m\u001b[0;34m,\u001b[0m \u001b[0mlinewidth\u001b[0m\u001b[0;34m=\u001b[0m \u001b[0;36m0.5\u001b[0m\u001b[0;34m)\u001b[0m\u001b[0;34m\u001b[0m\u001b[0;34m\u001b[0m\u001b[0m\n\u001b[0m\u001b[1;32m      5\u001b[0m \u001b[0max\u001b[0m\u001b[0;34m.\u001b[0m\u001b[0mset_xticklabels\u001b[0m\u001b[0;34m(\u001b[0m\u001b[0max\u001b[0m\u001b[0;34m.\u001b[0m\u001b[0mget_xticklabels\u001b[0m\u001b[0;34m(\u001b[0m\u001b[0;34m)\u001b[0m\u001b[0;34m,\u001b[0m\u001b[0mrotation\u001b[0m \u001b[0;34m=\u001b[0m \u001b[0;36m60\u001b[0m\u001b[0;34m)\u001b[0m\u001b[0;34m\u001b[0m\u001b[0;34m\u001b[0m\u001b[0m\n\u001b[1;32m      6\u001b[0m \u001b[0max\u001b[0m\u001b[0;34m.\u001b[0m\u001b[0mset_title\u001b[0m\u001b[0;34m(\u001b[0m\u001b[0;34m'TOP 20 MOST VALUABLE SOCCER TEAMS 2021'\u001b[0m\u001b[0;34m)\u001b[0m\u001b[0;34m\u001b[0m\u001b[0;34m\u001b[0m\u001b[0m\n",
            "\u001b[0;32m/usr/local/lib/python3.7/dist-packages/seaborn/_decorators.py\u001b[0m in \u001b[0;36minner_f\u001b[0;34m(*args, **kwargs)\u001b[0m\n\u001b[1;32m     44\u001b[0m             )\n\u001b[1;32m     45\u001b[0m         \u001b[0mkwargs\u001b[0m\u001b[0;34m.\u001b[0m\u001b[0mupdate\u001b[0m\u001b[0;34m(\u001b[0m\u001b[0;34m{\u001b[0m\u001b[0mk\u001b[0m\u001b[0;34m:\u001b[0m \u001b[0marg\u001b[0m \u001b[0;32mfor\u001b[0m \u001b[0mk\u001b[0m\u001b[0;34m,\u001b[0m \u001b[0marg\u001b[0m \u001b[0;32min\u001b[0m \u001b[0mzip\u001b[0m\u001b[0;34m(\u001b[0m\u001b[0msig\u001b[0m\u001b[0;34m.\u001b[0m\u001b[0mparameters\u001b[0m\u001b[0;34m,\u001b[0m \u001b[0margs\u001b[0m\u001b[0;34m)\u001b[0m\u001b[0;34m}\u001b[0m\u001b[0;34m)\u001b[0m\u001b[0;34m\u001b[0m\u001b[0;34m\u001b[0m\u001b[0m\n\u001b[0;32m---> 46\u001b[0;31m         \u001b[0;32mreturn\u001b[0m \u001b[0mf\u001b[0m\u001b[0;34m(\u001b[0m\u001b[0;34m**\u001b[0m\u001b[0mkwargs\u001b[0m\u001b[0;34m)\u001b[0m\u001b[0;34m\u001b[0m\u001b[0;34m\u001b[0m\u001b[0m\n\u001b[0m\u001b[1;32m     47\u001b[0m     \u001b[0;32mreturn\u001b[0m \u001b[0minner_f\u001b[0m\u001b[0;34m\u001b[0m\u001b[0;34m\u001b[0m\u001b[0m\n\u001b[1;32m     48\u001b[0m \u001b[0;34m\u001b[0m\u001b[0m\n",
            "\u001b[0;32m/usr/local/lib/python3.7/dist-packages/seaborn/categorical.py\u001b[0m in \u001b[0;36mbarplot\u001b[0;34m(x, y, hue, data, order, hue_order, estimator, ci, n_boot, units, seed, orient, color, palette, saturation, errcolor, errwidth, capsize, dodge, ax, **kwargs)\u001b[0m\n\u001b[1;32m   3183\u001b[0m                           \u001b[0mestimator\u001b[0m\u001b[0;34m,\u001b[0m \u001b[0mci\u001b[0m\u001b[0;34m,\u001b[0m \u001b[0mn_boot\u001b[0m\u001b[0;34m,\u001b[0m \u001b[0munits\u001b[0m\u001b[0;34m,\u001b[0m \u001b[0mseed\u001b[0m\u001b[0;34m,\u001b[0m\u001b[0;34m\u001b[0m\u001b[0;34m\u001b[0m\u001b[0m\n\u001b[1;32m   3184\u001b[0m                           \u001b[0morient\u001b[0m\u001b[0;34m,\u001b[0m \u001b[0mcolor\u001b[0m\u001b[0;34m,\u001b[0m \u001b[0mpalette\u001b[0m\u001b[0;34m,\u001b[0m \u001b[0msaturation\u001b[0m\u001b[0;34m,\u001b[0m\u001b[0;34m\u001b[0m\u001b[0;34m\u001b[0m\u001b[0m\n\u001b[0;32m-> 3185\u001b[0;31m                           errcolor, errwidth, capsize, dodge)\n\u001b[0m\u001b[1;32m   3186\u001b[0m \u001b[0;34m\u001b[0m\u001b[0m\n\u001b[1;32m   3187\u001b[0m     \u001b[0;32mif\u001b[0m \u001b[0max\u001b[0m \u001b[0;32mis\u001b[0m \u001b[0;32mNone\u001b[0m\u001b[0;34m:\u001b[0m\u001b[0;34m\u001b[0m\u001b[0;34m\u001b[0m\u001b[0m\n",
            "\u001b[0;32m/usr/local/lib/python3.7/dist-packages/seaborn/categorical.py\u001b[0m in \u001b[0;36m__init__\u001b[0;34m(self, x, y, hue, data, order, hue_order, estimator, ci, n_boot, units, seed, orient, color, palette, saturation, errcolor, errwidth, capsize, dodge)\u001b[0m\n\u001b[1;32m   1583\u001b[0m         \u001b[0;34m\"\"\"Initialize the plotter.\"\"\"\u001b[0m\u001b[0;34m\u001b[0m\u001b[0;34m\u001b[0m\u001b[0m\n\u001b[1;32m   1584\u001b[0m         self.establish_variables(x, y, hue, data, orient,\n\u001b[0;32m-> 1585\u001b[0;31m                                  order, hue_order, units)\n\u001b[0m\u001b[1;32m   1586\u001b[0m         \u001b[0mself\u001b[0m\u001b[0;34m.\u001b[0m\u001b[0mestablish_colors\u001b[0m\u001b[0;34m(\u001b[0m\u001b[0mcolor\u001b[0m\u001b[0;34m,\u001b[0m \u001b[0mpalette\u001b[0m\u001b[0;34m,\u001b[0m \u001b[0msaturation\u001b[0m\u001b[0;34m)\u001b[0m\u001b[0;34m\u001b[0m\u001b[0;34m\u001b[0m\u001b[0m\n\u001b[1;32m   1587\u001b[0m         \u001b[0mself\u001b[0m\u001b[0;34m.\u001b[0m\u001b[0mestimate_statistic\u001b[0m\u001b[0;34m(\u001b[0m\u001b[0mestimator\u001b[0m\u001b[0;34m,\u001b[0m \u001b[0mci\u001b[0m\u001b[0;34m,\u001b[0m \u001b[0mn_boot\u001b[0m\u001b[0;34m,\u001b[0m \u001b[0mseed\u001b[0m\u001b[0;34m)\u001b[0m\u001b[0;34m\u001b[0m\u001b[0;34m\u001b[0m\u001b[0m\n",
            "\u001b[0;32m/usr/local/lib/python3.7/dist-packages/seaborn/categorical.py\u001b[0m in \u001b[0;36mestablish_variables\u001b[0;34m(self, x, y, hue, data, orient, order, hue_order, units)\u001b[0m\n\u001b[1;32m    151\u001b[0m                 \u001b[0;32mif\u001b[0m \u001b[0misinstance\u001b[0m\u001b[0;34m(\u001b[0m\u001b[0mvar\u001b[0m\u001b[0;34m,\u001b[0m \u001b[0mstr\u001b[0m\u001b[0;34m)\u001b[0m\u001b[0;34m:\u001b[0m\u001b[0;34m\u001b[0m\u001b[0;34m\u001b[0m\u001b[0m\n\u001b[1;32m    152\u001b[0m                     \u001b[0merr\u001b[0m \u001b[0;34m=\u001b[0m \u001b[0;34m\"Could not interpret input '{}'\"\u001b[0m\u001b[0;34m.\u001b[0m\u001b[0mformat\u001b[0m\u001b[0;34m(\u001b[0m\u001b[0mvar\u001b[0m\u001b[0;34m)\u001b[0m\u001b[0;34m\u001b[0m\u001b[0;34m\u001b[0m\u001b[0m\n\u001b[0;32m--> 153\u001b[0;31m                     \u001b[0;32mraise\u001b[0m \u001b[0mValueError\u001b[0m\u001b[0;34m(\u001b[0m\u001b[0merr\u001b[0m\u001b[0;34m)\u001b[0m\u001b[0;34m\u001b[0m\u001b[0;34m\u001b[0m\u001b[0m\n\u001b[0m\u001b[1;32m    154\u001b[0m \u001b[0;34m\u001b[0m\u001b[0m\n\u001b[1;32m    155\u001b[0m             \u001b[0;31m# Figure out the plotting orientation\u001b[0m\u001b[0;34m\u001b[0m\u001b[0;34m\u001b[0m\u001b[0;34m\u001b[0m\u001b[0m\n",
            "\u001b[0;31mValueError\u001b[0m: Could not interpret input 'Value ($M)[10]'"
          ]
        }
      ]
    },
    {
      "cell_type": "code",
      "source": [
        "import matplotlib\n",
        "matplotlib.__version__"
      ],
      "metadata": {
        "id": "-3IvErxmEo2p"
      },
      "execution_count": null,
      "outputs": []
    },
    {
      "cell_type": "code",
      "source": [
        "ax = df.groupby('Team')..plot(kind = 'bar', stacked = True)\n",
        "\n",
        "for container in ax.containers:\n",
        "    ax.bar_label(container)\n",
        "for container in ax.containers:\n",
        "    ax.bar_label(container)"
      ],
      "metadata": {
        "id": "GzR2x9nZEsbT"
      },
      "execution_count": null,
      "outputs": []
    },
    {
      "cell_type": "code",
      "source": [
        "#def addlabels(x,y):\n",
        " #   for i in range(len(x)):\n",
        "  #      plt.text(i, y[i], y[i], ha = 'center')\n",
        "#plt.title(\"TOP 20 MOST VALUABLE SOCCER TEAMS 2021\")\n",
        "#plt.bar(df[\"Team\"], df[\"Value ($M)[10]\"], color= \"Blue\")\n",
        "#addlabels(x,y)\n",
        "#plt.show()\n"
      ],
      "metadata": {
        "id": "tObMn27hASM7"
      },
      "execution_count": null,
      "outputs": []
    },
    {
      "cell_type": "markdown",
      "source": [
        "Well, the graph does not quick looks like that. But I will try to do it in a different way. Let's see if it will work. "
      ],
      "metadata": {
        "id": "ptyp6IE4tQ3l"
      }
    }
  ]
}