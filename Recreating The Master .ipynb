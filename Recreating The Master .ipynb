{
  "nbformat": 4,
  "nbformat_minor": 0,
  "metadata": {
    "colab": {
      "name": "Untitled37.ipynb",
      "provenance": [],
      "collapsed_sections": [],
      "authorship_tag": "ABX9TyNvvFsKE/VRkRHGHrJ45AHS",
      "include_colab_link": true
    },
    "kernelspec": {
      "name": "python3",
      "display_name": "Python 3"
    },
    "language_info": {
      "name": "python"
    }
  },
  "cells": [
    {
      "cell_type": "markdown",
      "metadata": {
        "id": "view-in-github",
        "colab_type": "text"
      },
      "source": [
        "<a href=\"https://colab.research.google.com/github/khatriprajwol/Data-Visualization-/blob/main/Recreating%20The%20Master%20.ipynb\" target=\"_parent\"><img src=\"https://colab.research.google.com/assets/colab-badge.svg\" alt=\"Open In Colab\"/></a>"
      ]
    },
    {
      "cell_type": "markdown",
      "source": [
        "#Recreating The Master \n",
        "Here I would lke to present you one of my favorite topic again which is related to sport. In this project it focuses on top twenty most valuable soccer team over the year and how it changed. However, I will be recreting only one of it. Well, recreating masters work will not be easy but I will try my best. "
      ],
      "metadata": {
        "id": "pOe1PcL_S_ke"
      }
    },
    {
      "cell_type": "markdown",
      "source": [
        "![Picture1](https://www.adifferentleague.co.uk/wp-content/uploads/2016/05/juve-forbes2.jpg)\n"
      ],
      "metadata": {
        "id": "O_H8i4TCW6-S"
      }
    },
    {
      "cell_type": "markdown",
      "source": [
        "The above visualization is from 2016 but I would like to create similar master piece with a current data. In order to make similar visualization I will need the name of a club and its information. I tried to search data through **ESPN** but I could not find it. Therefore my alternative option was [wikipedia](https://en.wikipedia.org/wiki/Forbes%27_list_of_the_most_valuable_football_clubs).\n",
        "\n"
      ],
      "metadata": {
        "id": "S-nVj_LtXB20"
      }
    },
    {
      "cell_type": "markdown",
      "source": [
        "\n",
        "![Picture2](https://www.adifferentleague.co.uk/wp-content/uploads/2016/05/juve-forbes.jpg)\n",
        "\n",
        "\n",
        "\n",
        "\n"
      ],
      "metadata": {
        "id": "ekBrv7xXYOkZ"
      }
    },
    {
      "cell_type": "markdown",
      "source": [
        "Here is another diagram. As we can see the change in percentage from 2015 to 2016. Can we see any change? Yes, indeed. Let's see what we can expect in 2021. Well, the graph below shows the information how it changed in another year."
      ],
      "metadata": {
        "id": "45SrU7EfYcFh"
      }
    },
    {
      "cell_type": "markdown",
      "source": [
        "![Picture](https://www.statista.com/graphic/1/300578/team-value-of-soccer-teams.jpg)\n",
        "The above graph can be found in this [link](\"https://www.statista.com/statistics/300578/team-value-of-soccer-teams/\"). I think this graph did not do a great job in visualization. No doubtt it provides the information but still not a great visualization. \n",
        "\n",
        "I am planning to use one of the first graph. It looks a great visualization to me. "
      ],
      "metadata": {
        "id": "fh0mpP9vc4P3"
      }
    },
    {
      "cell_type": "code",
      "execution_count": 1,
      "metadata": {
        "id": "F8s6sFCDS66h"
      },
      "outputs": [],
      "source": [
        "import requests\n",
        "import pandas as pa\n",
        "import seaborn as sns\n",
        "from bs4 import BeautifulSoup\n",
        "import numpy as np\n",
        "import matplotlib.image as mpimg\n",
        "import matplotlib.pyplot as plt\n"
      ]
    },
    {
      "cell_type": "code",
      "source": [
        "r = requests.get('https://en.wikipedia.org/wiki/Forbes%27_list_of_the_most_valuable_football_clubs')\n",
        "html_contents = r.text\n",
        "html_soup = BeautifulSoup(html_contents,\"lxml\")\n",
        "len(html_soup.find_all('table'))"
      ],
      "metadata": {
        "colab": {
          "base_uri": "https://localhost:8080/"
        },
        "id": "13RdZja-Udy9",
        "outputId": "b1fd3d10-76e0-42e6-d047-f17473391e6d"
      },
      "execution_count": 2,
      "outputs": [
        {
          "output_type": "execute_result",
          "data": {
            "text/plain": [
              "17"
            ]
          },
          "metadata": {},
          "execution_count": 2
        }
      ]
    },
    {
      "cell_type": "code",
      "source": [
        "html_soup.title"
      ],
      "metadata": {
        "colab": {
          "base_uri": "https://localhost:8080/"
        },
        "id": "o9NWgRY4UXKU",
        "outputId": "79a3d396-e638-45d9-8f4e-b0a7134c8901"
      },
      "execution_count": 3,
      "outputs": [
        {
          "output_type": "execute_result",
          "data": {
            "text/plain": [
              "<title>Forbes' list of the most valuable football clubs - Wikipedia</title>"
            ]
          },
          "metadata": {},
          "execution_count": 3
        }
      ]
    },
    {
      "cell_type": "code",
      "source": [
        "tables = html_soup.find_all('table')\n",
        "\n",
        "df = pa.read_html(str(tables))[5]\n",
        "df"
      ],
      "metadata": {
        "colab": {
          "base_uri": "https://localhost:8080/",
          "height": 677
        },
        "id": "Q1WtoVYdUsz_",
        "outputId": "1e77568d-5f40-4f25-ea69-6c59cf9e9e0f"
      },
      "execution_count": 13,
      "outputs": [
        {
          "output_type": "execute_result",
          "data": {
            "text/plain": [
              "    Rank                 Team  Country  Value ($M)[10]  Debt as% of value[8]  \\\n",
              "0      1          Real Madrid    Spain            3645                     3   \n",
              "1      2            Barcelona    Spain            3549                     2   \n",
              "2      3    Manchester United  England            3317                    20   \n",
              "3      4        Bayern Munich  Germany            2678                     0   \n",
              "4      5              Arsenal  England            2017                    17   \n",
              "5      6      Manchester City  England            1921                     0   \n",
              "6      7              Chelsea  England            1661                     0   \n",
              "7      8            Liverpool  England            1548                     5   \n",
              "8      9             Juventus    Italy            1299                     4   \n",
              "9     10    Tottenham Hotspur  England            1017                     2   \n",
              "10    11    Borussia Dortmund  Germany             836                     0   \n",
              "11    12                Milan    Italy             825                    32   \n",
              "12    13  Paris Saint-Germain   France             814                     0   \n",
              "13    14           Schalke 04  Germany             655                    21   \n",
              "14    15      Atlético Madrid    Spain             633                    22   \n",
              "15    16       Internazionale    Italy             559                    43   \n",
              "16    17      West Ham United  England             542                     6   \n",
              "17    18                 Roma    Italy             508                    36   \n",
              "18    19               Napoli    Italy             396                     0   \n",
              "19    20     Newcastle United  England             383                     0   \n",
              "\n",
              "    % changeon year  Revenue ($M)  \n",
              "0              12.0           694  \n",
              "1              12.0           675  \n",
              "2               7.0           625  \n",
              "3              14.0           570  \n",
              "4              54.0           524  \n",
              "5              40.0           558  \n",
              "6              21.0           505  \n",
              "7              58.0           471  \n",
              "8              55.0           390  \n",
              "9              69.0           310  \n",
              "10             19.0           338  \n",
              "11              6.0           240  \n",
              "12             28.0           578  \n",
              "13             15.0           264  \n",
              "14             45.0           225  \n",
              "15             27.0           198  \n",
              "16             76.0           194  \n",
              "17              NaN           217  \n",
              "18             12.0           151  \n",
              "19             10.0           104  "
            ],
            "text/html": [
              "\n",
              "  <div id=\"df-d32a4e8b-730c-4897-a4a6-c83efaf633cb\">\n",
              "    <div class=\"colab-df-container\">\n",
              "      <div>\n",
              "<style scoped>\n",
              "    .dataframe tbody tr th:only-of-type {\n",
              "        vertical-align: middle;\n",
              "    }\n",
              "\n",
              "    .dataframe tbody tr th {\n",
              "        vertical-align: top;\n",
              "    }\n",
              "\n",
              "    .dataframe thead th {\n",
              "        text-align: right;\n",
              "    }\n",
              "</style>\n",
              "<table border=\"1\" class=\"dataframe\">\n",
              "  <thead>\n",
              "    <tr style=\"text-align: right;\">\n",
              "      <th></th>\n",
              "      <th>Rank</th>\n",
              "      <th>Team</th>\n",
              "      <th>Country</th>\n",
              "      <th>Value ($M)[10]</th>\n",
              "      <th>Debt as% of value[8]</th>\n",
              "      <th>% changeon year</th>\n",
              "      <th>Revenue ($M)</th>\n",
              "    </tr>\n",
              "  </thead>\n",
              "  <tbody>\n",
              "    <tr>\n",
              "      <th>0</th>\n",
              "      <td>1</td>\n",
              "      <td>Real Madrid</td>\n",
              "      <td>Spain</td>\n",
              "      <td>3645</td>\n",
              "      <td>3</td>\n",
              "      <td>12.0</td>\n",
              "      <td>694</td>\n",
              "    </tr>\n",
              "    <tr>\n",
              "      <th>1</th>\n",
              "      <td>2</td>\n",
              "      <td>Barcelona</td>\n",
              "      <td>Spain</td>\n",
              "      <td>3549</td>\n",
              "      <td>2</td>\n",
              "      <td>12.0</td>\n",
              "      <td>675</td>\n",
              "    </tr>\n",
              "    <tr>\n",
              "      <th>2</th>\n",
              "      <td>3</td>\n",
              "      <td>Manchester United</td>\n",
              "      <td>England</td>\n",
              "      <td>3317</td>\n",
              "      <td>20</td>\n",
              "      <td>7.0</td>\n",
              "      <td>625</td>\n",
              "    </tr>\n",
              "    <tr>\n",
              "      <th>3</th>\n",
              "      <td>4</td>\n",
              "      <td>Bayern Munich</td>\n",
              "      <td>Germany</td>\n",
              "      <td>2678</td>\n",
              "      <td>0</td>\n",
              "      <td>14.0</td>\n",
              "      <td>570</td>\n",
              "    </tr>\n",
              "    <tr>\n",
              "      <th>4</th>\n",
              "      <td>5</td>\n",
              "      <td>Arsenal</td>\n",
              "      <td>England</td>\n",
              "      <td>2017</td>\n",
              "      <td>17</td>\n",
              "      <td>54.0</td>\n",
              "      <td>524</td>\n",
              "    </tr>\n",
              "    <tr>\n",
              "      <th>5</th>\n",
              "      <td>6</td>\n",
              "      <td>Manchester City</td>\n",
              "      <td>England</td>\n",
              "      <td>1921</td>\n",
              "      <td>0</td>\n",
              "      <td>40.0</td>\n",
              "      <td>558</td>\n",
              "    </tr>\n",
              "    <tr>\n",
              "      <th>6</th>\n",
              "      <td>7</td>\n",
              "      <td>Chelsea</td>\n",
              "      <td>England</td>\n",
              "      <td>1661</td>\n",
              "      <td>0</td>\n",
              "      <td>21.0</td>\n",
              "      <td>505</td>\n",
              "    </tr>\n",
              "    <tr>\n",
              "      <th>7</th>\n",
              "      <td>8</td>\n",
              "      <td>Liverpool</td>\n",
              "      <td>England</td>\n",
              "      <td>1548</td>\n",
              "      <td>5</td>\n",
              "      <td>58.0</td>\n",
              "      <td>471</td>\n",
              "    </tr>\n",
              "    <tr>\n",
              "      <th>8</th>\n",
              "      <td>9</td>\n",
              "      <td>Juventus</td>\n",
              "      <td>Italy</td>\n",
              "      <td>1299</td>\n",
              "      <td>4</td>\n",
              "      <td>55.0</td>\n",
              "      <td>390</td>\n",
              "    </tr>\n",
              "    <tr>\n",
              "      <th>9</th>\n",
              "      <td>10</td>\n",
              "      <td>Tottenham Hotspur</td>\n",
              "      <td>England</td>\n",
              "      <td>1017</td>\n",
              "      <td>2</td>\n",
              "      <td>69.0</td>\n",
              "      <td>310</td>\n",
              "    </tr>\n",
              "    <tr>\n",
              "      <th>10</th>\n",
              "      <td>11</td>\n",
              "      <td>Borussia Dortmund</td>\n",
              "      <td>Germany</td>\n",
              "      <td>836</td>\n",
              "      <td>0</td>\n",
              "      <td>19.0</td>\n",
              "      <td>338</td>\n",
              "    </tr>\n",
              "    <tr>\n",
              "      <th>11</th>\n",
              "      <td>12</td>\n",
              "      <td>Milan</td>\n",
              "      <td>Italy</td>\n",
              "      <td>825</td>\n",
              "      <td>32</td>\n",
              "      <td>6.0</td>\n",
              "      <td>240</td>\n",
              "    </tr>\n",
              "    <tr>\n",
              "      <th>12</th>\n",
              "      <td>13</td>\n",
              "      <td>Paris Saint-Germain</td>\n",
              "      <td>France</td>\n",
              "      <td>814</td>\n",
              "      <td>0</td>\n",
              "      <td>28.0</td>\n",
              "      <td>578</td>\n",
              "    </tr>\n",
              "    <tr>\n",
              "      <th>13</th>\n",
              "      <td>14</td>\n",
              "      <td>Schalke 04</td>\n",
              "      <td>Germany</td>\n",
              "      <td>655</td>\n",
              "      <td>21</td>\n",
              "      <td>15.0</td>\n",
              "      <td>264</td>\n",
              "    </tr>\n",
              "    <tr>\n",
              "      <th>14</th>\n",
              "      <td>15</td>\n",
              "      <td>Atlético Madrid</td>\n",
              "      <td>Spain</td>\n",
              "      <td>633</td>\n",
              "      <td>22</td>\n",
              "      <td>45.0</td>\n",
              "      <td>225</td>\n",
              "    </tr>\n",
              "    <tr>\n",
              "      <th>15</th>\n",
              "      <td>16</td>\n",
              "      <td>Internazionale</td>\n",
              "      <td>Italy</td>\n",
              "      <td>559</td>\n",
              "      <td>43</td>\n",
              "      <td>27.0</td>\n",
              "      <td>198</td>\n",
              "    </tr>\n",
              "    <tr>\n",
              "      <th>16</th>\n",
              "      <td>17</td>\n",
              "      <td>West Ham United</td>\n",
              "      <td>England</td>\n",
              "      <td>542</td>\n",
              "      <td>6</td>\n",
              "      <td>76.0</td>\n",
              "      <td>194</td>\n",
              "    </tr>\n",
              "    <tr>\n",
              "      <th>17</th>\n",
              "      <td>18</td>\n",
              "      <td>Roma</td>\n",
              "      <td>Italy</td>\n",
              "      <td>508</td>\n",
              "      <td>36</td>\n",
              "      <td>NaN</td>\n",
              "      <td>217</td>\n",
              "    </tr>\n",
              "    <tr>\n",
              "      <th>18</th>\n",
              "      <td>19</td>\n",
              "      <td>Napoli</td>\n",
              "      <td>Italy</td>\n",
              "      <td>396</td>\n",
              "      <td>0</td>\n",
              "      <td>12.0</td>\n",
              "      <td>151</td>\n",
              "    </tr>\n",
              "    <tr>\n",
              "      <th>19</th>\n",
              "      <td>20</td>\n",
              "      <td>Newcastle United</td>\n",
              "      <td>England</td>\n",
              "      <td>383</td>\n",
              "      <td>0</td>\n",
              "      <td>10.0</td>\n",
              "      <td>104</td>\n",
              "    </tr>\n",
              "  </tbody>\n",
              "</table>\n",
              "</div>\n",
              "      <button class=\"colab-df-convert\" onclick=\"convertToInteractive('df-d32a4e8b-730c-4897-a4a6-c83efaf633cb')\"\n",
              "              title=\"Convert this dataframe to an interactive table.\"\n",
              "              style=\"display:none;\">\n",
              "        \n",
              "  <svg xmlns=\"http://www.w3.org/2000/svg\" height=\"24px\"viewBox=\"0 0 24 24\"\n",
              "       width=\"24px\">\n",
              "    <path d=\"M0 0h24v24H0V0z\" fill=\"none\"/>\n",
              "    <path d=\"M18.56 5.44l.94 2.06.94-2.06 2.06-.94-2.06-.94-.94-2.06-.94 2.06-2.06.94zm-11 1L8.5 8.5l.94-2.06 2.06-.94-2.06-.94L8.5 2.5l-.94 2.06-2.06.94zm10 10l.94 2.06.94-2.06 2.06-.94-2.06-.94-.94-2.06-.94 2.06-2.06.94z\"/><path d=\"M17.41 7.96l-1.37-1.37c-.4-.4-.92-.59-1.43-.59-.52 0-1.04.2-1.43.59L10.3 9.45l-7.72 7.72c-.78.78-.78 2.05 0 2.83L4 21.41c.39.39.9.59 1.41.59.51 0 1.02-.2 1.41-.59l7.78-7.78 2.81-2.81c.8-.78.8-2.07 0-2.86zM5.41 20L4 18.59l7.72-7.72 1.47 1.35L5.41 20z\"/>\n",
              "  </svg>\n",
              "      </button>\n",
              "      \n",
              "  <style>\n",
              "    .colab-df-container {\n",
              "      display:flex;\n",
              "      flex-wrap:wrap;\n",
              "      gap: 12px;\n",
              "    }\n",
              "\n",
              "    .colab-df-convert {\n",
              "      background-color: #E8F0FE;\n",
              "      border: none;\n",
              "      border-radius: 50%;\n",
              "      cursor: pointer;\n",
              "      display: none;\n",
              "      fill: #1967D2;\n",
              "      height: 32px;\n",
              "      padding: 0 0 0 0;\n",
              "      width: 32px;\n",
              "    }\n",
              "\n",
              "    .colab-df-convert:hover {\n",
              "      background-color: #E2EBFA;\n",
              "      box-shadow: 0px 1px 2px rgba(60, 64, 67, 0.3), 0px 1px 3px 1px rgba(60, 64, 67, 0.15);\n",
              "      fill: #174EA6;\n",
              "    }\n",
              "\n",
              "    [theme=dark] .colab-df-convert {\n",
              "      background-color: #3B4455;\n",
              "      fill: #D2E3FC;\n",
              "    }\n",
              "\n",
              "    [theme=dark] .colab-df-convert:hover {\n",
              "      background-color: #434B5C;\n",
              "      box-shadow: 0px 1px 3px 1px rgba(0, 0, 0, 0.15);\n",
              "      filter: drop-shadow(0px 1px 2px rgba(0, 0, 0, 0.3));\n",
              "      fill: #FFFFFF;\n",
              "    }\n",
              "  </style>\n",
              "\n",
              "      <script>\n",
              "        const buttonEl =\n",
              "          document.querySelector('#df-d32a4e8b-730c-4897-a4a6-c83efaf633cb button.colab-df-convert');\n",
              "        buttonEl.style.display =\n",
              "          google.colab.kernel.accessAllowed ? 'block' : 'none';\n",
              "\n",
              "        async function convertToInteractive(key) {\n",
              "          const element = document.querySelector('#df-d32a4e8b-730c-4897-a4a6-c83efaf633cb');\n",
              "          const dataTable =\n",
              "            await google.colab.kernel.invokeFunction('convertToInteractive',\n",
              "                                                     [key], {});\n",
              "          if (!dataTable) return;\n",
              "\n",
              "          const docLinkHtml = 'Like what you see? Visit the ' +\n",
              "            '<a target=\"_blank\" href=https://colab.research.google.com/notebooks/data_table.ipynb>data table notebook</a>'\n",
              "            + ' to learn more about interactive tables.';\n",
              "          element.innerHTML = '';\n",
              "          dataTable['output_type'] = 'display_data';\n",
              "          await google.colab.output.renderOutput(dataTable, element);\n",
              "          const docLink = document.createElement('div');\n",
              "          docLink.innerHTML = docLinkHtml;\n",
              "          element.appendChild(docLink);\n",
              "        }\n",
              "      </script>\n",
              "    </div>\n",
              "  </div>\n",
              "  "
            ]
          },
          "metadata": {},
          "execution_count": 13
        }
      ]
    },
    {
      "cell_type": "markdown",
      "source": [
        "It is not a big data set but a perfect for me to recreate the above visualization. \n",
        "[link](https://github.com/nurfnick/Data_Viz/blob/main/RecreatingMasters.ipynb)\n"
      ],
      "metadata": {
        "id": "4A5xHfadV-23"
      }
    },
    {
      "cell_type": "code",
      "source": [
        "ax = sns.barplot(data = df, x = 'Team', y= \"Value in$ millions\", hue_order= )\n",
        "ax.set_xticklabels(ax.get_xticklabels(),rotation = 90)\n",
        "ax.set_title('TOP 20 MOST VALUABLE SOCCER TEAMS 2021')\n",
        "plt.show()"
      ],
      "metadata": {
        "id": "A6p99SBYr_MP"
      },
      "execution_count": null,
      "outputs": []
    },
    {
      "cell_type": "markdown",
      "source": [
        "Well, the graph does not quick looks like that. But I will try to do it in a different way. Let's see if it will work. "
      ],
      "metadata": {
        "id": "ptyp6IE4tQ3l"
      }
    }
  ]
}