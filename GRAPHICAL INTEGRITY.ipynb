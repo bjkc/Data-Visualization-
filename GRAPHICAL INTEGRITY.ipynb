{
  "nbformat": 4,
  "nbformat_minor": 0,
  "metadata": {
    "colab": {
      "name": "Untitled25.ipynb",
      "provenance": [],
      "authorship_tag": "ABX9TyPH5Z2P2tiJ6Q7O+0oPUjqL",
      "include_colab_link": true
    },
    "kernelspec": {
      "name": "python3",
      "display_name": "Python 3"
    },
    "language_info": {
      "name": "python"
    }
  },
  "cells": [
    {
      "cell_type": "markdown",
      "metadata": {
        "id": "view-in-github",
        "colab_type": "text"
      },
      "source": [
        "<a href=\"https://colab.research.google.com/github/khatriprajwol/Data-Visualization-/blob/main/GRAPHICAL%20INTEGRITY.ipynb\" target=\"_parent\"><img src=\"https://colab.research.google.com/assets/colab-badge.svg\" alt=\"Open In Colab\"/></a>"
      ]
    },
    {
      "cell_type": "markdown",
      "source": [
        "## GRAPHICAL INTEGRITY"
      ],
      "metadata": {
        "id": "4B3UT7C96wqA"
      }
    },
    {
      "cell_type": "markdown",
      "source": [
        "[Self Driving Car](https://symposium.foragerone.com/okrd22/presentations/37422)\n",
        "\n",
        "In this case I believe that the visual represents the topic. It portraits necessary information in the visual. One of the visual in a computer model and another real life visual is shown and along with the topic we can to some level say that it matches the what an article is trying to say. It includes lable and the representation of car looks like driving in a highway. It also explains further what it is capable of in the graph which is kind of nice. The diagram may not be fancy but provides required information what audience will expect. \n"
      ],
      "metadata": {
        "id": "mnhKgCnTB0ST"
      }
    },
    {
      "cell_type": "markdown",
      "source": [
        "[THE IMPACT OF WOMEN LEADERSHIP IN TIMES OF CRISIS](https://symposium.foragerone.com/okrd22/presentations/37168)\n",
        "\n",
        "Even though the graph shows the comparison between male and female along with the percentage, I believe that the graph is not strong enough to present the information that the topic is trying to tell. In the data graph plays vital role in passing information. However, in this case there is less visual of the data but more words. If we look into the data there is not much difference in the percentage. The fact that women population is comparatively higher than men will have decided what the result can look like. May be the graph wanted to so the difference between something but what would be that in this case without looking at the topic? The graph lacks lable and other curcial components.  "
      ],
      "metadata": {
        "id": "XThgQdzxCpMg"
      }
    },
    {
      "cell_type": "markdown",
      "source": [
        "[Development of an Artificial Intelligence Algorithm for the Analysis of Bloodstain Patterns](https://symposium.foragerone.com/okrd22/presentations/37260)\n",
        "\n",
        "It does a great job because in each method used it displays the graph. In my experience I read the topic and my eyes straight went into the visual. The visual clearly mathches the sub topic which is more like an explanation to that particular topic. In my opinion the accurately represents the data. It makes a good impression when we first look at it. This data is not a lie, and hopefully not. "
      ],
      "metadata": {
        "id": "A3-X4U3pEOvy"
      }
    }
  ]
}