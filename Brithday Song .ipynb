{
  "nbformat": 4,
  "nbformat_minor": 0,
  "metadata": {
    "colab": {
      "name": "Untitled14.ipynb",
      "provenance": [],
      "authorship_tag": "ABX9TyOZG4g7tI84BvNZ0FpoNcL8",
      "include_colab_link": true
    },
    "kernelspec": {
      "name": "python3",
      "display_name": "Python 3"
    },
    "language_info": {
      "name": "python"
    }
  },
  "cells": [
    {
      "cell_type": "markdown",
      "metadata": {
        "id": "view-in-github",
        "colab_type": "text"
      },
      "source": [
        "<a href=\"https://colab.research.google.com/github/khatriprajwol/Data-Visualization-/blob/main/Brithday%20Song%20.ipynb\" target=\"_parent\"><img src=\"https://colab.research.google.com/assets/colab-badge.svg\" alt=\"Open In Colab\"/></a>"
      ]
    },
    {
      "cell_type": "markdown",
      "source": [
        "#QUIZ 14"
      ],
      "metadata": {
        "id": "Fv11nFC8B5kk"
      }
    },
    {
      "cell_type": "code",
      "execution_count": 7,
      "metadata": {
        "colab": {
          "base_uri": "https://localhost:8080/",
          "height": 58
        },
        "id": "qLTw9JkuBxOB",
        "outputId": "c7e8c00f-7447-473a-bc3b-02d9b4837c56"
      },
      "outputs": [
        {
          "output_type": "execute_result",
          "data": {
            "application/vnd.google.colaboratory.intrinsic+json": {
              "type": "string"
            },
            "text/plain": [
              "'Happy Birthday to you. Happy Birthday to you. Happy Birthday dear Prajwol Khatri. Happy Birthday to you.'"
            ]
          },
          "metadata": {},
          "execution_count": 7
        }
      ],
      "source": [
        "happy = 'Happy Birthday to you.'\n",
        "name = 'dear Prajwol Khatri. '\n",
        "happy + \" \"+ happy+ \" \" + happy[:-8] + \" \" + name + happy"
      ]
    },
    {
      "cell_type": "markdown",
      "source": [
        "I have written a Birthday song for myself using Python code. No doubt, I have used string. "
      ],
      "metadata": {
        "id": "sZUq4qu4D2Sf"
      }
    }
  ]
}