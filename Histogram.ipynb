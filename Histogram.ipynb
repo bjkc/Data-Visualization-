{
  "nbformat": 4,
  "nbformat_minor": 0,
  "metadata": {
    "colab": {
      "name": "Untitled28.ipynb",
      "provenance": [],
      "authorship_tag": "ABX9TyPn0IpFvCkasbJ2RW695RSH",
      "include_colab_link": true
    },
    "kernelspec": {
      "name": "python3",
      "display_name": "Python 3"
    },
    "language_info": {
      "name": "python"
    }
  },
  "cells": [
    {
      "cell_type": "markdown",
      "metadata": {
        "id": "view-in-github",
        "colab_type": "text"
      },
      "source": [
        "<a href=\"https://colab.research.google.com/github/khatriprajwol/Data-Visualization-/blob/main/Histogram.ipynb\" target=\"_parent\"><img src=\"https://colab.research.google.com/assets/colab-badge.svg\" alt=\"Open In Colab\"/></a>"
      ]
    },
    {
      "cell_type": "code",
      "execution_count": 3,
      "metadata": {
        "id": "v8U83DcFyeyV"
      },
      "outputs": [],
      "source": [
        "import pandas as pd\n",
        "df = pd.read_csv(\"https://raw.githubusercontent.com/nurfnick/Data_Viz/main/AB_NYC_2019.csv\")"
      ]
    },
    {
      "cell_type": "code",
      "source": [
        "df.head(5)"
      ],
      "metadata": {
        "colab": {
          "base_uri": "https://localhost:8080/",
          "height": 455
        },
        "id": "DcQY_kIpyuDb",
        "outputId": "ccc1083d-31eb-451e-f74c-9a1064f5dd6d"
      },
      "execution_count": 4,
      "outputs": [
        {
          "output_type": "execute_result",
          "data": {
            "text/plain": [
              "     id                                              name  host_id  \\\n",
              "0  2539                Clean & quiet apt home by the park     2787   \n",
              "1  2595                             Skylit Midtown Castle     2845   \n",
              "2  3647               THE VILLAGE OF HARLEM....NEW YORK !     4632   \n",
              "3  3831                   Cozy Entire Floor of Brownstone     4869   \n",
              "4  5022  Entire Apt: Spacious Studio/Loft by central park     7192   \n",
              "\n",
              "     host_name neighbourhood_group neighbourhood  latitude  longitude  \\\n",
              "0         John            Brooklyn    Kensington  40.64749  -73.97237   \n",
              "1     Jennifer           Manhattan       Midtown  40.75362  -73.98377   \n",
              "2    Elisabeth           Manhattan        Harlem  40.80902  -73.94190   \n",
              "3  LisaRoxanne            Brooklyn  Clinton Hill  40.68514  -73.95976   \n",
              "4        Laura           Manhattan   East Harlem  40.79851  -73.94399   \n",
              "\n",
              "         room_type  price  minimum_nights  number_of_reviews last_review  \\\n",
              "0     Private room    149               1                  9  2018-10-19   \n",
              "1  Entire home/apt    225               1                 45  2019-05-21   \n",
              "2     Private room    150               3                  0         NaN   \n",
              "3  Entire home/apt     89               1                270  2019-07-05   \n",
              "4  Entire home/apt     80              10                  9  2018-11-19   \n",
              "\n",
              "   reviews_per_month  calculated_host_listings_count  availability_365  \n",
              "0               0.21                               6               365  \n",
              "1               0.38                               2               355  \n",
              "2                NaN                               1               365  \n",
              "3               4.64                               1               194  \n",
              "4               0.10                               1                 0  "
            ],
            "text/html": [
              "\n",
              "  <div id=\"df-3ce73814-564f-4cea-93d9-da3eb900561c\">\n",
              "    <div class=\"colab-df-container\">\n",
              "      <div>\n",
              "<style scoped>\n",
              "    .dataframe tbody tr th:only-of-type {\n",
              "        vertical-align: middle;\n",
              "    }\n",
              "\n",
              "    .dataframe tbody tr th {\n",
              "        vertical-align: top;\n",
              "    }\n",
              "\n",
              "    .dataframe thead th {\n",
              "        text-align: right;\n",
              "    }\n",
              "</style>\n",
              "<table border=\"1\" class=\"dataframe\">\n",
              "  <thead>\n",
              "    <tr style=\"text-align: right;\">\n",
              "      <th></th>\n",
              "      <th>id</th>\n",
              "      <th>name</th>\n",
              "      <th>host_id</th>\n",
              "      <th>host_name</th>\n",
              "      <th>neighbourhood_group</th>\n",
              "      <th>neighbourhood</th>\n",
              "      <th>latitude</th>\n",
              "      <th>longitude</th>\n",
              "      <th>room_type</th>\n",
              "      <th>price</th>\n",
              "      <th>minimum_nights</th>\n",
              "      <th>number_of_reviews</th>\n",
              "      <th>last_review</th>\n",
              "      <th>reviews_per_month</th>\n",
              "      <th>calculated_host_listings_count</th>\n",
              "      <th>availability_365</th>\n",
              "    </tr>\n",
              "  </thead>\n",
              "  <tbody>\n",
              "    <tr>\n",
              "      <th>0</th>\n",
              "      <td>2539</td>\n",
              "      <td>Clean &amp; quiet apt home by the park</td>\n",
              "      <td>2787</td>\n",
              "      <td>John</td>\n",
              "      <td>Brooklyn</td>\n",
              "      <td>Kensington</td>\n",
              "      <td>40.64749</td>\n",
              "      <td>-73.97237</td>\n",
              "      <td>Private room</td>\n",
              "      <td>149</td>\n",
              "      <td>1</td>\n",
              "      <td>9</td>\n",
              "      <td>2018-10-19</td>\n",
              "      <td>0.21</td>\n",
              "      <td>6</td>\n",
              "      <td>365</td>\n",
              "    </tr>\n",
              "    <tr>\n",
              "      <th>1</th>\n",
              "      <td>2595</td>\n",
              "      <td>Skylit Midtown Castle</td>\n",
              "      <td>2845</td>\n",
              "      <td>Jennifer</td>\n",
              "      <td>Manhattan</td>\n",
              "      <td>Midtown</td>\n",
              "      <td>40.75362</td>\n",
              "      <td>-73.98377</td>\n",
              "      <td>Entire home/apt</td>\n",
              "      <td>225</td>\n",
              "      <td>1</td>\n",
              "      <td>45</td>\n",
              "      <td>2019-05-21</td>\n",
              "      <td>0.38</td>\n",
              "      <td>2</td>\n",
              "      <td>355</td>\n",
              "    </tr>\n",
              "    <tr>\n",
              "      <th>2</th>\n",
              "      <td>3647</td>\n",
              "      <td>THE VILLAGE OF HARLEM....NEW YORK !</td>\n",
              "      <td>4632</td>\n",
              "      <td>Elisabeth</td>\n",
              "      <td>Manhattan</td>\n",
              "      <td>Harlem</td>\n",
              "      <td>40.80902</td>\n",
              "      <td>-73.94190</td>\n",
              "      <td>Private room</td>\n",
              "      <td>150</td>\n",
              "      <td>3</td>\n",
              "      <td>0</td>\n",
              "      <td>NaN</td>\n",
              "      <td>NaN</td>\n",
              "      <td>1</td>\n",
              "      <td>365</td>\n",
              "    </tr>\n",
              "    <tr>\n",
              "      <th>3</th>\n",
              "      <td>3831</td>\n",
              "      <td>Cozy Entire Floor of Brownstone</td>\n",
              "      <td>4869</td>\n",
              "      <td>LisaRoxanne</td>\n",
              "      <td>Brooklyn</td>\n",
              "      <td>Clinton Hill</td>\n",
              "      <td>40.68514</td>\n",
              "      <td>-73.95976</td>\n",
              "      <td>Entire home/apt</td>\n",
              "      <td>89</td>\n",
              "      <td>1</td>\n",
              "      <td>270</td>\n",
              "      <td>2019-07-05</td>\n",
              "      <td>4.64</td>\n",
              "      <td>1</td>\n",
              "      <td>194</td>\n",
              "    </tr>\n",
              "    <tr>\n",
              "      <th>4</th>\n",
              "      <td>5022</td>\n",
              "      <td>Entire Apt: Spacious Studio/Loft by central park</td>\n",
              "      <td>7192</td>\n",
              "      <td>Laura</td>\n",
              "      <td>Manhattan</td>\n",
              "      <td>East Harlem</td>\n",
              "      <td>40.79851</td>\n",
              "      <td>-73.94399</td>\n",
              "      <td>Entire home/apt</td>\n",
              "      <td>80</td>\n",
              "      <td>10</td>\n",
              "      <td>9</td>\n",
              "      <td>2018-11-19</td>\n",
              "      <td>0.10</td>\n",
              "      <td>1</td>\n",
              "      <td>0</td>\n",
              "    </tr>\n",
              "  </tbody>\n",
              "</table>\n",
              "</div>\n",
              "      <button class=\"colab-df-convert\" onclick=\"convertToInteractive('df-3ce73814-564f-4cea-93d9-da3eb900561c')\"\n",
              "              title=\"Convert this dataframe to an interactive table.\"\n",
              "              style=\"display:none;\">\n",
              "        \n",
              "  <svg xmlns=\"http://www.w3.org/2000/svg\" height=\"24px\"viewBox=\"0 0 24 24\"\n",
              "       width=\"24px\">\n",
              "    <path d=\"M0 0h24v24H0V0z\" fill=\"none\"/>\n",
              "    <path d=\"M18.56 5.44l.94 2.06.94-2.06 2.06-.94-2.06-.94-.94-2.06-.94 2.06-2.06.94zm-11 1L8.5 8.5l.94-2.06 2.06-.94-2.06-.94L8.5 2.5l-.94 2.06-2.06.94zm10 10l.94 2.06.94-2.06 2.06-.94-2.06-.94-.94-2.06-.94 2.06-2.06.94z\"/><path d=\"M17.41 7.96l-1.37-1.37c-.4-.4-.92-.59-1.43-.59-.52 0-1.04.2-1.43.59L10.3 9.45l-7.72 7.72c-.78.78-.78 2.05 0 2.83L4 21.41c.39.39.9.59 1.41.59.51 0 1.02-.2 1.41-.59l7.78-7.78 2.81-2.81c.8-.78.8-2.07 0-2.86zM5.41 20L4 18.59l7.72-7.72 1.47 1.35L5.41 20z\"/>\n",
              "  </svg>\n",
              "      </button>\n",
              "      \n",
              "  <style>\n",
              "    .colab-df-container {\n",
              "      display:flex;\n",
              "      flex-wrap:wrap;\n",
              "      gap: 12px;\n",
              "    }\n",
              "\n",
              "    .colab-df-convert {\n",
              "      background-color: #E8F0FE;\n",
              "      border: none;\n",
              "      border-radius: 50%;\n",
              "      cursor: pointer;\n",
              "      display: none;\n",
              "      fill: #1967D2;\n",
              "      height: 32px;\n",
              "      padding: 0 0 0 0;\n",
              "      width: 32px;\n",
              "    }\n",
              "\n",
              "    .colab-df-convert:hover {\n",
              "      background-color: #E2EBFA;\n",
              "      box-shadow: 0px 1px 2px rgba(60, 64, 67, 0.3), 0px 1px 3px 1px rgba(60, 64, 67, 0.15);\n",
              "      fill: #174EA6;\n",
              "    }\n",
              "\n",
              "    [theme=dark] .colab-df-convert {\n",
              "      background-color: #3B4455;\n",
              "      fill: #D2E3FC;\n",
              "    }\n",
              "\n",
              "    [theme=dark] .colab-df-convert:hover {\n",
              "      background-color: #434B5C;\n",
              "      box-shadow: 0px 1px 3px 1px rgba(0, 0, 0, 0.15);\n",
              "      filter: drop-shadow(0px 1px 2px rgba(0, 0, 0, 0.3));\n",
              "      fill: #FFFFFF;\n",
              "    }\n",
              "  </style>\n",
              "\n",
              "      <script>\n",
              "        const buttonEl =\n",
              "          document.querySelector('#df-3ce73814-564f-4cea-93d9-da3eb900561c button.colab-df-convert');\n",
              "        buttonEl.style.display =\n",
              "          google.colab.kernel.accessAllowed ? 'block' : 'none';\n",
              "\n",
              "        async function convertToInteractive(key) {\n",
              "          const element = document.querySelector('#df-3ce73814-564f-4cea-93d9-da3eb900561c');\n",
              "          const dataTable =\n",
              "            await google.colab.kernel.invokeFunction('convertToInteractive',\n",
              "                                                     [key], {});\n",
              "          if (!dataTable) return;\n",
              "\n",
              "          const docLinkHtml = 'Like what you see? Visit the ' +\n",
              "            '<a target=\"_blank\" href=https://colab.research.google.com/notebooks/data_table.ipynb>data table notebook</a>'\n",
              "            + ' to learn more about interactive tables.';\n",
              "          element.innerHTML = '';\n",
              "          dataTable['output_type'] = 'display_data';\n",
              "          await google.colab.output.renderOutput(dataTable, element);\n",
              "          const docLink = document.createElement('div');\n",
              "          docLink.innerHTML = docLinkHtml;\n",
              "          element.appendChild(docLink);\n",
              "        }\n",
              "      </script>\n",
              "    </div>\n",
              "  </div>\n",
              "  "
            ]
          },
          "metadata": {},
          "execution_count": 4
        }
      ]
    },
    {
      "cell_type": "markdown",
      "source": [
        "It is good to know what kind of data we are dealing with that is why df.head() command helps a lot. "
      ],
      "metadata": {
        "id": "-SyA3szfOkgS"
      }
    },
    {
      "cell_type": "code",
      "source": [
        "df.head().T"
      ],
      "metadata": {
        "colab": {
          "base_uri": "https://localhost:8080/",
          "height": 606
        },
        "id": "jL4I4GaBzR37",
        "outputId": "37b4dfb7-a117-4bc7-f572-7f4387b5a65d"
      },
      "execution_count": 5,
      "outputs": [
        {
          "output_type": "execute_result",
          "data": {
            "text/plain": [
              "                                                                 0  \\\n",
              "id                                                            2539   \n",
              "name                            Clean & quiet apt home by the park   \n",
              "host_id                                                       2787   \n",
              "host_name                                                     John   \n",
              "neighbourhood_group                                       Brooklyn   \n",
              "neighbourhood                                           Kensington   \n",
              "latitude                                                  40.64749   \n",
              "longitude                                                -73.97237   \n",
              "room_type                                             Private room   \n",
              "price                                                          149   \n",
              "minimum_nights                                                   1   \n",
              "number_of_reviews                                                9   \n",
              "last_review                                             2018-10-19   \n",
              "reviews_per_month                                             0.21   \n",
              "calculated_host_listings_count                                   6   \n",
              "availability_365                                               365   \n",
              "\n",
              "                                                    1  \\\n",
              "id                                               2595   \n",
              "name                            Skylit Midtown Castle   \n",
              "host_id                                          2845   \n",
              "host_name                                    Jennifer   \n",
              "neighbourhood_group                         Manhattan   \n",
              "neighbourhood                                 Midtown   \n",
              "latitude                                     40.75362   \n",
              "longitude                                   -73.98377   \n",
              "room_type                             Entire home/apt   \n",
              "price                                             225   \n",
              "minimum_nights                                      1   \n",
              "number_of_reviews                                  45   \n",
              "last_review                                2019-05-21   \n",
              "reviews_per_month                                0.38   \n",
              "calculated_host_listings_count                      2   \n",
              "availability_365                                  355   \n",
              "\n",
              "                                                                  2  \\\n",
              "id                                                             3647   \n",
              "name                            THE VILLAGE OF HARLEM....NEW YORK !   \n",
              "host_id                                                        4632   \n",
              "host_name                                                 Elisabeth   \n",
              "neighbourhood_group                                       Manhattan   \n",
              "neighbourhood                                                Harlem   \n",
              "latitude                                                   40.80902   \n",
              "longitude                                                  -73.9419   \n",
              "room_type                                              Private room   \n",
              "price                                                           150   \n",
              "minimum_nights                                                    3   \n",
              "number_of_reviews                                                 0   \n",
              "last_review                                                     NaN   \n",
              "reviews_per_month                                               NaN   \n",
              "calculated_host_listings_count                                    1   \n",
              "availability_365                                                365   \n",
              "\n",
              "                                                              3  \\\n",
              "id                                                         3831   \n",
              "name                            Cozy Entire Floor of Brownstone   \n",
              "host_id                                                    4869   \n",
              "host_name                                           LisaRoxanne   \n",
              "neighbourhood_group                                    Brooklyn   \n",
              "neighbourhood                                      Clinton Hill   \n",
              "latitude                                               40.68514   \n",
              "longitude                                             -73.95976   \n",
              "room_type                                       Entire home/apt   \n",
              "price                                                        89   \n",
              "minimum_nights                                                1   \n",
              "number_of_reviews                                           270   \n",
              "last_review                                          2019-07-05   \n",
              "reviews_per_month                                          4.64   \n",
              "calculated_host_listings_count                                1   \n",
              "availability_365                                            194   \n",
              "\n",
              "                                                                               4  \n",
              "id                                                                          5022  \n",
              "name                            Entire Apt: Spacious Studio/Loft by central park  \n",
              "host_id                                                                     7192  \n",
              "host_name                                                                  Laura  \n",
              "neighbourhood_group                                                    Manhattan  \n",
              "neighbourhood                                                        East Harlem  \n",
              "latitude                                                                40.79851  \n",
              "longitude                                                              -73.94399  \n",
              "room_type                                                        Entire home/apt  \n",
              "price                                                                         80  \n",
              "minimum_nights                                                                10  \n",
              "number_of_reviews                                                              9  \n",
              "last_review                                                           2018-11-19  \n",
              "reviews_per_month                                                            0.1  \n",
              "calculated_host_listings_count                                                 1  \n",
              "availability_365                                                               0  "
            ],
            "text/html": [
              "\n",
              "  <div id=\"df-1f80f3e3-f2aa-46f6-b384-b82f2ba2e8ce\">\n",
              "    <div class=\"colab-df-container\">\n",
              "      <div>\n",
              "<style scoped>\n",
              "    .dataframe tbody tr th:only-of-type {\n",
              "        vertical-align: middle;\n",
              "    }\n",
              "\n",
              "    .dataframe tbody tr th {\n",
              "        vertical-align: top;\n",
              "    }\n",
              "\n",
              "    .dataframe thead th {\n",
              "        text-align: right;\n",
              "    }\n",
              "</style>\n",
              "<table border=\"1\" class=\"dataframe\">\n",
              "  <thead>\n",
              "    <tr style=\"text-align: right;\">\n",
              "      <th></th>\n",
              "      <th>0</th>\n",
              "      <th>1</th>\n",
              "      <th>2</th>\n",
              "      <th>3</th>\n",
              "      <th>4</th>\n",
              "    </tr>\n",
              "  </thead>\n",
              "  <tbody>\n",
              "    <tr>\n",
              "      <th>id</th>\n",
              "      <td>2539</td>\n",
              "      <td>2595</td>\n",
              "      <td>3647</td>\n",
              "      <td>3831</td>\n",
              "      <td>5022</td>\n",
              "    </tr>\n",
              "    <tr>\n",
              "      <th>name</th>\n",
              "      <td>Clean &amp; quiet apt home by the park</td>\n",
              "      <td>Skylit Midtown Castle</td>\n",
              "      <td>THE VILLAGE OF HARLEM....NEW YORK !</td>\n",
              "      <td>Cozy Entire Floor of Brownstone</td>\n",
              "      <td>Entire Apt: Spacious Studio/Loft by central park</td>\n",
              "    </tr>\n",
              "    <tr>\n",
              "      <th>host_id</th>\n",
              "      <td>2787</td>\n",
              "      <td>2845</td>\n",
              "      <td>4632</td>\n",
              "      <td>4869</td>\n",
              "      <td>7192</td>\n",
              "    </tr>\n",
              "    <tr>\n",
              "      <th>host_name</th>\n",
              "      <td>John</td>\n",
              "      <td>Jennifer</td>\n",
              "      <td>Elisabeth</td>\n",
              "      <td>LisaRoxanne</td>\n",
              "      <td>Laura</td>\n",
              "    </tr>\n",
              "    <tr>\n",
              "      <th>neighbourhood_group</th>\n",
              "      <td>Brooklyn</td>\n",
              "      <td>Manhattan</td>\n",
              "      <td>Manhattan</td>\n",
              "      <td>Brooklyn</td>\n",
              "      <td>Manhattan</td>\n",
              "    </tr>\n",
              "    <tr>\n",
              "      <th>neighbourhood</th>\n",
              "      <td>Kensington</td>\n",
              "      <td>Midtown</td>\n",
              "      <td>Harlem</td>\n",
              "      <td>Clinton Hill</td>\n",
              "      <td>East Harlem</td>\n",
              "    </tr>\n",
              "    <tr>\n",
              "      <th>latitude</th>\n",
              "      <td>40.64749</td>\n",
              "      <td>40.75362</td>\n",
              "      <td>40.80902</td>\n",
              "      <td>40.68514</td>\n",
              "      <td>40.79851</td>\n",
              "    </tr>\n",
              "    <tr>\n",
              "      <th>longitude</th>\n",
              "      <td>-73.97237</td>\n",
              "      <td>-73.98377</td>\n",
              "      <td>-73.9419</td>\n",
              "      <td>-73.95976</td>\n",
              "      <td>-73.94399</td>\n",
              "    </tr>\n",
              "    <tr>\n",
              "      <th>room_type</th>\n",
              "      <td>Private room</td>\n",
              "      <td>Entire home/apt</td>\n",
              "      <td>Private room</td>\n",
              "      <td>Entire home/apt</td>\n",
              "      <td>Entire home/apt</td>\n",
              "    </tr>\n",
              "    <tr>\n",
              "      <th>price</th>\n",
              "      <td>149</td>\n",
              "      <td>225</td>\n",
              "      <td>150</td>\n",
              "      <td>89</td>\n",
              "      <td>80</td>\n",
              "    </tr>\n",
              "    <tr>\n",
              "      <th>minimum_nights</th>\n",
              "      <td>1</td>\n",
              "      <td>1</td>\n",
              "      <td>3</td>\n",
              "      <td>1</td>\n",
              "      <td>10</td>\n",
              "    </tr>\n",
              "    <tr>\n",
              "      <th>number_of_reviews</th>\n",
              "      <td>9</td>\n",
              "      <td>45</td>\n",
              "      <td>0</td>\n",
              "      <td>270</td>\n",
              "      <td>9</td>\n",
              "    </tr>\n",
              "    <tr>\n",
              "      <th>last_review</th>\n",
              "      <td>2018-10-19</td>\n",
              "      <td>2019-05-21</td>\n",
              "      <td>NaN</td>\n",
              "      <td>2019-07-05</td>\n",
              "      <td>2018-11-19</td>\n",
              "    </tr>\n",
              "    <tr>\n",
              "      <th>reviews_per_month</th>\n",
              "      <td>0.21</td>\n",
              "      <td>0.38</td>\n",
              "      <td>NaN</td>\n",
              "      <td>4.64</td>\n",
              "      <td>0.1</td>\n",
              "    </tr>\n",
              "    <tr>\n",
              "      <th>calculated_host_listings_count</th>\n",
              "      <td>6</td>\n",
              "      <td>2</td>\n",
              "      <td>1</td>\n",
              "      <td>1</td>\n",
              "      <td>1</td>\n",
              "    </tr>\n",
              "    <tr>\n",
              "      <th>availability_365</th>\n",
              "      <td>365</td>\n",
              "      <td>355</td>\n",
              "      <td>365</td>\n",
              "      <td>194</td>\n",
              "      <td>0</td>\n",
              "    </tr>\n",
              "  </tbody>\n",
              "</table>\n",
              "</div>\n",
              "      <button class=\"colab-df-convert\" onclick=\"convertToInteractive('df-1f80f3e3-f2aa-46f6-b384-b82f2ba2e8ce')\"\n",
              "              title=\"Convert this dataframe to an interactive table.\"\n",
              "              style=\"display:none;\">\n",
              "        \n",
              "  <svg xmlns=\"http://www.w3.org/2000/svg\" height=\"24px\"viewBox=\"0 0 24 24\"\n",
              "       width=\"24px\">\n",
              "    <path d=\"M0 0h24v24H0V0z\" fill=\"none\"/>\n",
              "    <path d=\"M18.56 5.44l.94 2.06.94-2.06 2.06-.94-2.06-.94-.94-2.06-.94 2.06-2.06.94zm-11 1L8.5 8.5l.94-2.06 2.06-.94-2.06-.94L8.5 2.5l-.94 2.06-2.06.94zm10 10l.94 2.06.94-2.06 2.06-.94-2.06-.94-.94-2.06-.94 2.06-2.06.94z\"/><path d=\"M17.41 7.96l-1.37-1.37c-.4-.4-.92-.59-1.43-.59-.52 0-1.04.2-1.43.59L10.3 9.45l-7.72 7.72c-.78.78-.78 2.05 0 2.83L4 21.41c.39.39.9.59 1.41.59.51 0 1.02-.2 1.41-.59l7.78-7.78 2.81-2.81c.8-.78.8-2.07 0-2.86zM5.41 20L4 18.59l7.72-7.72 1.47 1.35L5.41 20z\"/>\n",
              "  </svg>\n",
              "      </button>\n",
              "      \n",
              "  <style>\n",
              "    .colab-df-container {\n",
              "      display:flex;\n",
              "      flex-wrap:wrap;\n",
              "      gap: 12px;\n",
              "    }\n",
              "\n",
              "    .colab-df-convert {\n",
              "      background-color: #E8F0FE;\n",
              "      border: none;\n",
              "      border-radius: 50%;\n",
              "      cursor: pointer;\n",
              "      display: none;\n",
              "      fill: #1967D2;\n",
              "      height: 32px;\n",
              "      padding: 0 0 0 0;\n",
              "      width: 32px;\n",
              "    }\n",
              "\n",
              "    .colab-df-convert:hover {\n",
              "      background-color: #E2EBFA;\n",
              "      box-shadow: 0px 1px 2px rgba(60, 64, 67, 0.3), 0px 1px 3px 1px rgba(60, 64, 67, 0.15);\n",
              "      fill: #174EA6;\n",
              "    }\n",
              "\n",
              "    [theme=dark] .colab-df-convert {\n",
              "      background-color: #3B4455;\n",
              "      fill: #D2E3FC;\n",
              "    }\n",
              "\n",
              "    [theme=dark] .colab-df-convert:hover {\n",
              "      background-color: #434B5C;\n",
              "      box-shadow: 0px 1px 3px 1px rgba(0, 0, 0, 0.15);\n",
              "      filter: drop-shadow(0px 1px 2px rgba(0, 0, 0, 0.3));\n",
              "      fill: #FFFFFF;\n",
              "    }\n",
              "  </style>\n",
              "\n",
              "      <script>\n",
              "        const buttonEl =\n",
              "          document.querySelector('#df-1f80f3e3-f2aa-46f6-b384-b82f2ba2e8ce button.colab-df-convert');\n",
              "        buttonEl.style.display =\n",
              "          google.colab.kernel.accessAllowed ? 'block' : 'none';\n",
              "\n",
              "        async function convertToInteractive(key) {\n",
              "          const element = document.querySelector('#df-1f80f3e3-f2aa-46f6-b384-b82f2ba2e8ce');\n",
              "          const dataTable =\n",
              "            await google.colab.kernel.invokeFunction('convertToInteractive',\n",
              "                                                     [key], {});\n",
              "          if (!dataTable) return;\n",
              "\n",
              "          const docLinkHtml = 'Like what you see? Visit the ' +\n",
              "            '<a target=\"_blank\" href=https://colab.research.google.com/notebooks/data_table.ipynb>data table notebook</a>'\n",
              "            + ' to learn more about interactive tables.';\n",
              "          element.innerHTML = '';\n",
              "          dataTable['output_type'] = 'display_data';\n",
              "          await google.colab.output.renderOutput(dataTable, element);\n",
              "          const docLink = document.createElement('div');\n",
              "          docLink.innerHTML = docLinkHtml;\n",
              "          element.appendChild(docLink);\n",
              "        }\n",
              "      </script>\n",
              "    </div>\n",
              "  </div>\n",
              "  "
            ]
          },
          "metadata": {},
          "execution_count": 5
        }
      ]
    },
    {
      "cell_type": "markdown",
      "source": [
        "I used transpose as you can see above. It changed the orientation how we see. "
      ],
      "metadata": {
        "id": "IPj3TrqxOyGw"
      }
    },
    {
      "cell_type": "code",
      "source": [
        "df.hist()"
      ],
      "metadata": {
        "colab": {
          "base_uri": "https://localhost:8080/",
          "height": 502
        },
        "id": "tJLG38XjzrBE",
        "outputId": "f42f3a01-16f1-4d40-c115-e709d772175b"
      },
      "execution_count": 6,
      "outputs": [
        {
          "output_type": "execute_result",
          "data": {
            "text/plain": [
              "array([[<matplotlib.axes._subplots.AxesSubplot object at 0x7f160783fd10>,\n",
              "        <matplotlib.axes._subplots.AxesSubplot object at 0x7f1608ae0e10>,\n",
              "        <matplotlib.axes._subplots.AxesSubplot object at 0x7f1606c94d90>],\n",
              "       [<matplotlib.axes._subplots.AxesSubplot object at 0x7f1606c75990>,\n",
              "        <matplotlib.axes._subplots.AxesSubplot object at 0x7f1606c2ef90>,\n",
              "        <matplotlib.axes._subplots.AxesSubplot object at 0x7f1606bee5d0>],\n",
              "       [<matplotlib.axes._subplots.AxesSubplot object at 0x7f1606ba5c50>,\n",
              "        <matplotlib.axes._subplots.AxesSubplot object at 0x7f1606b681d0>,\n",
              "        <matplotlib.axes._subplots.AxesSubplot object at 0x7f1606b68210>],\n",
              "       [<matplotlib.axes._subplots.AxesSubplot object at 0x7f1606b1f910>,\n",
              "        <matplotlib.axes._subplots.AxesSubplot object at 0x7f1606a99450>,\n",
              "        <matplotlib.axes._subplots.AxesSubplot object at 0x7f1606a51a50>]],\n",
              "      dtype=object)"
            ]
          },
          "metadata": {},
          "execution_count": 6
        },
        {
          "output_type": "display_data",
          "data": {
            "text/plain": [
              "<Figure size 432x288 with 12 Axes>"
            ],
            "image/png": "[encoded data removed]"
          },
          "metadata": {
            "needs_background": "light"
          }
        }
      ]
    },
    {
      "cell_type": "markdown",
      "source": [
        "As you can see how messy above graph is. So I will be looking at one particular item. "
      ],
      "metadata": {
        "id": "cjj6DBvmRNIH"
      }
    },
    {
      "cell_type": "code",
      "source": [
        "df.price.plot.hist(title=\"Price by neighbourhood_group\", bins= 50).set_xlabel(\"Price\")"
      ],
      "metadata": {
        "id": "Ord4pcZNSuwv",
        "outputId": "0b620a69-ed2e-49d8-8f70-79020c02606e",
        "colab": {
          "base_uri": "https://localhost:8080/",
          "height": 312
        }
      },
      "execution_count": 7,
      "outputs": [
        {
          "output_type": "execute_result",
          "data": {
            "text/plain": [
              "Text(0.5, 0, 'Price')"
            ]
          },
          "metadata": {},
          "execution_count": 7
        },
        {
          "output_type": "display_data",
          "data": {
            "text/plain": [
              "<Figure size 432x288 with 1 Axes>"
            ],
            "image/png": "[encoded data removed]"
          },
          "metadata": {
            "needs_background": "light"
          }
        }
      ]
    },
    {
      "cell_type": "markdown",
      "source": [
        "I can barely tell anything from the graph. Normally it happens because of the outliers. However, too good to be true that some of the room could cost almost 38000. "
      ],
      "metadata": {
        "id": "wnqZ7Vt5WDX8"
      }
    },
    {
      "cell_type": "code",
      "source": [
        "df.price.plot.hist(title=\"Price by neighbourhood_group\",bins =100,xlim=[0,1000]).set_xlabel(\"Price\")"
      ],
      "metadata": {
        "id": "BE8KQZNRRaeC",
        "outputId": "270b7fc6-c96c-4ebe-982f-e318a3a93903",
        "colab": {
          "base_uri": "https://localhost:8080/",
          "height": 312
        }
      },
      "execution_count": 8,
      "outputs": [
        {
          "output_type": "execute_result",
          "data": {
            "text/plain": [
              "Text(0.5, 0, 'Price')"
            ]
          },
          "metadata": {},
          "execution_count": 8
        },
        {
          "output_type": "display_data",
          "data": {
            "text/plain": [
              "<Figure size 432x288 with 1 Axes>"
            ],
            "image/png": "[encoded data removed]"
          },
          "metadata": {
            "needs_background": "light"
          }
        }
      ]
    },
    {
      "cell_type": "markdown",
      "source": [
        "Second graph is better than first because I have used bins to 100 and set the limit for x. I think 100 is the perfect for the bin size because I can see it in a better way."
      ],
      "metadata": {
        "id": "YD-r9C1tSqlo"
      }
    },
    {
      "cell_type": "code",
      "source": [
        "df.groupby('neighbourhood_group').price.plot.hist(alpha = .7) "
      ],
      "metadata": {
        "id": "5-GKhmyvT4ZJ",
        "outputId": "a189d98e-7f8c-4882-9d50-334390092602",
        "colab": {
          "base_uri": "https://localhost:8080/",
          "height": 384
        }
      },
      "execution_count": 9,
      "outputs": [
        {
          "output_type": "execute_result",
          "data": {
            "text/plain": [
              "neighbourhood_group\n",
              "Bronx            AxesSubplot(0.125,0.125;0.775x0.755)\n",
              "Brooklyn         AxesSubplot(0.125,0.125;0.775x0.755)\n",
              "Manhattan        AxesSubplot(0.125,0.125;0.775x0.755)\n",
              "Queens           AxesSubplot(0.125,0.125;0.775x0.755)\n",
              "Staten Island    AxesSubplot(0.125,0.125;0.775x0.755)\n",
              "Name: price, dtype: object"
            ]
          },
          "metadata": {},
          "execution_count": 9
        },
        {
          "output_type": "display_data",
          "data": {
            "text/plain": [
              "<Figure size 432x288 with 1 Axes>"
            ],
            "image/png": "[encoded data removed]"
          },
          "metadata": {
            "needs_background": "light"
          }
        }
      ]
    },
    {
      "cell_type": "code",
      "source": [
        "df.groupby('neighbourhood_group').price.plot.hist(alpha = .3) "
      ],
      "metadata": {
        "id": "fLTEokKYW8pY",
        "outputId": "a7a7d28e-af26-4928-c174-9a796b7a2fc9",
        "colab": {
          "base_uri": "https://localhost:8080/",
          "height": 384
        }
      },
      "execution_count": 10,
      "outputs": [
        {
          "output_type": "execute_result",
          "data": {
            "text/plain": [
              "neighbourhood_group\n",
              "Bronx            AxesSubplot(0.125,0.125;0.775x0.755)\n",
              "Brooklyn         AxesSubplot(0.125,0.125;0.775x0.755)\n",
              "Manhattan        AxesSubplot(0.125,0.125;0.775x0.755)\n",
              "Queens           AxesSubplot(0.125,0.125;0.775x0.755)\n",
              "Staten Island    AxesSubplot(0.125,0.125;0.775x0.755)\n",
              "Name: price, dtype: object"
            ]
          },
          "metadata": {},
          "execution_count": 10
        },
        {
          "output_type": "display_data",
          "data": {
            "text/plain": [
              "<Figure size 432x288 with 1 Axes>"
            ],
            "image/png": "[encoded data removed]"
          },
          "metadata": {
            "needs_background": "light"
          }
        }
      ]
    },
    {
      "cell_type": "markdown",
      "source": [
        "Alpha value makes the graph transparent. We can clearly see the difference in two graphs. \n",
        "\n",
        "\n",
        "\n"
      ],
      "metadata": {
        "id": "DcFgIBEKT7DC"
      }
    },
    {
      "cell_type": "code",
      "source": [
        "df.plot.hist(bins=10, title ='Bad graph', alpha = .9)"
      ],
      "metadata": {
        "id": "pGjYggZzXW09",
        "outputId": "e7104e19-91f7-4a1e-dc10-2d055b1cb191",
        "colab": {
          "base_uri": "https://localhost:8080/",
          "height": 311
        }
      },
      "execution_count": 11,
      "outputs": [
        {
          "output_type": "execute_result",
          "data": {
            "text/plain": [
              "<matplotlib.axes._subplots.AxesSubplot at 0x7f1606245250>"
            ]
          },
          "metadata": {},
          "execution_count": 11
        },
        {
          "output_type": "display_data",
          "data": {
            "text/plain": [
              "<Figure size 432x288 with 1 Axes>"
            ],
            "image/png": "[encoded data removed]"
          },
          "metadata": {
            "needs_background": "light"
          }
        }
      ]
    },
    {
      "cell_type": "markdown",
      "source": [
        "Above graph does not make sense and it is clearly a bad graph. "
      ],
      "metadata": {
        "id": "IrMYGf2RZHr2"
      }
    },
    {
      "cell_type": "code",
      "source": [
        "dm = df['price'].hist(by=df['neighbourhood_group'])"
      ],
      "metadata": {
        "id": "8QVuRTrsZOhP",
        "outputId": "745b5a41-b6e0-49b2-b774-2343455f5021",
        "colab": {
          "base_uri": "https://localhost:8080/",
          "height": 295
        }
      },
      "execution_count": 59,
      "outputs": [
        {
          "output_type": "display_data",
          "data": {
            "text/plain": [
              "<Figure size 432x288 with 6 Axes>"
            ],
            "image/png": "[encoded data removed]"
          },
          "metadata": {
            "needs_background": "light"
          }
        }
      ]
    },
    {
      "cell_type": "code",
      "source": [
        "import matplotlib.pyplot as plt\n",
        "plt.figure(figsize=(10,10))\n",
        "plt.hist(df.price, bins = 100, range= [1000,2000], density = True, histtype='bar', align= 'mid' , orientation ='vertical',rwidth = 10 ,log = False, color = 'Red', Label = None)"
      ],
      "metadata": {
        "id": "vzbpMUjVkDJO",
        "outputId": "f76fc49b-f05d-45a7-b806-33b13edae442",
        "colab": {
          "base_uri": "https://localhost:8080/",
          "height": 1000
        }
      },
      "execution_count": 118,
      "outputs": [
        {
          "output_type": "execute_result",
          "data": {
            "text/plain": [
              "(array([0.02830189, 0.        , 0.0004717 , 0.        , 0.0004717 ,\n",
              "        0.00141509, 0.0009434 , 0.0004717 , 0.0004717 , 0.0009434 ,\n",
              "        0.00566038, 0.0004717 , 0.        , 0.        , 0.0004717 ,\n",
              "        0.0009434 , 0.        , 0.0009434 , 0.        , 0.0009434 ,\n",
              "        0.00707547, 0.        , 0.        , 0.        , 0.        ,\n",
              "        0.00283019, 0.        , 0.        , 0.        , 0.0009434 ,\n",
              "        0.00235849, 0.0004717 , 0.        , 0.0004717 , 0.        ,\n",
              "        0.0009434 , 0.0004717 , 0.        , 0.        , 0.0004717 ,\n",
              "        0.0009434 , 0.        , 0.        , 0.        , 0.        ,\n",
              "        0.0004717 , 0.        , 0.0004717 , 0.0004717 , 0.00141509,\n",
              "        0.01226415, 0.        , 0.        , 0.        , 0.        ,\n",
              "        0.0004717 , 0.        , 0.        , 0.        , 0.0009434 ,\n",
              "        0.00188679, 0.        , 0.        , 0.        , 0.        ,\n",
              "        0.        , 0.        , 0.        , 0.0004717 , 0.        ,\n",
              "        0.00188679, 0.        , 0.        , 0.0004717 , 0.0004717 ,\n",
              "        0.00141509, 0.0004717 , 0.        , 0.        , 0.0009434 ,\n",
              "        0.0009434 , 0.        , 0.        , 0.        , 0.        ,\n",
              "        0.        , 0.        , 0.        , 0.0004717 , 0.0004717 ,\n",
              "        0.0004717 , 0.        , 0.        , 0.        , 0.        ,\n",
              "        0.        , 0.        , 0.0004717 , 0.        , 0.01273585]),\n",
              " array([1000., 1010., 1020., 1030., 1040., 1050., 1060., 1070., 1080.,\n",
              "        1090., 1100., 1110., 1120., 1130., 1140., 1150., 1160., 1170.,\n",
              "        1180., 1190., 1200., 1210., 1220., 1230., 1240., 1250., 1260.,\n",
              "        1270., 1280., 1290., 1300., 1310., 1320., 1330., 1340., 1350.,\n",
              "        1360., 1370., 1380., 1390., 1400., 1410., 1420., 1430., 1440.,\n",
              "        1450., 1460., 1470., 1480., 1490., 1500., 1510., 1520., 1530.,\n",
              "        1540., 1550., 1560., 1570., 1580., 1590., 1600., 1610., 1620.,\n",
              "        1630., 1640., 1650., 1660., 1670., 1680., 1690., 1700., 1710.,\n",
              "        1720., 1730., 1740., 1750., 1760., 1770., 1780., 1790., 1800.,\n",
              "        1810., 1820., 1830., 1840., 1850., 1860., 1870., 1880., 1890.,\n",
              "        1900., 1910., 1920., 1930., 1940., 1950., 1960., 1970., 1980.,\n",
              "        1990., 2000.]),\n",
              " <a list of 100 Patch objects>)"
            ]
          },
          "metadata": {},
          "execution_count": 118
        },
        {
          "output_type": "display_data",
          "data": {
            "text/plain": [
              "<Figure size 720x720 with 1 Axes>"
            ],
            "image/png": "[encoded data removed]"
          },
          "metadata": {
            "needs_background": "light"
          }
        }
      ]
    },
    {
      "cell_type": "markdown",
      "source": [
        "Here I have **bin size is 100** and the graph looks like this. If I wanted to change the **orientation** from **vertical to horizontal** then I can change it too. However, In this case, I do not see the point for doing that. In my above graphs they were too small that is why I have used figure size to make it look big. Well, spaces can be crucial but In my opinion I chose to have big graph. "
      ],
      "metadata": {
        "id": "NozqCKRXosBu"
      }
    },
    {
      "cell_type": "code",
      "source": [
        "plt.figure(figsize=(10,10))\n",
        "plt.hist(df.price,bins = 10, range= [0,2000], density = False , histtype='bar', align= 'mid' , orientation ='vertical',rwidth = 20 ,log = False , color = 'Blue', Label = None )"
      ],
      "metadata": {
        "id": "nPPK7V88oDpP",
        "outputId": "b9201aad-809a-4943-ac9e-fe02f47a926b",
        "colab": {
          "base_uri": "https://localhost:8080/",
          "height": 677
        }
      },
      "execution_count": 117,
      "outputs": [
        {
          "output_type": "execute_result",
          "data": {
            "text/plain": [
              "(array([3.911e+04, 7.797e+03, 1.129e+03, 3.850e+02, 1.760e+02, 9.100e+01,\n",
              "        3.400e+01, 3.700e+01, 1.700e+01, 3.300e+01]),\n",
              " array([   0.,  200.,  400.,  600.,  800., 1000., 1200., 1400., 1600.,\n",
              "        1800., 2000.]),\n",
              " <a list of 10 Patch objects>)"
            ]
          },
          "metadata": {},
          "execution_count": 117
        },
        {
          "output_type": "display_data",
          "data": {
            "text/plain": [
              "<Figure size 720x720 with 1 Axes>"
            ],
            "image/png": "[encoded data removed]"
          },
          "metadata": {
            "needs_background": "light"
          }
        }
      ]
    },
    {
      "cell_type": "markdown",
      "source": [
        "I have changed the **bin size to 10** and the graph looks like this. I really do not know why I would wanna change **log** but changing it from **False** to **True** sure made a difference in my graph as we can see it below. "
      ],
      "metadata": {
        "id": "EjTxIHD8pYDL"
      }
    },
    {
      "cell_type": "code",
      "source": [
        "plt.figure(figsize=(10,10))\n",
        "plt.hist(df.price, bins = 10, range= [0,2000], density = False , histtype='bar', align= 'mid' , orientation ='vertical',rwidth = 20 ,log = True , color = 'Blue', Label = None )"
      ],
      "metadata": {
        "id": "0tPcxOfwrK74",
        "outputId": "2b5605a0-0a29-4069-d1ef-6448b18c3a2d",
        "colab": {
          "base_uri": "https://localhost:8080/",
          "height": 677
        }
      },
      "execution_count": 121,
      "outputs": [
        {
          "output_type": "execute_result",
          "data": {
            "text/plain": [
              "(array([3.911e+04, 7.797e+03, 1.129e+03, 3.850e+02, 1.760e+02, 9.100e+01,\n",
              "        3.400e+01, 3.700e+01, 1.700e+01, 3.300e+01]),\n",
              " array([   0.,  200.,  400.,  600.,  800., 1000., 1200., 1400., 1600.,\n",
              "        1800., 2000.]),\n",
              " <a list of 10 Patch objects>)"
            ]
          },
          "metadata": {},
          "execution_count": 121
        },
        {
          "output_type": "display_data",
          "data": {
            "text/plain": [
              "<Figure size 720x720 with 1 Axes>"
            ],
            "image/png": "[encoded data removed]"
          },
          "metadata": {
            "needs_background": "light"
          }
        }
      ]
    },
    {
      "cell_type": "markdown",
      "source": [
        "Here I can see tiny details after changing **log**. Well, it might not be that important but I am sure it is helpful to narrowing data down. "
      ],
      "metadata": {
        "id": "xclaVYzfrOz0"
      }
    }
  ]
}