{
  "nbformat": 4,
  "nbformat_minor": 0,
  "metadata": {
    "colab": {
      "name": "Untitled23.ipynb",
      "provenance": [],
      "collapsed_sections": [],
      "authorship_tag": "ABX9TyPoZV1r3zu5ZrpFqqAN3Ti3",
      "include_colab_link": true
    },
    "kernelspec": {
      "name": "python3",
      "display_name": "Python 3"
    },
    "language_info": {
      "name": "python"
    }
  },
  "cells": [
    {
      "cell_type": "markdown",
      "metadata": {
        "id": "view-in-github",
        "colab_type": "text"
      },
      "source": [
        "<a href=\"https://colab.research.google.com/github/khatriprajwol/Data-Visualization-/blob/main/Graphical%20Excellence.ipynb\" target=\"_parent\"><img src=\"https://colab.research.google.com/assets/colab-badge.svg\" alt=\"Open In Colab\"/></a>"
      ]
    },
    {
      "cell_type": "markdown",
      "source": [
        "##GRAPHICAL EXCELLENCE\n",
        "\n",
        "In this project I will be working on graphical excellence. We often do not realize that how much information a graph can provide. It gives information in several ways. Some one who is interested in data visualization should learn to deduce any kind of information that graph is trying to present. "
      ],
      "metadata": {
        "id": "5hEfjhnRLv8i"
      }
    },
    {
      "cell_type": "markdown",
      "source": [
        "Here I will be examining John Snow's map of cholera outbreak in 1854 for 'graphical excellence'. Let's find some information. Before that instead of going back to the graph time and again. I will make it easier by pulling that graph in here.\n",
        "\n",
        "\n",
        "![John Snows map](https://en-urban.tau.ac.il/sites/urban_en.tau.ac.il/files/styles/reaserch_main_image_580_x_330/public/Snow-cholera-map-1%20(2)_0.jpg?itok=K4fTd2xH)"
      ],
      "metadata": {
        "id": "odfkTkcwM_hV"
      }
    },
    {
      "cell_type": "markdown",
      "source": [
        "Looking at the data we can clearly see that it is the road map. For example if we are not told it is a cholera out break map then we might not know what is going on in it with out spending a lot of time finding it out. I think this map summarize lot of information and present it efficiently and coherently. \n",
        "\n",
        "There are street name shown in the map. Each block represents house or a residential area. Inside the block there is black solid mark represents the death of population in this city. \n",
        "\n",
        "We can, with out a doubt tell cholera out break started from `*BROAD STREET PUMP*` since there is huge black solid mark in the map. Every block has some black mark meaning that the cholera was spreaded around the city because there is black mark in most of the block. The highest death is in the pump because it has the big solid mark. Also, in the map there is a black line lined up. Is it a number of death in that particular block? Well, it could be because some has three and some has four. The higher the color intensity the more sever it was. \n",
        "\n",
        "There is one block which has no black solid mark, what can we tell? Well, they might have their own well or other water supply which may not be the part of pipe line.\n",
        "\n",
        "Since, cholera started at the pump which provides water line around the whole city. The best thing is the stop the out break is to remove the pump which they ended up doing it due to the visualization and the way the data was presented in the diagram.  \n",
        "\n",
        "\n"
      ],
      "metadata": {
        "id": "1iDn2UqQx8x1"
      }
    }
  ]
}