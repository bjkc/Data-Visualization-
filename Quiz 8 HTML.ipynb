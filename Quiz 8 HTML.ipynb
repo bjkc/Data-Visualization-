{
  "nbformat": 4,
  "nbformat_minor": 0,
  "metadata": {
    "colab": {
      "name": "Untitled7.ipynb",
      "provenance": [],
      "authorship_tag": "ABX9TyMqJw3f+PbAz3UuLorA4Wlw",
      "include_colab_link": true
    },
    "kernelspec": {
      "name": "python3",
      "display_name": "Python 3"
    },
    "language_info": {
      "name": "python"
    }
  },
  "cells": [
    {
      "cell_type": "markdown",
      "metadata": {
        "id": "view-in-github",
        "colab_type": "text"
      },
      "source": [
        "<a href=\"https://colab.research.google.com/github/khatriprajwol/Data-Visualization-/blob/main/Quiz%208%20HTML.ipynb\" target=\"_parent\"><img src=\"https://colab.research.google.com/assets/colab-badge.svg\" alt=\"Open In Colab\"/></a>"
      ]
    },
    {
      "cell_type": "markdown",
      "source": [
        "I have used *requests* to gather the raw html from the web and used *BeautifulSoup* will help me parse the code."
      ],
      "metadata": {
        "id": "Ps-4X5L0pr21"
      }
    },
    {
      "cell_type": "code",
      "execution_count": 1,
      "metadata": {
        "id": "hAdff_R0oIu8"
      },
      "outputs": [],
      "source": [
        "import requests\n",
        "import pandas as pa\n",
        "from bs4 import BeautifulSoup"
      ]
    },
    {
      "cell_type": "code",
      "source": [
        "r = requests.get('https://en.wikipedia.org/wiki/Tom_and_Jerry')\n",
        "html_contents = r.text\n",
        "html_soup = BeautifulSoup(html_contents,\"lxml\")\n",
        "#html_soup"
      ],
      "metadata": {
        "id": "o3hWeC29oRSr"
      },
      "execution_count": 2,
      "outputs": []
    },
    {
      "cell_type": "code",
      "source": [
        "html_soup.title"
      ],
      "metadata": {
        "colab": {
          "base_uri": "https://localhost:8080/"
        },
        "id": "lsKK2PP9o5yC",
        "outputId": "4f162ecc-e73d-46df-b46c-84be4ba83134"
      },
      "execution_count": 3,
      "outputs": [
        {
          "output_type": "execute_result",
          "data": {
            "text/plain": [
              "<title>Tom and Jerry - Wikipedia</title>"
            ]
          },
          "metadata": {},
          "execution_count": 3
        }
      ]
    },
    {
      "cell_type": "markdown",
      "source": [
        "This code prints the title of the html."
      ],
      "metadata": {
        "id": "Wh0kHuzdVIeI"
      }
    },
    {
      "cell_type": "code",
      "source": [
        "html_soup.table"
      ],
      "metadata": {
        "colab": {
          "base_uri": "https://localhost:8080/"
        },
        "id": "aE-Wp7DupjH3",
        "outputId": "68d46eda-8ebe-453d-abf0-b578531339f2"
      },
      "execution_count": 4,
      "outputs": [
        {
          "output_type": "execute_result",
          "data": {
            "text/plain": [
              "<table class=\"infobox vevent\"><tbody><tr><th class=\"infobox-above summary\" colspan=\"2\" style=\"font-size: 125%; font-style: italic;\">Tom and Jerry</th></tr><tr><td class=\"infobox-image\" colspan=\"2\"><a class=\"image\" href=\"/wiki/File:TomandJerryTitleCardc.jpg\"><img alt=\"TomandJerryTitleCardc.jpg\" class=\"thumbborder\" data-file-height=\"263\" data-file-width=\"350\" decoding=\"async\" height=\"165\" src=\"//upload.wikimedia.org/wikipedia/en/thumb/5/5f/TomandJerryTitleCardc.jpg/220px-TomandJerryTitleCardc.jpg\" srcset=\"//upload.wikimedia.org/wikipedia/en/thumb/5/5f/TomandJerryTitleCardc.jpg/330px-TomandJerryTitleCardc.jpg 1.5x, //upload.wikimedia.org/wikipedia/en/5/5f/TomandJerryTitleCardc.jpg 2x\" width=\"220\"/></a><div class=\"infobox-caption\">Title card used 1946–1954</div></td></tr><tr><th class=\"infobox-label\" scope=\"row\" style=\"white-space: nowrap; padding-right: 0.65em;\">Directed by</th><td class=\"infobox-data\"><div class=\"plainlist\"><ul><li><a href=\"/wiki/William_Hanna\" title=\"William Hanna\">William Hanna</a> <span style=\"font-size:85%;\">(1940–58)</span></li><li><a href=\"/wiki/Joseph_Barbera\" title=\"Joseph Barbera\">Joseph Barbera</a> <span style=\"font-size:85%;\">(1940–58)</span></li><li><a href=\"/wiki/Gene_Deitch\" title=\"Gene Deitch\">Gene Deitch</a> <span style=\"font-size:85%;\">(1961–62)</span></li><li><a href=\"/wiki/Chuck_Jones\" title=\"Chuck Jones\">Chuck Jones</a> <span style=\"font-size:85%;\">(1963–67)</span></li><li><a href=\"/wiki/Maurice_Noble\" title=\"Maurice Noble\">Maurice Noble</a> <span style=\"font-size:85%;\">(1964–67)</span></li><li><a href=\"/wiki/Abe_Levitow\" title=\"Abe Levitow\">Abe Levitow</a> <span style=\"font-size:85%;\">(1965–67)</span></li><li><a href=\"/wiki/Tom_Ray\" title=\"Tom Ray\">Tom Ray</a> <span style=\"font-size:85%;\">(1966–67)</span></li><li><a href=\"/wiki/Ben_Washam\" title=\"Ben Washam\">Ben Washam</a> <span style=\"font-size:85%;\">(1966–67)</span></li></ul></div></td></tr><tr><th class=\"infobox-label\" scope=\"row\" style=\"white-space: nowrap; padding-right: 0.65em;\">Written by</th><td class=\"infobox-data\"><div class=\"plainlist\"><ul><li><a href=\"/wiki/William_Hanna\" title=\"William Hanna\">William Hanna</a> <span style=\"font-size:85%;\">(1940–58)</span></li><li><a href=\"/wiki/Joseph_Barbera\" title=\"Joseph Barbera\">Joseph Barbera</a> <span style=\"font-size:85%;\">(1940–58)</span></li><li><a href=\"/wiki/Gene_Deitch\" title=\"Gene Deitch\">Gene Deitch</a> <span style=\"font-size:85%;\">(1961–62)</span></li><li><a href=\"/wiki/Eli_Bauer\" title=\"Eli Bauer\">Eli Bauer</a> <span style=\"font-size:85%;\">(1961–62)</span></li><li><a href=\"/wiki/Larz_Bourne\" title=\"Larz Bourne\">Larz Bourne</a> <span style=\"font-size:85%;\">(1961–62)</span></li><li><a href=\"/wiki/Michael_Maltese\" title=\"Michael Maltese\">Michael Maltese</a> <span style=\"font-size:85%;\">(1963–67)</span></li><li><a href=\"/wiki/Jim_Pabian\" title=\"Jim Pabian\">Jim Pabian</a> <span style=\"font-size:85%;\">(1965)</span></li><li><a href=\"/wiki/Bob_Ogle\" title=\"Bob Ogle\">Bob Ogle</a> <span style=\"font-size:85%;\">(1966–67)</span></li><li><a class=\"mw-redirect\" href=\"/wiki/John_W._Dunn_(animator)\" title=\"John W. Dunn (animator)\">John W. Dunn</a> <span style=\"font-size:85%;\">(1965–67)</span></li></ul></div></td></tr><tr><th class=\"infobox-label\" scope=\"row\" style=\"white-space: nowrap; padding-right: 0.65em;\">Produced by</th><td class=\"infobox-data\"><div class=\"plainlist\"><ul><li><a href=\"/wiki/Rudolf_Ising\" title=\"Rudolf Ising\">Rudolf Ising</a> <span style=\"font-size:85%;\">(1940)</span></li><li><a href=\"/wiki/Fred_Quimby\" title=\"Fred Quimby\">Fred Quimby</a> <span style=\"font-size:85%;\">(1940–55)</span></li><li><a href=\"/wiki/William_Hanna\" title=\"William Hanna\">William Hanna</a> <span style=\"font-size:85%;\">(1955–58)</span></li><li><a href=\"/wiki/Joseph_Barbera\" title=\"Joseph Barbera\">Joseph Barbera</a> <span style=\"font-size:85%;\">(1955–58)</span></li><li><a href=\"/wiki/William_L._Snyder\" title=\"William L. Snyder\">William L. Snyder</a> <span style=\"font-size:85%;\">(1961–62)</span></li><li><a href=\"/wiki/Chuck_Jones\" title=\"Chuck Jones\">Chuck Jones</a> <span style=\"font-size:85%;\">(1963–67)</span></li><li>Walter Bien <span style=\"font-size:85%;\">(1963–65)</span></li><li>Les Goldman <span style=\"font-size:85%;\">(1963–67)</span></li><li>Earl Jonas <span style=\"font-size:85%;\">(1965–67)</span></li></ul></div></td></tr><tr><th class=\"infobox-label\" scope=\"row\" style=\"white-space: nowrap; padding-right: 0.65em;\">Starring</th><td class=\"infobox-data\"><div class=\"plainlist\"><ul><li><a href=\"/wiki/Harry_E._Lang\" title=\"Harry E. Lang\">Harry E. Lang</a></li><li><a href=\"/wiki/William_Hanna\" title=\"William Hanna\">William Hanna</a></li><li><a class=\"mw-redirect\" href=\"/wiki/Red_Coffee\" title=\"Red Coffee\">Red Coffee</a></li><li><a href=\"/wiki/Lillian_Randolph\" title=\"Lillian Randolph\">Lillian Randolph</a></li><li><a href=\"/wiki/Billy_Bletcher\" title=\"Billy Bletcher\">Billy Bletcher</a></li><li><a href=\"/wiki/Paul_Frees\" title=\"Paul Frees\">Paul Frees</a></li><li><a href=\"/wiki/Daws_Butler\" title=\"Daws Butler\">Daws Butler</a></li><li><a href=\"/wiki/Gene_Deitch\" title=\"Gene Deitch\">Gene Deitch</a></li><li><a href=\"/wiki/Allen_Swift\" title=\"Allen Swift\">Allen Swift</a></li><li><a href=\"/wiki/Mel_Blanc\" title=\"Mel Blanc\">Mel Blanc</a></li><li><a href=\"/wiki/June_Foray\" title=\"June Foray\">June Foray</a></li><li><a href=\"/wiki/Chuck_Jones\" title=\"Chuck Jones\">Chuck Jones</a></li><li>Dick Nelson</li></ul></div></td></tr><tr><th class=\"infobox-label\" scope=\"row\" style=\"white-space: nowrap; padding-right: 0.65em;\">Music by</th><td class=\"infobox-data\"><a href=\"/wiki/Scott_Bradley_(composer)\" title=\"Scott Bradley (composer)\">Scott Bradley</a> <span style=\"font-size:85%;\">(113 shorts)</span><br/><a href=\"/wiki/Edward_H._Plumb\" title=\"Edward H. Plumb\">Edward Plumb</a> (<span style=\"font-size:85%;\"><a class=\"mw-redirect\" href=\"/wiki/The_Missing_Mouse\" title=\"The Missing Mouse\">1 short</a></span>)<br/><a class=\"mw-redirect\" href=\"/wiki/Steven_Konichek\" title=\"Steven Konichek\">Steven Konichek</a> <span style=\"font-size:85%;\">(12 shorts)</span><br/>Eugene Poddany <span style=\"font-size:85%;\">(20 shorts)</span><br/><a href=\"/wiki/Dean_Elliott\" title=\"Dean Elliott\">Dean Elliott</a> <span style=\"font-size:85%;\">(8 shorts)</span><br/><a href=\"/wiki/Carl_Brandt_(composer)\" title=\"Carl Brandt (composer)\">Carl Brandt</a> <span style=\"font-size:85%;\">(2 shorts)</span><br/><a href=\"/wiki/Hoyt_Curtin\" title=\"Hoyt Curtin\">Hoyt Curtin</a> <span style=\"font-size:85%;\">(16 shorts)</span><br/>Yvette Blais and Jeff Michael <span style=\"font-size:85%;\">(15 shorts)</span><br/>Tom Worrall <span style=\"font-size:85%;\">(39 shorts)</span><br/>Gary Lionelli <span style=\"font-size:85%;\">(26 shorts)</span><br/>J. Eric Schmidt<br/>Tom Erba <span style=\"font-size:85%;\">(26 shorts)</span><br/><a href=\"/wiki/Vivek_Maddala\" title=\"Vivek Maddala\">Vivek Maddala</a> <span style=\"font-size:85%;\">(124 shorts)</span><br/>David Ricard<br/>John Van Tongeren</td></tr><tr><th class=\"infobox-label\" scope=\"row\" style=\"white-space: nowrap; padding-right: 0.65em;\"><div style=\"display:inline-block; padding:0.1em 0;line-height:1.2em;\">Production<br/>companies</div></th><td class=\"infobox-data\"><div style=\"vertical-align: middle;\"><a href=\"/wiki/Metro-Goldwyn-Mayer_cartoon_studio\" title=\"Metro-Goldwyn-Mayer cartoon studio\">MGM Cartoons</a> (Hanna-Barbera shorts)<br/><a href=\"/wiki/Rembrandt_Films\" title=\"Rembrandt Films\">Rembrandt Films</a> (Gene Deitch shorts)<br/><a href=\"/wiki/MGM_Animation/Visual_Arts\" title=\"MGM Animation/Visual Arts\">MGM Animation/Visual Arts</a> (Chuck Jones shorts)</div></td></tr><tr><th class=\"infobox-label\" scope=\"row\" style=\"white-space: nowrap; padding-right: 0.65em;\">Distributed by</th><td class=\"infobox-data\"><a href=\"/wiki/Metro-Goldwyn-Mayer\" title=\"Metro-Goldwyn-Mayer\">Metro-Goldwyn-Mayer</a> (before 1986)<br/><a href=\"/wiki/Warner_Bros.\" title=\"Warner Bros.\">Warner Bros.</a> (present-day)</td></tr><tr><th class=\"infobox-label\" scope=\"row\" style=\"white-space: nowrap; padding-right: 0.65em;\"><div style=\"display:inline-block; padding:0.1em 0;line-height:1.2em;white-space: normal;\">Release dates</div></th><td class=\"infobox-data\"><div class=\"plainlist\"><ul><li>February 10, 1940 –</li><li>September 8, 1967</li></ul></div></td></tr><tr><th class=\"infobox-label\" scope=\"row\" style=\"white-space: nowrap; padding-right: 0.65em;\"><div style=\"display:inline-block; padding:0.1em 0;line-height:1.2em;white-space: normal;\">Running time</div></th><td class=\"infobox-data\">6–10 minutes</td></tr></tbody></table>"
            ]
          },
          "metadata": {},
          "execution_count": 4
        }
      ]
    },
    {
      "cell_type": "code",
      "source": [
        "html_soup.img"
      ],
      "metadata": {
        "colab": {
          "base_uri": "https://localhost:8080/"
        },
        "id": "ptugx837roHS",
        "outputId": "eb250ded-90bc-4b16-c44a-a56bc9732b80"
      },
      "execution_count": 5,
      "outputs": [
        {
          "output_type": "execute_result",
          "data": {
            "text/plain": [
              "<img alt=\"Page semi-protected\" data-file-height=\"512\" data-file-width=\"512\" decoding=\"async\" height=\"20\" src=\"//upload.wikimedia.org/wikipedia/en/thumb/1/1b/Semi-protection-shackle.svg/20px-Semi-protection-shackle.svg.png\" srcset=\"//upload.wikimedia.org/wikipedia/en/thumb/1/1b/Semi-protection-shackle.svg/30px-Semi-protection-shackle.svg.png 1.5x, //upload.wikimedia.org/wikipedia/en/thumb/1/1b/Semi-protection-shackle.svg/40px-Semi-protection-shackle.svg.png 2x\" width=\"20\"/>"
            ]
          },
          "metadata": {},
          "execution_count": 5
        }
      ]
    },
    {
      "cell_type": "markdown",
      "source": [
        "*Find_all* command helps me to find the element that particular element. "
      ],
      "metadata": {
        "id": "3DMFZ5faVSd2"
      }
    },
    {
      "cell_type": "code",
      "source": [
        "html_soup.table.find_all('a')[1]['href']"
      ],
      "metadata": {
        "colab": {
          "base_uri": "https://localhost:8080/",
          "height": 37
        },
        "id": "9AEl1iF5pMVH",
        "outputId": "7fb06a99-9a2a-4c88-9c8d-e13c2560eefb"
      },
      "execution_count": 6,
      "outputs": [
        {
          "output_type": "execute_result",
          "data": {
            "application/vnd.google.colaboratory.intrinsic+json": {
              "type": "string"
            },
            "text/plain": [
              "'/wiki/William_Hanna'"
            ]
          },
          "metadata": {},
          "execution_count": 6
        }
      ]
    },
    {
      "cell_type": "markdown",
      "source": [
        "It did find one, however, I am expecting the entire link. For that the code below helps me to find one. "
      ],
      "metadata": {
        "id": "OYyNO3A-VvKx"
      }
    },
    {
      "cell_type": "code",
      "source": [
        "links = html_soup.table.find_all('a')\n",
        "listOfURLS = []\n",
        "\n",
        "for link in links:\n",
        "  listOfURLS.append('https://en.wikipedia.org' + link['href'])\n",
        "\n",
        "listOfURLS"
      ],
      "metadata": {
        "colab": {
          "base_uri": "https://localhost:8080/"
        },
        "id": "GuXY6nQupFqc",
        "outputId": "d4c27071-b813-4d9f-a9d8-f4d72d0f5bb9"
      },
      "execution_count": 7,
      "outputs": [
        {
          "output_type": "execute_result",
          "data": {
            "text/plain": [
              "['https://en.wikipedia.org/wiki/File:TomandJerryTitleCardc.jpg',\n",
              " 'https://en.wikipedia.org/wiki/William_Hanna',\n",
              " 'https://en.wikipedia.org/wiki/Joseph_Barbera',\n",
              " 'https://en.wikipedia.org/wiki/Gene_Deitch',\n",
              " 'https://en.wikipedia.org/wiki/Chuck_Jones',\n",
              " 'https://en.wikipedia.org/wiki/Maurice_Noble',\n",
              " 'https://en.wikipedia.org/wiki/Abe_Levitow',\n",
              " 'https://en.wikipedia.org/wiki/Tom_Ray',\n",
              " 'https://en.wikipedia.org/wiki/Ben_Washam',\n",
              " 'https://en.wikipedia.org/wiki/William_Hanna',\n",
              " 'https://en.wikipedia.org/wiki/Joseph_Barbera',\n",
              " 'https://en.wikipedia.org/wiki/Gene_Deitch',\n",
              " 'https://en.wikipedia.org/wiki/Eli_Bauer',\n",
              " 'https://en.wikipedia.org/wiki/Larz_Bourne',\n",
              " 'https://en.wikipedia.org/wiki/Michael_Maltese',\n",
              " 'https://en.wikipedia.org/wiki/Jim_Pabian',\n",
              " 'https://en.wikipedia.org/wiki/Bob_Ogle',\n",
              " 'https://en.wikipedia.org/wiki/John_W._Dunn_(animator)',\n",
              " 'https://en.wikipedia.org/wiki/Rudolf_Ising',\n",
              " 'https://en.wikipedia.org/wiki/Fred_Quimby',\n",
              " 'https://en.wikipedia.org/wiki/William_Hanna',\n",
              " 'https://en.wikipedia.org/wiki/Joseph_Barbera',\n",
              " 'https://en.wikipedia.org/wiki/William_L._Snyder',\n",
              " 'https://en.wikipedia.org/wiki/Chuck_Jones',\n",
              " 'https://en.wikipedia.org/wiki/Harry_E._Lang',\n",
              " 'https://en.wikipedia.org/wiki/William_Hanna',\n",
              " 'https://en.wikipedia.org/wiki/Red_Coffee',\n",
              " 'https://en.wikipedia.org/wiki/Lillian_Randolph',\n",
              " 'https://en.wikipedia.org/wiki/Billy_Bletcher',\n",
              " 'https://en.wikipedia.org/wiki/Paul_Frees',\n",
              " 'https://en.wikipedia.org/wiki/Daws_Butler',\n",
              " 'https://en.wikipedia.org/wiki/Gene_Deitch',\n",
              " 'https://en.wikipedia.org/wiki/Allen_Swift',\n",
              " 'https://en.wikipedia.org/wiki/Mel_Blanc',\n",
              " 'https://en.wikipedia.org/wiki/June_Foray',\n",
              " 'https://en.wikipedia.org/wiki/Chuck_Jones',\n",
              " 'https://en.wikipedia.org/wiki/Scott_Bradley_(composer)',\n",
              " 'https://en.wikipedia.org/wiki/Edward_H._Plumb',\n",
              " 'https://en.wikipedia.org/wiki/The_Missing_Mouse',\n",
              " 'https://en.wikipedia.org/wiki/Steven_Konichek',\n",
              " 'https://en.wikipedia.org/wiki/Dean_Elliott',\n",
              " 'https://en.wikipedia.org/wiki/Carl_Brandt_(composer)',\n",
              " 'https://en.wikipedia.org/wiki/Hoyt_Curtin',\n",
              " 'https://en.wikipedia.org/wiki/Vivek_Maddala',\n",
              " 'https://en.wikipedia.org/wiki/Metro-Goldwyn-Mayer_cartoon_studio',\n",
              " 'https://en.wikipedia.org/wiki/Rembrandt_Films',\n",
              " 'https://en.wikipedia.org/wiki/MGM_Animation/Visual_Arts',\n",
              " 'https://en.wikipedia.org/wiki/Metro-Goldwyn-Mayer',\n",
              " 'https://en.wikipedia.org/wiki/Warner_Bros.']"
            ]
          },
          "metadata": {},
          "execution_count": 7
        }
      ]
    }
  ]
}