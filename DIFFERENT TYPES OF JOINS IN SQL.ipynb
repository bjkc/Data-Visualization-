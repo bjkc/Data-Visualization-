{
  "nbformat": 4,
  "nbformat_minor": 0,
  "metadata": {
    "colab": {
      "name": "Untitled26.ipynb",
      "provenance": [],
      "authorship_tag": "ABX9TyP4amh/HgO4OUUloDaLK3Xe",
      "include_colab_link": true
    },
    "kernelspec": {
      "name": "python3",
      "display_name": "Python 3"
    },
    "language_info": {
      "name": "python"
    }
  },
  "cells": [
    {
      "cell_type": "markdown",
      "metadata": {
        "id": "view-in-github",
        "colab_type": "text"
      },
      "source": [
        "<a href=\"https://colab.research.google.com/github/khatriprajwol/Data-Visualization-/blob/main/DIFFERENT%20TYPES%20OF%20JOINS%20IN%20SQL.ipynb\" target=\"_parent\"><img src=\"https://colab.research.google.com/assets/colab-badge.svg\" alt=\"Open In Colab\"/></a>"
      ]
    },
    {
      "cell_type": "markdown",
      "source": [
        "#[Types of Joins](https://www.educba.com/types-of-joins-in-sql/)\n",
        "\n",
        "#What are different types of `JOINS` in SQL?\n",
        "\n",
        "There are `four` different types of joins that we can use in SQL to connect many tables. They are: Inner Join, Full Join, Left Join and Right Join. \n",
        "\n",
        "\n",
        "#JOINING CRITERIA\n",
        "-> Must have  some `Common field` in both tables. \n",
        "\n",
        "\n",
        "![JOINS](https://cdn.educba.com/academy/wp-content/uploads/2019/10/Types-of-Joins-in-SQl.png)\n",
        "\n",
        "The best way to understant join is to think it as a set where we have learned about the `intersection` , `union` and `A only`, so on. \n",
        "\n",
        "\n",
        "\n",
        "\n",
        "\n",
        "\n",
        "#Why we would wanna use them anyway?\n",
        "\n",
        "- To join two or more tables\n",
        "- We can find the relationship between multiple tables.\n",
        "- We can access data quickly from a multiple tables. \n",
        "- Saves a lot of time\n",
        "- Makes our work easier to some extent\n",
        "\n",
        "\n"
      ],
      "metadata": {
        "id": "M2W36BwRfoPy"
      }
    },
    {
      "cell_type": "markdown",
      "source": [
        "#Inner JOIN\n",
        "![Fig-1](https://cdn.educba.com/academy/wp-content/uploads/2019/09/t2.png)\n",
        "\n",
        "In the above diagram `3` represents Inner Join.\n",
        "\n",
        "Inner Join is just like an Intersection where we select the data that is present in both tables.\n",
        "\n",
        "#Syntax for Inner Join: \n",
        "\n",
        "*SELECT column-names \n",
        "  FROM table-name1 INNER JOIN table-name2 ON column-name1 = column-name2 \n",
        "  WHERE condition*"
      ],
      "metadata": {
        "id": "QBGKEAsFkHIP"
      }
    },
    {
      "cell_type": "markdown",
      "source": [
        "#Left Join\n",
        "\n",
        "In left join, we select all the data from the left table and from the right table only select the data set which matches up with the condition mentioned with the join `(here area 1+3)`\n",
        "\n",
        "![Fig](https://cdn.educba.com/academy/wp-content/uploads/2019/09/t2.png)\n",
        "\n",
        "#Syntax for Left Join:\n",
        "\n",
        "*SELECT column-names FROM table-name1 LEFT JOIN table-name2 ON column-name1 = column-name2 WHERE condition*"
      ],
      "metadata": {
        "id": "9G2mVBLfkr3I"
      }
    },
    {
      "cell_type": "markdown",
      "source": [
        "#Right Join\n",
        "\n",
        "In right join, we select all the data from the right table and from the left table only select the data set which matches up with the condition mentioned with the join `(here 3+2)`\n",
        "\n",
        "![Fig](https://cdn.educba.com/academy/wp-content/uploads/2019/09/t2.png)\n",
        "\n",
        "\n",
        "#Syntax for Right Join:\n",
        "\n",
        "SELECT column-names FROM table-name1 RIGHT JOIN table-name2 ON column-name1 = column-name2 WHERE condition\n"
      ],
      "metadata": {
        "id": "YPJBMpw5mLj-"
      }
    },
    {
      "cell_type": "markdown",
      "source": [
        "#Full Join\n",
        "\n",
        "In full join, all the records form both the tables are merged and selected irrespective of the condition mentioned with the join having met or not. `(here 1+2+3)`\n",
        "\n",
        "![Fig](https://cdn.educba.com/academy/wp-content/uploads/2019/09/t2.png)\n",
        "\n",
        "\n",
        "#Syntax for Full Join:\n",
        "\n",
        "SELECT column-names FROM table-name1 FULL JOIN table-name2 ON column-name1 = column-name2 WHERE condition"
      ],
      "metadata": {
        "id": "1K1P8iy7mfep"
      }
    },
    {
      "cell_type": "markdown",
      "source": [
        "[LINK](https://www.educba.com/types-of-joins-in-sql/)"
      ],
      "metadata": {
        "id": "hSmVQ3HLpz6_"
      }
    },
    {
      "cell_type": "markdown",
      "source": [
        "[Seaborn](https://seaborn.pydata.org/examples/scatterplot_matrix.html)\n",
        "\n",
        "Important library"
      ],
      "metadata": {
        "id": "q4wWTPafRnkA"
      }
    }
  ]
}