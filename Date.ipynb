{
  "nbformat": 4,
  "nbformat_minor": 0,
  "metadata": {
    "colab": {
      "name": "Untitled17.ipynb",
      "provenance": [],
      "authorship_tag": "ABX9TyN1hpyefYsNX6d6l/8+1+5g",
      "include_colab_link": true
    },
    "kernelspec": {
      "name": "python3",
      "display_name": "Python 3"
    },
    "language_info": {
      "name": "python"
    }
  },
  "cells": [
    {
      "cell_type": "markdown",
      "metadata": {
        "id": "view-in-github",
        "colab_type": "text"
      },
      "source": [
        "<a href=\"https://colab.research.google.com/github/khatriprajwol/Data-Visualization-/blob/main/Date.ipynb\" target=\"_parent\"><img src=\"https://colab.research.google.com/assets/colab-badge.svg\" alt=\"Open In Colab\"/></a>"
      ]
    },
    {
      "cell_type": "markdown",
      "source": [
        "#Date cleaning"
      ],
      "metadata": {
        "id": "tJJ5tthCuI1g"
      }
    },
    {
      "cell_type": "code",
      "source": [
        "import numpy as np #a matrix like package for handling data\n",
        "import pandas as pd #a R like package for handling data\n",
        "from scipy import stats #a way to just get a piece of a large package\n",
        "import matplotlib.pyplot as plt #a way to generate plots, histograms, bar charts, and other types of charts \n",
        "import seaborn as sns #it is based on matplotlib\n",
        "import requests #HTTP library\n",
        "import pandas as pd # used to manipulate data and analyze it\n",
        "from bs4 import BeautifulSoup #Used for a web scraping purposes to pull the data out of HTML and XML files"
      ],
      "metadata": {
        "id": "MW8arNyezR45"
      },
      "execution_count": 252,
      "outputs": []
    },
    {
      "cell_type": "code",
      "source": [
        "import pandas as pa\n",
        "\n",
        "df = pa.read_csv('https://raw.githubusercontent.com/nurfnick/Data_Viz/main/IOT-temp.csv')\n",
        "\n",
        "df.head(15)"
      ],
      "metadata": {
        "colab": {
          "base_uri": "https://localhost:8080/",
          "height": 819
        },
        "id": "QnXGkiNbuL9O",
        "outputId": "a82ce9b6-ce43-4ed5-e6a2-e1eb09ff14a4"
      },
      "execution_count": 253,
      "outputs": [
        {
          "output_type": "execute_result",
          "data": {
            "text/html": [
              "\n",
              "  <div id=\"df-41d8ff7e-1e9e-4ca9-82cc-0a435973fe80\">\n",
              "    <div class=\"colab-df-container\">\n",
              "      <div>\n",
              "<style scoped>\n",
              "    .dataframe tbody tr th:only-of-type {\n",
              "        vertical-align: middle;\n",
              "    }\n",
              "\n",
              "    .dataframe tbody tr th {\n",
              "        vertical-align: top;\n",
              "    }\n",
              "\n",
              "    .dataframe thead th {\n",
              "        text-align: right;\n",
              "    }\n",
              "</style>\n",
              "<table border=\"1\" class=\"dataframe\">\n",
              "  <thead>\n",
              "    <tr style=\"text-align: right;\">\n",
              "      <th></th>\n",
              "      <th>id</th>\n",
              "      <th>room_id/id</th>\n",
              "      <th>noted_date</th>\n",
              "      <th>temp</th>\n",
              "      <th>out/in</th>\n",
              "    </tr>\n",
              "  </thead>\n",
              "  <tbody>\n",
              "    <tr>\n",
              "      <th>0</th>\n",
              "      <td>__export__.temp_log_196134_bd201015</td>\n",
              "      <td>Room Admin</td>\n",
              "      <td>08-12-2018 09:30</td>\n",
              "      <td>29</td>\n",
              "      <td>In</td>\n",
              "    </tr>\n",
              "    <tr>\n",
              "      <th>1</th>\n",
              "      <td>__export__.temp_log_196131_7bca51bc</td>\n",
              "      <td>Room Admin</td>\n",
              "      <td>08-12-2018 09:30</td>\n",
              "      <td>29</td>\n",
              "      <td>In</td>\n",
              "    </tr>\n",
              "    <tr>\n",
              "      <th>2</th>\n",
              "      <td>__export__.temp_log_196127_522915e3</td>\n",
              "      <td>Room Admin</td>\n",
              "      <td>08-12-2018 09:29</td>\n",
              "      <td>41</td>\n",
              "      <td>Out</td>\n",
              "    </tr>\n",
              "    <tr>\n",
              "      <th>3</th>\n",
              "      <td>__export__.temp_log_196128_be0919cf</td>\n",
              "      <td>Room Admin</td>\n",
              "      <td>08-12-2018 09:29</td>\n",
              "      <td>41</td>\n",
              "      <td>Out</td>\n",
              "    </tr>\n",
              "    <tr>\n",
              "      <th>4</th>\n",
              "      <td>__export__.temp_log_196126_d30b72fb</td>\n",
              "      <td>Room Admin</td>\n",
              "      <td>08-12-2018 09:29</td>\n",
              "      <td>31</td>\n",
              "      <td>In</td>\n",
              "    </tr>\n",
              "    <tr>\n",
              "      <th>5</th>\n",
              "      <td>__export__.temp_log_196125_b0fa0b41</td>\n",
              "      <td>Room Admin</td>\n",
              "      <td>08-12-2018 09:29</td>\n",
              "      <td>31</td>\n",
              "      <td>In</td>\n",
              "    </tr>\n",
              "    <tr>\n",
              "      <th>6</th>\n",
              "      <td>__export__.temp_log_196121_01544d45</td>\n",
              "      <td>Room Admin</td>\n",
              "      <td>08-12-2018 09:28</td>\n",
              "      <td>29</td>\n",
              "      <td>In</td>\n",
              "    </tr>\n",
              "    <tr>\n",
              "      <th>7</th>\n",
              "      <td>__export__.temp_log_196122_f8b80a9f</td>\n",
              "      <td>Room Admin</td>\n",
              "      <td>08-12-2018 09:28</td>\n",
              "      <td>29</td>\n",
              "      <td>In</td>\n",
              "    </tr>\n",
              "    <tr>\n",
              "      <th>8</th>\n",
              "      <td>__export__.temp_log_196111_6b7a0848</td>\n",
              "      <td>Room Admin</td>\n",
              "      <td>08-12-2018 09:26</td>\n",
              "      <td>29</td>\n",
              "      <td>In</td>\n",
              "    </tr>\n",
              "    <tr>\n",
              "      <th>9</th>\n",
              "      <td>__export__.temp_log_196112_e134aebd</td>\n",
              "      <td>Room Admin</td>\n",
              "      <td>08-12-2018 09:26</td>\n",
              "      <td>29</td>\n",
              "      <td>In</td>\n",
              "    </tr>\n",
              "    <tr>\n",
              "      <th>10</th>\n",
              "      <td>__export__.temp_log_196108_4a983c7e</td>\n",
              "      <td>Room Admin</td>\n",
              "      <td>08-12-2018 09:25</td>\n",
              "      <td>42</td>\n",
              "      <td>Out</td>\n",
              "    </tr>\n",
              "    <tr>\n",
              "      <th>11</th>\n",
              "      <td>__export__.temp_log_196108_4a983c7e</td>\n",
              "      <td>Room Admin</td>\n",
              "      <td>08-12-2018 09:25</td>\n",
              "      <td>42</td>\n",
              "      <td>Out</td>\n",
              "    </tr>\n",
              "    <tr>\n",
              "      <th>12</th>\n",
              "      <td>__export__.temp_log_196101_d5ec7633</td>\n",
              "      <td>Room Admin</td>\n",
              "      <td>08-12-2018 09:24</td>\n",
              "      <td>29</td>\n",
              "      <td>In</td>\n",
              "    </tr>\n",
              "    <tr>\n",
              "      <th>13</th>\n",
              "      <td>__export__.temp_log_196099_3b8ef67b</td>\n",
              "      <td>Room Admin</td>\n",
              "      <td>08-12-2018 09:24</td>\n",
              "      <td>29</td>\n",
              "      <td>In</td>\n",
              "    </tr>\n",
              "    <tr>\n",
              "      <th>14</th>\n",
              "      <td>__export__.temp_log_196095_788b2c27</td>\n",
              "      <td>Room Admin</td>\n",
              "      <td>08-12-2018 09:22</td>\n",
              "      <td>29</td>\n",
              "      <td>In</td>\n",
              "    </tr>\n",
              "  </tbody>\n",
              "</table>\n",
              "</div>\n",
              "      <button class=\"colab-df-convert\" onclick=\"convertToInteractive('df-41d8ff7e-1e9e-4ca9-82cc-0a435973fe80')\"\n",
              "              title=\"Convert this dataframe to an interactive table.\"\n",
              "              style=\"display:none;\">\n",
              "        \n",
              "  <svg xmlns=\"http://www.w3.org/2000/svg\" height=\"24px\"viewBox=\"0 0 24 24\"\n",
              "       width=\"24px\">\n",
              "    <path d=\"M0 0h24v24H0V0z\" fill=\"none\"/>\n",
              "    <path d=\"M18.56 5.44l.94 2.06.94-2.06 2.06-.94-2.06-.94-.94-2.06-.94 2.06-2.06.94zm-11 1L8.5 8.5l.94-2.06 2.06-.94-2.06-.94L8.5 2.5l-.94 2.06-2.06.94zm10 10l.94 2.06.94-2.06 2.06-.94-2.06-.94-.94-2.06-.94 2.06-2.06.94z\"/><path d=\"M17.41 7.96l-1.37-1.37c-.4-.4-.92-.59-1.43-.59-.52 0-1.04.2-1.43.59L10.3 9.45l-7.72 7.72c-.78.78-.78 2.05 0 2.83L4 21.41c.39.39.9.59 1.41.59.51 0 1.02-.2 1.41-.59l7.78-7.78 2.81-2.81c.8-.78.8-2.07 0-2.86zM5.41 20L4 18.59l7.72-7.72 1.47 1.35L5.41 20z\"/>\n",
              "  </svg>\n",
              "      </button>\n",
              "      \n",
              "  <style>\n",
              "    .colab-df-container {\n",
              "      display:flex;\n",
              "      flex-wrap:wrap;\n",
              "      gap: 12px;\n",
              "    }\n",
              "\n",
              "    .colab-df-convert {\n",
              "      background-color: #E8F0FE;\n",
              "      border: none;\n",
              "      border-radius: 50%;\n",
              "      cursor: pointer;\n",
              "      display: none;\n",
              "      fill: #1967D2;\n",
              "      height: 32px;\n",
              "      padding: 0 0 0 0;\n",
              "      width: 32px;\n",
              "    }\n",
              "\n",
              "    .colab-df-convert:hover {\n",
              "      background-color: #E2EBFA;\n",
              "      box-shadow: 0px 1px 2px rgba(60, 64, 67, 0.3), 0px 1px 3px 1px rgba(60, 64, 67, 0.15);\n",
              "      fill: #174EA6;\n",
              "    }\n",
              "\n",
              "    [theme=dark] .colab-df-convert {\n",
              "      background-color: #3B4455;\n",
              "      fill: #D2E3FC;\n",
              "    }\n",
              "\n",
              "    [theme=dark] .colab-df-convert:hover {\n",
              "      background-color: #434B5C;\n",
              "      box-shadow: 0px 1px 3px 1px rgba(0, 0, 0, 0.15);\n",
              "      filter: drop-shadow(0px 1px 2px rgba(0, 0, 0, 0.3));\n",
              "      fill: #FFFFFF;\n",
              "    }\n",
              "  </style>\n",
              "\n",
              "      <script>\n",
              "        const buttonEl =\n",
              "          document.querySelector('#df-41d8ff7e-1e9e-4ca9-82cc-0a435973fe80 button.colab-df-convert');\n",
              "        buttonEl.style.display =\n",
              "          google.colab.kernel.accessAllowed ? 'block' : 'none';\n",
              "\n",
              "        async function convertToInteractive(key) {\n",
              "          const element = document.querySelector('#df-41d8ff7e-1e9e-4ca9-82cc-0a435973fe80');\n",
              "          const dataTable =\n",
              "            await google.colab.kernel.invokeFunction('convertToInteractive',\n",
              "                                                     [key], {});\n",
              "          if (!dataTable) return;\n",
              "\n",
              "          const docLinkHtml = 'Like what you see? Visit the ' +\n",
              "            '<a target=\"_blank\" href=https://colab.research.google.com/notebooks/data_table.ipynb>data table notebook</a>'\n",
              "            + ' to learn more about interactive tables.';\n",
              "          element.innerHTML = '';\n",
              "          dataTable['output_type'] = 'display_data';\n",
              "          await google.colab.output.renderOutput(dataTable, element);\n",
              "          const docLink = document.createElement('div');\n",
              "          docLink.innerHTML = docLinkHtml;\n",
              "          element.appendChild(docLink);\n",
              "        }\n",
              "      </script>\n",
              "    </div>\n",
              "  </div>\n",
              "  "
            ],
            "text/plain": [
              "                                     id  room_id/id  ... temp  out/in\n",
              "0   __export__.temp_log_196134_bd201015  Room Admin  ...   29      In\n",
              "1   __export__.temp_log_196131_7bca51bc  Room Admin  ...   29      In\n",
              "2   __export__.temp_log_196127_522915e3  Room Admin  ...   41     Out\n",
              "3   __export__.temp_log_196128_be0919cf  Room Admin  ...   41     Out\n",
              "4   __export__.temp_log_196126_d30b72fb  Room Admin  ...   31      In\n",
              "5   __export__.temp_log_196125_b0fa0b41  Room Admin  ...   31      In\n",
              "6   __export__.temp_log_196121_01544d45  Room Admin  ...   29      In\n",
              "7   __export__.temp_log_196122_f8b80a9f  Room Admin  ...   29      In\n",
              "8   __export__.temp_log_196111_6b7a0848  Room Admin  ...   29      In\n",
              "9   __export__.temp_log_196112_e134aebd  Room Admin  ...   29      In\n",
              "10  __export__.temp_log_196108_4a983c7e  Room Admin  ...   42     Out\n",
              "11  __export__.temp_log_196108_4a983c7e  Room Admin  ...   42     Out\n",
              "12  __export__.temp_log_196101_d5ec7633  Room Admin  ...   29      In\n",
              "13  __export__.temp_log_196099_3b8ef67b  Room Admin  ...   29      In\n",
              "14  __export__.temp_log_196095_788b2c27  Room Admin  ...   29      In\n",
              "\n",
              "[15 rows x 5 columns]"
            ]
          },
          "metadata": {},
          "execution_count": 253
        }
      ]
    },
    {
      "cell_type": "markdown",
      "source": [
        "Transpose is really a nice function. Compared to above table, this one is easy to read and understand data."
      ],
      "metadata": {
        "id": "DtUaneXwwvEx"
      }
    },
    {
      "cell_type": "code",
      "source": [
        "df.head(15).T"
      ],
      "metadata": {
        "colab": {
          "base_uri": "https://localhost:8080/",
          "height": 266
        },
        "id": "D5f9ZYSCu34l",
        "outputId": "a3aab36a-9d65-4ba8-a8f3-a87f66736cf4"
      },
      "execution_count": 254,
      "outputs": [
        {
          "output_type": "execute_result",
          "data": {
            "text/html": [
              "\n",
              "  <div id=\"df-35e9f834-14fe-4616-b737-5439108e33eb\">\n",
              "    <div class=\"colab-df-container\">\n",
              "      <div>\n",
              "<style scoped>\n",
              "    .dataframe tbody tr th:only-of-type {\n",
              "        vertical-align: middle;\n",
              "    }\n",
              "\n",
              "    .dataframe tbody tr th {\n",
              "        vertical-align: top;\n",
              "    }\n",
              "\n",
              "    .dataframe thead th {\n",
              "        text-align: right;\n",
              "    }\n",
              "</style>\n",
              "<table border=\"1\" class=\"dataframe\">\n",
              "  <thead>\n",
              "    <tr style=\"text-align: right;\">\n",
              "      <th></th>\n",
              "      <th>0</th>\n",
              "      <th>1</th>\n",
              "      <th>2</th>\n",
              "      <th>3</th>\n",
              "      <th>4</th>\n",
              "      <th>5</th>\n",
              "      <th>6</th>\n",
              "      <th>7</th>\n",
              "      <th>8</th>\n",
              "      <th>9</th>\n",
              "      <th>10</th>\n",
              "      <th>11</th>\n",
              "      <th>12</th>\n",
              "      <th>13</th>\n",
              "      <th>14</th>\n",
              "    </tr>\n",
              "  </thead>\n",
              "  <tbody>\n",
              "    <tr>\n",
              "      <th>id</th>\n",
              "      <td>__export__.temp_log_196134_bd201015</td>\n",
              "      <td>__export__.temp_log_196131_7bca51bc</td>\n",
              "      <td>__export__.temp_log_196127_522915e3</td>\n",
              "      <td>__export__.temp_log_196128_be0919cf</td>\n",
              "      <td>__export__.temp_log_196126_d30b72fb</td>\n",
              "      <td>__export__.temp_log_196125_b0fa0b41</td>\n",
              "      <td>__export__.temp_log_196121_01544d45</td>\n",
              "      <td>__export__.temp_log_196122_f8b80a9f</td>\n",
              "      <td>__export__.temp_log_196111_6b7a0848</td>\n",
              "      <td>__export__.temp_log_196112_e134aebd</td>\n",
              "      <td>__export__.temp_log_196108_4a983c7e</td>\n",
              "      <td>__export__.temp_log_196108_4a983c7e</td>\n",
              "      <td>__export__.temp_log_196101_d5ec7633</td>\n",
              "      <td>__export__.temp_log_196099_3b8ef67b</td>\n",
              "      <td>__export__.temp_log_196095_788b2c27</td>\n",
              "    </tr>\n",
              "    <tr>\n",
              "      <th>room_id/id</th>\n",
              "      <td>Room Admin</td>\n",
              "      <td>Room Admin</td>\n",
              "      <td>Room Admin</td>\n",
              "      <td>Room Admin</td>\n",
              "      <td>Room Admin</td>\n",
              "      <td>Room Admin</td>\n",
              "      <td>Room Admin</td>\n",
              "      <td>Room Admin</td>\n",
              "      <td>Room Admin</td>\n",
              "      <td>Room Admin</td>\n",
              "      <td>Room Admin</td>\n",
              "      <td>Room Admin</td>\n",
              "      <td>Room Admin</td>\n",
              "      <td>Room Admin</td>\n",
              "      <td>Room Admin</td>\n",
              "    </tr>\n",
              "    <tr>\n",
              "      <th>noted_date</th>\n",
              "      <td>08-12-2018 09:30</td>\n",
              "      <td>08-12-2018 09:30</td>\n",
              "      <td>08-12-2018 09:29</td>\n",
              "      <td>08-12-2018 09:29</td>\n",
              "      <td>08-12-2018 09:29</td>\n",
              "      <td>08-12-2018 09:29</td>\n",
              "      <td>08-12-2018 09:28</td>\n",
              "      <td>08-12-2018 09:28</td>\n",
              "      <td>08-12-2018 09:26</td>\n",
              "      <td>08-12-2018 09:26</td>\n",
              "      <td>08-12-2018 09:25</td>\n",
              "      <td>08-12-2018 09:25</td>\n",
              "      <td>08-12-2018 09:24</td>\n",
              "      <td>08-12-2018 09:24</td>\n",
              "      <td>08-12-2018 09:22</td>\n",
              "    </tr>\n",
              "    <tr>\n",
              "      <th>temp</th>\n",
              "      <td>29</td>\n",
              "      <td>29</td>\n",
              "      <td>41</td>\n",
              "      <td>41</td>\n",
              "      <td>31</td>\n",
              "      <td>31</td>\n",
              "      <td>29</td>\n",
              "      <td>29</td>\n",
              "      <td>29</td>\n",
              "      <td>29</td>\n",
              "      <td>42</td>\n",
              "      <td>42</td>\n",
              "      <td>29</td>\n",
              "      <td>29</td>\n",
              "      <td>29</td>\n",
              "    </tr>\n",
              "    <tr>\n",
              "      <th>out/in</th>\n",
              "      <td>In</td>\n",
              "      <td>In</td>\n",
              "      <td>Out</td>\n",
              "      <td>Out</td>\n",
              "      <td>In</td>\n",
              "      <td>In</td>\n",
              "      <td>In</td>\n",
              "      <td>In</td>\n",
              "      <td>In</td>\n",
              "      <td>In</td>\n",
              "      <td>Out</td>\n",
              "      <td>Out</td>\n",
              "      <td>In</td>\n",
              "      <td>In</td>\n",
              "      <td>In</td>\n",
              "    </tr>\n",
              "  </tbody>\n",
              "</table>\n",
              "</div>\n",
              "      <button class=\"colab-df-convert\" onclick=\"convertToInteractive('df-35e9f834-14fe-4616-b737-5439108e33eb')\"\n",
              "              title=\"Convert this dataframe to an interactive table.\"\n",
              "              style=\"display:none;\">\n",
              "        \n",
              "  <svg xmlns=\"http://www.w3.org/2000/svg\" height=\"24px\"viewBox=\"0 0 24 24\"\n",
              "       width=\"24px\">\n",
              "    <path d=\"M0 0h24v24H0V0z\" fill=\"none\"/>\n",
              "    <path d=\"M18.56 5.44l.94 2.06.94-2.06 2.06-.94-2.06-.94-.94-2.06-.94 2.06-2.06.94zm-11 1L8.5 8.5l.94-2.06 2.06-.94-2.06-.94L8.5 2.5l-.94 2.06-2.06.94zm10 10l.94 2.06.94-2.06 2.06-.94-2.06-.94-.94-2.06-.94 2.06-2.06.94z\"/><path d=\"M17.41 7.96l-1.37-1.37c-.4-.4-.92-.59-1.43-.59-.52 0-1.04.2-1.43.59L10.3 9.45l-7.72 7.72c-.78.78-.78 2.05 0 2.83L4 21.41c.39.39.9.59 1.41.59.51 0 1.02-.2 1.41-.59l7.78-7.78 2.81-2.81c.8-.78.8-2.07 0-2.86zM5.41 20L4 18.59l7.72-7.72 1.47 1.35L5.41 20z\"/>\n",
              "  </svg>\n",
              "      </button>\n",
              "      \n",
              "  <style>\n",
              "    .colab-df-container {\n",
              "      display:flex;\n",
              "      flex-wrap:wrap;\n",
              "      gap: 12px;\n",
              "    }\n",
              "\n",
              "    .colab-df-convert {\n",
              "      background-color: #E8F0FE;\n",
              "      border: none;\n",
              "      border-radius: 50%;\n",
              "      cursor: pointer;\n",
              "      display: none;\n",
              "      fill: #1967D2;\n",
              "      height: 32px;\n",
              "      padding: 0 0 0 0;\n",
              "      width: 32px;\n",
              "    }\n",
              "\n",
              "    .colab-df-convert:hover {\n",
              "      background-color: #E2EBFA;\n",
              "      box-shadow: 0px 1px 2px rgba(60, 64, 67, 0.3), 0px 1px 3px 1px rgba(60, 64, 67, 0.15);\n",
              "      fill: #174EA6;\n",
              "    }\n",
              "\n",
              "    [theme=dark] .colab-df-convert {\n",
              "      background-color: #3B4455;\n",
              "      fill: #D2E3FC;\n",
              "    }\n",
              "\n",
              "    [theme=dark] .colab-df-convert:hover {\n",
              "      background-color: #434B5C;\n",
              "      box-shadow: 0px 1px 3px 1px rgba(0, 0, 0, 0.15);\n",
              "      filter: drop-shadow(0px 1px 2px rgba(0, 0, 0, 0.3));\n",
              "      fill: #FFFFFF;\n",
              "    }\n",
              "  </style>\n",
              "\n",
              "      <script>\n",
              "        const buttonEl =\n",
              "          document.querySelector('#df-35e9f834-14fe-4616-b737-5439108e33eb button.colab-df-convert');\n",
              "        buttonEl.style.display =\n",
              "          google.colab.kernel.accessAllowed ? 'block' : 'none';\n",
              "\n",
              "        async function convertToInteractive(key) {\n",
              "          const element = document.querySelector('#df-35e9f834-14fe-4616-b737-5439108e33eb');\n",
              "          const dataTable =\n",
              "            await google.colab.kernel.invokeFunction('convertToInteractive',\n",
              "                                                     [key], {});\n",
              "          if (!dataTable) return;\n",
              "\n",
              "          const docLinkHtml = 'Like what you see? Visit the ' +\n",
              "            '<a target=\"_blank\" href=https://colab.research.google.com/notebooks/data_table.ipynb>data table notebook</a>'\n",
              "            + ' to learn more about interactive tables.';\n",
              "          element.innerHTML = '';\n",
              "          dataTable['output_type'] = 'display_data';\n",
              "          await google.colab.output.renderOutput(dataTable, element);\n",
              "          const docLink = document.createElement('div');\n",
              "          docLink.innerHTML = docLinkHtml;\n",
              "          element.appendChild(docLink);\n",
              "        }\n",
              "      </script>\n",
              "    </div>\n",
              "  </div>\n",
              "  "
            ],
            "text/plain": [
              "                                             0   ...                                   14\n",
              "id          __export__.temp_log_196134_bd201015  ...  __export__.temp_log_196095_788b2c27\n",
              "room_id/id                           Room Admin  ...                           Room Admin\n",
              "noted_date                     08-12-2018 09:30  ...                     08-12-2018 09:22\n",
              "temp                                         29  ...                                   29\n",
              "out/in                                       In  ...                                   In\n",
              "\n",
              "[5 rows x 15 columns]"
            ]
          },
          "metadata": {},
          "execution_count": 254
        }
      ]
    },
    {
      "cell_type": "code",
      "source": [
        "df.isnull()"
      ],
      "metadata": {
        "colab": {
          "base_uri": "https://localhost:8080/",
          "height": 433
        },
        "id": "UiihLCR_MKOi",
        "outputId": "e8751bcb-4959-4b17-d9c8-dfa00e453659"
      },
      "execution_count": 255,
      "outputs": [
        {
          "output_type": "execute_result",
          "data": {
            "text/html": [
              "\n",
              "  <div id=\"df-0b46a737-9794-4906-8e7c-d6386d0f4a5e\">\n",
              "    <div class=\"colab-df-container\">\n",
              "      <div>\n",
              "<style scoped>\n",
              "    .dataframe tbody tr th:only-of-type {\n",
              "        vertical-align: middle;\n",
              "    }\n",
              "\n",
              "    .dataframe tbody tr th {\n",
              "        vertical-align: top;\n",
              "    }\n",
              "\n",
              "    .dataframe thead th {\n",
              "        text-align: right;\n",
              "    }\n",
              "</style>\n",
              "<table border=\"1\" class=\"dataframe\">\n",
              "  <thead>\n",
              "    <tr style=\"text-align: right;\">\n",
              "      <th></th>\n",
              "      <th>id</th>\n",
              "      <th>room_id/id</th>\n",
              "      <th>noted_date</th>\n",
              "      <th>temp</th>\n",
              "      <th>out/in</th>\n",
              "    </tr>\n",
              "  </thead>\n",
              "  <tbody>\n",
              "    <tr>\n",
              "      <th>0</th>\n",
              "      <td>False</td>\n",
              "      <td>False</td>\n",
              "      <td>False</td>\n",
              "      <td>False</td>\n",
              "      <td>False</td>\n",
              "    </tr>\n",
              "    <tr>\n",
              "      <th>1</th>\n",
              "      <td>False</td>\n",
              "      <td>False</td>\n",
              "      <td>False</td>\n",
              "      <td>False</td>\n",
              "      <td>False</td>\n",
              "    </tr>\n",
              "    <tr>\n",
              "      <th>2</th>\n",
              "      <td>False</td>\n",
              "      <td>False</td>\n",
              "      <td>False</td>\n",
              "      <td>False</td>\n",
              "      <td>False</td>\n",
              "    </tr>\n",
              "    <tr>\n",
              "      <th>3</th>\n",
              "      <td>False</td>\n",
              "      <td>False</td>\n",
              "      <td>False</td>\n",
              "      <td>False</td>\n",
              "      <td>False</td>\n",
              "    </tr>\n",
              "    <tr>\n",
              "      <th>4</th>\n",
              "      <td>False</td>\n",
              "      <td>False</td>\n",
              "      <td>False</td>\n",
              "      <td>False</td>\n",
              "      <td>False</td>\n",
              "    </tr>\n",
              "    <tr>\n",
              "      <th>...</th>\n",
              "      <td>...</td>\n",
              "      <td>...</td>\n",
              "      <td>...</td>\n",
              "      <td>...</td>\n",
              "      <td>...</td>\n",
              "    </tr>\n",
              "    <tr>\n",
              "      <th>97601</th>\n",
              "      <td>False</td>\n",
              "      <td>False</td>\n",
              "      <td>False</td>\n",
              "      <td>False</td>\n",
              "      <td>False</td>\n",
              "    </tr>\n",
              "    <tr>\n",
              "      <th>97602</th>\n",
              "      <td>False</td>\n",
              "      <td>False</td>\n",
              "      <td>False</td>\n",
              "      <td>False</td>\n",
              "      <td>False</td>\n",
              "    </tr>\n",
              "    <tr>\n",
              "      <th>97603</th>\n",
              "      <td>False</td>\n",
              "      <td>False</td>\n",
              "      <td>False</td>\n",
              "      <td>False</td>\n",
              "      <td>False</td>\n",
              "    </tr>\n",
              "    <tr>\n",
              "      <th>97604</th>\n",
              "      <td>False</td>\n",
              "      <td>False</td>\n",
              "      <td>False</td>\n",
              "      <td>False</td>\n",
              "      <td>False</td>\n",
              "    </tr>\n",
              "    <tr>\n",
              "      <th>97605</th>\n",
              "      <td>False</td>\n",
              "      <td>False</td>\n",
              "      <td>False</td>\n",
              "      <td>False</td>\n",
              "      <td>False</td>\n",
              "    </tr>\n",
              "  </tbody>\n",
              "</table>\n",
              "<p>97606 rows × 5 columns</p>\n",
              "</div>\n",
              "      <button class=\"colab-df-convert\" onclick=\"convertToInteractive('df-0b46a737-9794-4906-8e7c-d6386d0f4a5e')\"\n",
              "              title=\"Convert this dataframe to an interactive table.\"\n",
              "              style=\"display:none;\">\n",
              "        \n",
              "  <svg xmlns=\"http://www.w3.org/2000/svg\" height=\"24px\"viewBox=\"0 0 24 24\"\n",
              "       width=\"24px\">\n",
              "    <path d=\"M0 0h24v24H0V0z\" fill=\"none\"/>\n",
              "    <path d=\"M18.56 5.44l.94 2.06.94-2.06 2.06-.94-2.06-.94-.94-2.06-.94 2.06-2.06.94zm-11 1L8.5 8.5l.94-2.06 2.06-.94-2.06-.94L8.5 2.5l-.94 2.06-2.06.94zm10 10l.94 2.06.94-2.06 2.06-.94-2.06-.94-.94-2.06-.94 2.06-2.06.94z\"/><path d=\"M17.41 7.96l-1.37-1.37c-.4-.4-.92-.59-1.43-.59-.52 0-1.04.2-1.43.59L10.3 9.45l-7.72 7.72c-.78.78-.78 2.05 0 2.83L4 21.41c.39.39.9.59 1.41.59.51 0 1.02-.2 1.41-.59l7.78-7.78 2.81-2.81c.8-.78.8-2.07 0-2.86zM5.41 20L4 18.59l7.72-7.72 1.47 1.35L5.41 20z\"/>\n",
              "  </svg>\n",
              "      </button>\n",
              "      \n",
              "  <style>\n",
              "    .colab-df-container {\n",
              "      display:flex;\n",
              "      flex-wrap:wrap;\n",
              "      gap: 12px;\n",
              "    }\n",
              "\n",
              "    .colab-df-convert {\n",
              "      background-color: #E8F0FE;\n",
              "      border: none;\n",
              "      border-radius: 50%;\n",
              "      cursor: pointer;\n",
              "      display: none;\n",
              "      fill: #1967D2;\n",
              "      height: 32px;\n",
              "      padding: 0 0 0 0;\n",
              "      width: 32px;\n",
              "    }\n",
              "\n",
              "    .colab-df-convert:hover {\n",
              "      background-color: #E2EBFA;\n",
              "      box-shadow: 0px 1px 2px rgba(60, 64, 67, 0.3), 0px 1px 3px 1px rgba(60, 64, 67, 0.15);\n",
              "      fill: #174EA6;\n",
              "    }\n",
              "\n",
              "    [theme=dark] .colab-df-convert {\n",
              "      background-color: #3B4455;\n",
              "      fill: #D2E3FC;\n",
              "    }\n",
              "\n",
              "    [theme=dark] .colab-df-convert:hover {\n",
              "      background-color: #434B5C;\n",
              "      box-shadow: 0px 1px 3px 1px rgba(0, 0, 0, 0.15);\n",
              "      filter: drop-shadow(0px 1px 2px rgba(0, 0, 0, 0.3));\n",
              "      fill: #FFFFFF;\n",
              "    }\n",
              "  </style>\n",
              "\n",
              "      <script>\n",
              "        const buttonEl =\n",
              "          document.querySelector('#df-0b46a737-9794-4906-8e7c-d6386d0f4a5e button.colab-df-convert');\n",
              "        buttonEl.style.display =\n",
              "          google.colab.kernel.accessAllowed ? 'block' : 'none';\n",
              "\n",
              "        async function convertToInteractive(key) {\n",
              "          const element = document.querySelector('#df-0b46a737-9794-4906-8e7c-d6386d0f4a5e');\n",
              "          const dataTable =\n",
              "            await google.colab.kernel.invokeFunction('convertToInteractive',\n",
              "                                                     [key], {});\n",
              "          if (!dataTable) return;\n",
              "\n",
              "          const docLinkHtml = 'Like what you see? Visit the ' +\n",
              "            '<a target=\"_blank\" href=https://colab.research.google.com/notebooks/data_table.ipynb>data table notebook</a>'\n",
              "            + ' to learn more about interactive tables.';\n",
              "          element.innerHTML = '';\n",
              "          dataTable['output_type'] = 'display_data';\n",
              "          await google.colab.output.renderOutput(dataTable, element);\n",
              "          const docLink = document.createElement('div');\n",
              "          docLink.innerHTML = docLinkHtml;\n",
              "          element.appendChild(docLink);\n",
              "        }\n",
              "      </script>\n",
              "    </div>\n",
              "  </div>\n",
              "  "
            ],
            "text/plain": [
              "          id  room_id/id  noted_date   temp  out/in\n",
              "0      False       False       False  False   False\n",
              "1      False       False       False  False   False\n",
              "2      False       False       False  False   False\n",
              "3      False       False       False  False   False\n",
              "4      False       False       False  False   False\n",
              "...      ...         ...         ...    ...     ...\n",
              "97601  False       False       False  False   False\n",
              "97602  False       False       False  False   False\n",
              "97603  False       False       False  False   False\n",
              "97604  False       False       False  False   False\n",
              "97605  False       False       False  False   False\n",
              "\n",
              "[97606 rows x 5 columns]"
            ]
          },
          "metadata": {},
          "execution_count": 255
        }
      ]
    },
    {
      "cell_type": "markdown",
      "source": [
        "The function `isnull()` helps us find where in our dataset there are missing values. This is useful information as this is what we need to correct while data cleaning. As we can see in the table has a boolean data and all the value has `False`. If it has a value `True` then we will know that there is a missing value. Here, I do not see any `True` value in the table that means this table has a clean data to start with. "
      ],
      "metadata": {
        "id": "Kx32Iz41MZCE"
      }
    },
    {
      "cell_type": "markdown",
      "source": [
        "I am trying to convert the noted_date into DateTime which is in day-month-Year Hour:Minute format."
      ],
      "metadata": {
        "id": "VBqDRdtsxPbp"
      }
    },
    {
      "cell_type": "code",
      "source": [
        "df.info()"
      ],
      "metadata": {
        "colab": {
          "base_uri": "https://localhost:8080/"
        },
        "id": "Nh4_lMdZX6oK",
        "outputId": "5e2107cf-1d61-42ea-9163-1721d351b8d6"
      },
      "execution_count": 256,
      "outputs": [
        {
          "output_type": "stream",
          "name": "stdout",
          "text": [
            "<class 'pandas.core.frame.DataFrame'>\n",
            "RangeIndex: 97606 entries, 0 to 97605\n",
            "Data columns (total 5 columns):\n",
            " #   Column      Non-Null Count  Dtype \n",
            "---  ------      --------------  ----- \n",
            " 0   id          97606 non-null  object\n",
            " 1   room_id/id  97606 non-null  object\n",
            " 2   noted_date  97606 non-null  object\n",
            " 3   temp        97606 non-null  int64 \n",
            " 4   out/in      97606 non-null  object\n",
            "dtypes: int64(1), object(4)\n",
            "memory usage: 3.7+ MB\n"
          ]
        }
      ]
    },
    {
      "cell_type": "markdown",
      "source": [
        "Here `noted_date` is an object. "
      ],
      "metadata": {
        "id": "ALmKYJMbYJdO"
      }
    },
    {
      "cell_type": "code",
      "source": [
        "df.noted_date = pa.to_datetime(df.noted_date)\n",
        "df.noted_date"
      ],
      "metadata": {
        "colab": {
          "base_uri": "https://localhost:8080/"
        },
        "id": "3kw5Fs3bSO7v",
        "outputId": "e9789e82-8de8-4229-e5c1-d4f8bb4ba2db"
      },
      "execution_count": 257,
      "outputs": [
        {
          "output_type": "execute_result",
          "data": {
            "text/plain": [
              "0       2018-08-12 09:30:00\n",
              "1       2018-08-12 09:30:00\n",
              "2       2018-08-12 09:29:00\n",
              "3       2018-08-12 09:29:00\n",
              "4       2018-08-12 09:29:00\n",
              "                ...        \n",
              "97601   2018-07-28 07:07:00\n",
              "97602   2018-07-28 07:07:00\n",
              "97603   2018-07-28 07:06:00\n",
              "97604   2018-07-28 07:06:00\n",
              "97605   2018-07-28 07:06:00\n",
              "Name: noted_date, Length: 97606, dtype: datetime64[ns]"
            ]
          },
          "metadata": {},
          "execution_count": 257
        }
      ]
    },
    {
      "cell_type": "markdown",
      "source": [
        "We know that in the above table, the `noted_date` is an object but after using to_datetime(), it got converted into a `datetime64` object as shown below. "
      ],
      "metadata": {
        "id": "V2_naM7wX4ue"
      }
    },
    {
      "cell_type": "code",
      "source": [
        "df.info()"
      ],
      "metadata": {
        "colab": {
          "base_uri": "https://localhost:8080/"
        },
        "id": "oPTsodmIYf0I",
        "outputId": "1d7d5af8-fc53-40cb-8155-14eed18ac2d3"
      },
      "execution_count": 258,
      "outputs": [
        {
          "output_type": "stream",
          "name": "stdout",
          "text": [
            "<class 'pandas.core.frame.DataFrame'>\n",
            "RangeIndex: 97606 entries, 0 to 97605\n",
            "Data columns (total 5 columns):\n",
            " #   Column      Non-Null Count  Dtype         \n",
            "---  ------      --------------  -----         \n",
            " 0   id          97606 non-null  object        \n",
            " 1   room_id/id  97606 non-null  object        \n",
            " 2   noted_date  97606 non-null  datetime64[ns]\n",
            " 3   temp        97606 non-null  int64         \n",
            " 4   out/in      97606 non-null  object        \n",
            "dtypes: datetime64[ns](1), int64(1), object(3)\n",
            "memory usage: 3.7+ MB\n"
          ]
        }
      ]
    },
    {
      "cell_type": "code",
      "source": [
        "df.noted_date.agg(['min','max'])"
      ],
      "metadata": {
        "colab": {
          "base_uri": "https://localhost:8080/"
        },
        "id": "TAeHSU9QuxXY",
        "outputId": "3e782ccc-323f-40c2-db25-6bea8b1f2112"
      },
      "execution_count": 259,
      "outputs": [
        {
          "output_type": "execute_result",
          "data": {
            "text/plain": [
              "min   2018-01-11 00:06:00\n",
              "max   2018-12-10 23:55:00\n",
              "Name: noted_date, dtype: datetime64[ns]"
            ]
          },
          "metadata": {},
          "execution_count": 259
        }
      ]
    },
    {
      "cell_type": "markdown",
      "source": [
        "The minimum and maximum date and time are 2018-01-11 00:06:00 and 2018-12-10 23:55:00."
      ],
      "metadata": {
        "id": "4CzMG4QBvh3l"
      }
    },
    {
      "cell_type": "code",
      "source": [
        "(df.noted_date.shift()-df.noted_date).max()"
      ],
      "metadata": {
        "colab": {
          "base_uri": "https://localhost:8080/"
        },
        "id": "17s0amxNfHBg",
        "outputId": "874a4099-94c6-494a-f049-c011ed5c024d"
      },
      "execution_count": 260,
      "outputs": [
        {
          "output_type": "execute_result",
          "data": {
            "text/plain": [
              "Timedelta('242 days 01:15:00')"
            ]
          },
          "metadata": {},
          "execution_count": 260
        }
      ]
    },
    {
      "cell_type": "markdown",
      "source": [
        "The largest interval inbetween temperature check is 242 days 01:15:00. "
      ],
      "metadata": {
        "id": "EOdk4q_Vum4s"
      }
    },
    {
      "cell_type": "code",
      "source": [
        "df.noted_date.mean()"
      ],
      "metadata": {
        "colab": {
          "base_uri": "https://localhost:8080/"
        },
        "id": "k_9WQE2QfThL",
        "outputId": "d69a9e7b-8877-4a0c-e9d0-f911b74ee9ee"
      },
      "execution_count": 261,
      "outputs": [
        {
          "output_type": "execute_result",
          "data": {
            "text/plain": [
              "Timestamp('2018-09-18 23:04:02.697989888')"
            ]
          },
          "metadata": {},
          "execution_count": 261
        }
      ]
    },
    {
      "cell_type": "markdown",
      "source": [
        " The average datetime is 2018-09-18 23:04:02.697989888."
      ],
      "metadata": {
        "id": "qaafuBXFv7SX"
      }
    },
    {
      "cell_type": "code",
      "source": [
        "import matplotlib.pyplot as plt\n",
        "from datetime import datetime, timedelta\n",
        "from matplotlib import dates as mpl_dates\n",
        "import pandas as pd\n",
        "plt.style.use('seaborn')\n",
        "\n",
        "data = pd.read_csv('https://raw.githubusercontent.com/nurfnick/Data_Viz/main/IOT-temp.csv')\n",
        "data['noted_date'] = pd.to_datetime(data['noted_date'])\n",
        "data.sort_values('noted_date', inplace=True)\n",
        "start_date = data['noted_date']\n",
        "close = data['temp']\n",
        "plt.plot_date(start_date, close, linestyle='solid')\n",
        "plt.gcf().autofmt_xdate()\n",
        "date_format = mpl_dates.DateFormatter('%d-%m-%Y')\n",
        "plt.gca().xaxis.set_major_formatter(date_format)\n",
        "plt.tight_layout()\n",
        "plt.title('Graph')\n",
        "plt.xlabel('noted_date')\n",
        "plt.ylabel('temp')\n",
        "plt.show()"
      ],
      "metadata": {
        "colab": {
          "base_uri": "https://localhost:8080/",
          "height": 454
        },
        "id": "73Tv0PKV7BXq",
        "outputId": "6e99a614-381c-4f89-c28b-244ae31626a3"
      },
      "execution_count": 284,
      "outputs": [
        {
          "output_type": "display_data",
          "data": {
            "image/png": "[encoded data removed]",
            "text/plain": [
              "<Figure size 576x396 with 1 Axes>"
            ]
          },
          "metadata": {}
        }
      ]
    },
    {
      "cell_type": "markdown",
      "source": [
        "I though graphing it in a `time_series` would let me do the part 5 but it looks like I was wromg. i have also tried to use `loc` function but the problem is here the date format is different. It is harder than I have thought.\n",
        "\n",
        "Code is taken from the link:`https://saralgyaan.com/posts/plot-time-series-in-python-matplotlib-tutorial-chapter-8/`"
      ],
      "metadata": {
        "id": "DTZpo3Ws-mtf"
      }
    }
  ]
}