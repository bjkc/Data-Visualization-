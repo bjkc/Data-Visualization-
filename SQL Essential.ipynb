{
  "nbformat": 4,
  "nbformat_minor": 0,
  "metadata": {
    "colab": {
      "name": "Untitled2.ipynb",
      "provenance": [],
      "collapsed_sections": [],
      "authorship_tag": "ABX9TyO4lDn6LE8JQyap5ULCISRh",
      "include_colab_link": true
    },
    "kernelspec": {
      "name": "python3",
      "display_name": "Python 3"
    },
    "language_info": {
      "name": "python"
    }
  },
  "cells": [
    {
      "cell_type": "markdown",
      "metadata": {
        "id": "view-in-github",
        "colab_type": "text"
      },
      "source": [
        "<a href=\"https://colab.research.google.com/github/khatriprajwol/Data-Visualization-/blob/main/SQL%20Essential.ipynb\" target=\"_parent\"><img src=\"https://colab.research.google.com/assets/colab-badge.svg\" alt=\"Open In Colab\"/></a>"
      ]
    },
    {
      "cell_type": "markdown",
      "source": [
        "## SQL Essential"
      ],
      "metadata": {
        "id": "oGj_REI9jeRb"
      }
    },
    {
      "cell_type": "markdown",
      "source": [
        "In this project, I will be using the same data which I have used in the previous project. The data is about the 'austin_bikeshare.bikeshare_trips'."
      ],
      "metadata": {
        "id": "CbBFa7MvoPno"
      }
    },
    {
      "cell_type": "code",
      "source": [
        "from google.colab import auth\n",
        "auth.authenticate_user()\n",
        "print('Authenticated')"
      ],
      "metadata": {
        "id": "DI4BXmG8X6y_"
      },
      "execution_count": null,
      "outputs": []
    },
    {
      "cell_type": "markdown",
      "source": [
        "This code will is used to authorize the permission to use the data which included several process. "
      ],
      "metadata": {
        "id": "Aa6gCIWzn_HH"
      }
    },
    {
      "cell_type": "code",
      "source": [
        "%%bigquery --project data-base-1-338717\n",
        "SELECT \n",
        "  COUNT(*) as total_rows\n",
        "FROM `bigquery-public-data.austin_bikeshare.bikeshare_trips`"
      ],
      "metadata": {
        "id": "nYBHGyloYJgb"
      },
      "execution_count": null,
      "outputs": []
    },
    {
      "cell_type": "markdown",
      "source": [
        "It looks like there is total of 1424786 rows in the data set which is a lot. Lets have a look at the data and find out the attributes."
      ],
      "metadata": {
        "id": "J_4jf-DqnlM-"
      }
    },
    {
      "cell_type": "code",
      "source": [
        "%%bigquery --project data-base-1-338717\n",
        "SELECT *\n",
        "FROM `bigquery-public-data.austin_bikeshare.bikeshare_trips`\n",
        "LIMIT 15"
      ],
      "metadata": {
        "id": "d69v88ZC-wlR"
      },
      "execution_count": null,
      "outputs": []
    },
    {
      "cell_type": "markdown",
      "source": [
        "This input gives me only 15 rows even though it has total of 1424786 rows. That is really helpful to over view in a small table which beautifully presents the information. "
      ],
      "metadata": {
        "id": "Rg5rrp_PsoWX"
      }
    },
    {
      "cell_type": "code",
      "source": [
        "%%bigquery --project data-base-1-338717 df1\n",
        "SELECT \n",
        "  (duration_minutes), (start_station_name)\n",
        "FROM `bigquery-public-data.austin_bikeshare.bikeshare_trips`"
      ],
      "metadata": {
        "id": "PSXpsytDuv4R"
      },
      "execution_count": null,
      "outputs": []
    },
    {
      "cell_type": "code",
      "source": [
        "df1[1:30]"
      ],
      "metadata": {
        "id": "EMxU0bStvKuB"
      },
      "execution_count": null,
      "outputs": []
    },
    {
      "cell_type": "code",
      "source": [
        "df1.plot(kind='bar')"
      ],
      "metadata": {
        "id": "NXxVw7q-oR3i"
      },
      "execution_count": null,
      "outputs": []
    },
    {
      "cell_type": "code",
      "source": [
        "%%bigquery --project data-base-1-338717\n",
        "SELECT SUM(duration_minutes) as Total_Duration_Minutes\n",
        "FROM `bigquery-public-data.austin_bikeshare.bikeshare_trips`"
      ],
      "metadata": {
        "id": "HCc4bl6JR4JU"
      },
      "execution_count": null,
      "outputs": []
    },
    {
      "cell_type": "markdown",
      "source": [
        "This value here is the total time from the starting point."
      ],
      "metadata": {
        "id": "2-pyWqzQSgGj"
      }
    },
    {
      "cell_type": "code",
      "source": [
        "%%bigquery --project data-base-1-338717 df2\n",
        "SELECT AVG(duration_minutes) as avg_time, start_station_name\n",
        "FROM `bigquery-public-data.austin_bikeshare.bikeshare_trips`\n",
        "GROUP BY start_station_name\n",
        "Order by avg_time"
      ],
      "metadata": {
        "id": "pvyLZ0TZn-R7"
      },
      "execution_count": null,
      "outputs": []
    },
    {
      "cell_type": "code",
      "source": [
        "df2[1:30]"
      ],
      "metadata": {
        "id": "m4tNZdN_oG-E"
      },
      "execution_count": null,
      "outputs": []
    },
    {
      "cell_type": "code",
      "source": [
        "df2.plot(kind='bar')"
      ],
      "metadata": {
        "id": "qWFxGtIsp3c9"
      },
      "execution_count": null,
      "outputs": []
    },
    {
      "cell_type": "markdown",
      "source": [
        ""
      ],
      "metadata": {
        "id": "24EG2gBb43_c"
      }
    },
    {
      "cell_type": "code",
      "source": [
        "%%bigquery --project data-base-1-338717\n",
        "SELECT AVG(duration_minutes) as duration_minutes\n",
        "FROM `bigquery-public-data.austin_bikeshare.bikeshare_trips` as table"
      ],
      "metadata": {
        "id": "YRAn8QnxtTH6"
      },
      "execution_count": null,
      "outputs": []
    },
    {
      "cell_type": "markdown",
      "source": [
        "30.870428 is the average *duration_minutes* for the trip. "
      ],
      "metadata": {
        "id": "DxQfXaYkuJua"
      }
    },
    {
      "cell_type": "code",
      "source": [
        "%%bigquery --project data-base-1-338717 df3\n",
        "SELECT COUNT(start_station_name) as No_Trip, start_station_name\n",
        "FROM `bigquery-public-data.austin_bikeshare.bikeshare_trips`\n",
        "GROUP BY start_station_name\n",
        "Order by No_Trip"
      ],
      "metadata": {
        "id": "KfM_5zltvqKj"
      },
      "execution_count": null,
      "outputs": []
    },
    {
      "cell_type": "code",
      "source": [
        "df3[1:30]"
      ],
      "metadata": {
        "id": "cNUxDYBOrHhQ"
      },
      "execution_count": null,
      "outputs": []
    },
    {
      "cell_type": "code",
      "source": [
        "df3.plot(kind='bar')"
      ],
      "metadata": {
        "id": "BwIAdJs0rf74"
      },
      "execution_count": null,
      "outputs": []
    },
    {
      "cell_type": "markdown",
      "source": [
        "This graph looks kind of messy however, it is very imformative than the table how the data is behaving. "
      ],
      "metadata": {
        "id": "geu7ESls4ocs"
      }
    }
  ]
}