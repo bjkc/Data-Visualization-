{
  "nbformat": 4,
  "nbformat_minor": 0,
  "metadata": {
    "colab": {
      "name": "Untitled27.ipynb",
      "provenance": [],
      "authorship_tag": "ABX9TyNDu9qwkxaDqSKNQy9U0Yvr",
      "include_colab_link": true
    },
    "kernelspec": {
      "name": "python3",
      "display_name": "Python 3"
    },
    "language_info": {
      "name": "python"
    }
  },
  "cells": [
    {
      "cell_type": "markdown",
      "metadata": {
        "id": "view-in-github",
        "colab_type": "text"
      },
      "source": [
        "<a href=\"https://colab.research.google.com/github/khatriprajwol/Data-Visualization-/blob/main/Graphical%20Sophistication.ipynb\" target=\"_parent\"><img src=\"https://colab.research.google.com/assets/colab-badge.svg\" alt=\"Open In Colab\"/></a>"
      ]
    },
    {
      "cell_type": "markdown",
      "source": [
        "#Graphical Sophistication "
      ],
      "metadata": {
        "id": "4FdjBLHUveI0"
      }
    },
    {
      "cell_type": "markdown",
      "source": [
        "[Number of Adult Frogs in a South Pond](https://i.ytimg.com/vi/RK0TSg6BU5s/maxresdefault.jpg)\n",
        "\n",
        "![FROG](https://i.ytimg.com/vi/RK0TSg6BU5s/maxresdefault.jpg)"
      ],
      "metadata": {
        "id": "H0-NjfHfYTWZ"
      }
    },
    {
      "cell_type": "markdown",
      "source": [
        "\n",
        "From the above graph we can tell that the size of frog in `May` is smaller than size of frog from `September`. But what is its message? What kind of story it is trying to tell to the reader? We can see only two picture of frog in a graph, however, it lacks necessary label and crucial information. As we can see there is a gap betweem `May` and `September`, what was the size of frog around `Jun` and `July`? Infact, it is hard to tell from the graph. Here the graph fails to do great job in presenting its intention clearly in the first place.  \n",
        "\n",
        "Let's see if it has any detection issuses? Well, it has a clear title with a reasonable size of graph, but the axis is not labeled at all. The title says the number of frogs, but all I can see is one frog in each month. The graph is not relevant at all. Also, In the `x-axis`, `May` and `September` is not differentiated properly. Instead of using frog it would have been appropriate to use a bar graph have made more sense. It is crystal clear that it has lot of issues of clarity of data pattern, labels, limited information and so on. \n",
        "\n",
        "To understand the graph people have to spend a lot of their time finding out what is going on and what it is trying to say. In addition it is not clear in many ways which can be considered as a use of poor visualization techniques. "
      ],
      "metadata": {
        "id": "V9xDZFZxeoE7"
      }
    },
    {
      "cell_type": "markdown",
      "source": [
        "[Policy Options](http://3.bp.blogspot.com/-WkfS-oGE7RA/UMFa3JLkZwI/AAAAAAAAAJc/NLxEc1GPQS8/s1600/Graph_mean_11-14-2012_example_for_blogpost.png)\n",
        "\n",
        "![](http://3.bp.blogspot.com/-WkfS-oGE7RA/UMFa3JLkZwI/AAAAAAAAAJc/NLxEc1GPQS8/s1600/Graph_mean_11-14-2012_example_for_blogpost.png)\n",
        "\n"
      ],
      "metadata": {
        "id": "I_4zIaBEY-5U"
      }
    },
    {
      "cell_type": "markdown",
      "source": [
        "\n",
        "In the above graph,  In my prespective we can easily tell the story and what is going on here. Looking in the title and graph we can have some idea at least unlike above graph. Also, in the above graph the title holds strong relationship between three types of policies. And the graph with different types of policy elaborates efficiently. Starting with `Current` which a person can know easily about their on going policy and at the same time they can compare it with `Alternative A` and `Alternative B`. As a customer if an agent present this graph to me I think I will be clear just by looking at it. \n",
        "\n",
        "Also, not only it provides all the necessary infomation, it also makes a `clearity a high priority`. A good graph has a well labeled axis. In this graph it is stated clearly that it has both axis labeled appropriately. It also has a source mentioned in it. In fact, all the units of variable measured are defined. With in a data it does comparison of two variable `Beneficiary` and `Non-beneficiary`. Bar graph is a good form to use in this case and I could not provide with other standard forms. \n",
        "\n",
        "Let's see if there are any issues with the graph. Here all the data points can be seen with proper label. In addition to that graph has label and it is colorful that can helps differentiating two policies with large fonts. I think it is easy for someone unfamiliar with data can easily interpret the graph.\n",
        "\n"
      ],
      "metadata": {
        "id": "apPloybRpcvL"
      }
    },
    {
      "cell_type": "markdown",
      "source": [
        "\n",
        "If we `compare two graphs` then clearly the graph in the bottom does a great job in presenting a story with a `great visualization techniques`. There are so many things need to consider while making a graph. In the above two graphs, the one in the bottom graph `stand alone` and outstander the one with frog in it."
      ],
      "metadata": {
        "id": "ZDlLRFV4vmc7"
      }
    }
  ]
}