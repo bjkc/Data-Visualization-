{
  "nbformat": 4,
  "nbformat_minor": 0,
  "metadata": {
    "colab": {
      "name": "Untitled36.ipynb",
      "provenance": [],
      "authorship_tag": "ABX9TyN6U351wnt8YY7e8+Gb/Gsi",
      "include_colab_link": true
    },
    "kernelspec": {
      "name": "python3",
      "display_name": "Python 3"
    },
    "language_info": {
      "name": "python"
    }
  },
  "cells": [
    {
      "cell_type": "markdown",
      "metadata": {
        "id": "view-in-github",
        "colab_type": "text"
      },
      "source": [
        "<a href=\"https://colab.research.google.com/github/khatriprajwol/Data-Visualization-/blob/main/Project%20Proposal.ipynb\" target=\"_parent\"><img src=\"https://colab.research.google.com/assets/colab-badge.svg\" alt=\"Open In Colab\"/></a>"
      ]
    },
    {
      "cell_type": "markdown",
      "source": [
        "\n",
        "#Stories\n",
        "\n",
        "https://www.adifferentleague.co.uk/2016/05/six-premier-league-teams-make-top-10-most-valuable-football-teams-west-ham-are-biggest-risers/\n",
        "\n",
        "\n",
        "\n",
        "![Picture1](https://www.adifferentleague.co.uk/wp-content/uploads/2016/05/juve-forbes2.jpg)\n",
        "\n",
        "[link](https://www.adifferentleague.co.uk/wp-content/uploads/2016/05/juve-forbes2.jpg)\n",
        "\n",
        "\n",
        "\n",
        "![Picture2](https://www.adifferentleague.co.uk/wp-content/uploads/2016/05/juve-forbes.jpg)\n",
        "\n",
        "[link](https://www.adifferentleague.co.uk/wp-content/uploads/2016/05/juve-forbes.jpg)\n",
        "\n",
        "\n",
        "I am not sure if it is the great visualization but, I am planning to recreate this as my project in upcoming days. I have listed three sources and news stories planning which I will be planning to put this in my top list. It is the topic I follow every day. \n",
        "\n",
        "https://www.espn.com/soccer/real-madrid/story/2869965/real-madrid-most-valuable-in-forbes-study-with-barcelona-second\n",
        "\n",
        "\n",
        "Forbes' top 10 world's most valuable football teams:\n",
        "\n",
        "1. Real Madrid: $3.645bn (£2.52billion)\n",
        "2. Barcelona: $3.549bn (£2.46bn)\n",
        "3. Manchester United: $3.317bn (£2.3bn)\n",
        "4. Bayern Munich: $2.678bn (£1.85bn)\n",
        "5. Arsenal: $2.017bn (£1.4bn)\n",
        "6. Manchester City: $1.921bn (£1.33bn)\n",
        "7. Chelsea: $1.661bn (£1.15bn)\n",
        "8. Liverpool: $1.548bn (£1.07bn)\n",
        "9. Juventus: $1.299bn (£900m)\n",
        "10. Tottenham: $1.017bn (£704m)\n",
        "\n",
        "\n",
        "This data is pulled from above [link](https://www.espn.com/soccer/real-madrid/story/2869965/real-madrid-most-valuable-in-forbes-study-with-barcelona-second).\n",
        "\n",
        "\n",
        "![Premier League Table](https://cdn.givemesport.com/wp-content/uploads/2022/01/20_12_31_f571247c1faddf1d54119a6af839db11_690.jpg)\n",
        "\n",
        "[link](https://cdn.givemesport.com/wp-content/uploads/2022/01/20_12_31_f571247c1faddf1d54119a6af839db11_690.jpg)\n"
      ],
      "metadata": {
        "id": "F_3Bg4Fp3Guo"
      }
    }
  ]
}